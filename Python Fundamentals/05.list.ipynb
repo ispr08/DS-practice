{
 "cells": [
  {
   "cell_type": "markdown",
   "id": "cfc7d03b",
   "metadata": {},
   "source": [
    "# Advance Data Types or Basic Data Structures\n",
    "**They can store `multiple values`.**\n",
    "\n",
    "**Mutable**   - lists, dictionaries, sets\n",
    "\n",
    "**Immutable** - like tuples, fundamental data types\n",
    "\n",
    "`allows duplicate data` - lists, tuples\n",
    "\n",
    "`does not allow duplicate data` - set, dictionaries(keys doen't allow but however values allow duplicates)\n",
    "\n",
    "\n",
    "**Data Structures in Python**\n",
    "\n",
    "- **Lists**: Ordered collection of items that can be of any data type, including strings, integers\n",
    "- **Tuples**: Ordered collection of items that can be of any data type, including strings,\n",
    "- **Dictionaries**: Unordered collection of key-value pairs\n",
    "- **Sets**: Unordered collection of unique items\n",
    "- **Also Stack, Graph, Tree, Queue**\n",
    "**Data Structures in Python**\n"
   ]
  },
  {
   "cell_type": "markdown",
   "id": "2c1402eb",
   "metadata": {},
   "source": [
    "# List\n",
    "- It is one of the most used data type in python and is very flexible\n",
    "- Each values inside the list called as item/element.\n",
    "- List is ordered collection of items which can be of any data type (strings, integers, floats\n",
    ", lists, dictionaries,tuples etc.) and are ordered and\n",
    "changeable.\n",
    "- List is denoted by square brackets `[]` and items are separated by comma(,).\n",
    "- List is mutable, means it can be changed after it is created within the same object.\n",
    "\n",
    "**Empty List**\n",
    "- To create empty list, you can use empty square brackets [] or list() to a variable."
   ]
  },
  {
   "cell_type": "code",
   "execution_count": 1,
   "id": "2515dcaf",
   "metadata": {},
   "outputs": [
    {
     "data": {
      "text/plain": [
       "[]"
      ]
     },
     "execution_count": 1,
     "metadata": {},
     "output_type": "execute_result"
    }
   ],
   "source": [
    "r=[] # we can use for later/future purpose\n",
    "r"
   ]
  },
  {
   "cell_type": "code",
   "execution_count": 2,
   "id": "88df7de2",
   "metadata": {},
   "outputs": [
    {
     "name": "stdout",
     "output_type": "stream",
     "text": [
      "<class 'list'>\n"
     ]
    },
    {
     "data": {
      "text/plain": [
       "[]"
      ]
     },
     "execution_count": 2,
     "metadata": {},
     "output_type": "execute_result"
    }
   ],
   "source": [
    "r1=list()\n",
    "print(type(r1))\n",
    "r1"
   ]
  },
  {
   "cell_type": "code",
   "execution_count": 3,
   "id": "b5cabc13",
   "metadata": {},
   "outputs": [
    {
     "name": "stdout",
     "output_type": "stream",
     "text": [
      "<class 'list'>\n"
     ]
    },
    {
     "data": {
      "text/plain": [
       "[1, 2, 3, 4, 5]"
      ]
     },
     "execution_count": 3,
     "metadata": {},
     "output_type": "execute_result"
    }
   ],
   "source": [
    "r2=[1,2,3,4,5]\n",
    "print(type(r2))\n",
    "r2\n"
   ]
  },
  {
   "cell_type": "code",
   "execution_count": 4,
   "id": "4bdd2cb2",
   "metadata": {},
   "outputs": [
    {
     "data": {
      "text/plain": [
       "['siva', 4, True, (2+4j), 8.6, 'siva', 4]"
      ]
     },
     "execution_count": 4,
     "metadata": {},
     "output_type": "execute_result"
    }
   ],
   "source": [
    "r3=['siva',4,True,2+4j,8.60,'siva',4] # allows duplicates\n",
    "r3"
   ]
  },
  {
   "cell_type": "code",
   "execution_count": 50,
   "id": "b7ec9522",
   "metadata": {},
   "outputs": [
    {
     "data": {
      "text/plain": [
       "['siva', 4, True, (2+4j), 8.6, 'siva', 4]"
      ]
     },
     "execution_count": 50,
     "metadata": {},
     "output_type": "execute_result"
    }
   ],
   "source": [
    "r3=list(('siva',4,True,2+4j,8.60,'siva',4)) # generally list() is accept only one argument \n",
    "r3"
   ]
  },
  {
   "cell_type": "markdown",
   "id": "b26ba6fa",
   "metadata": {},
   "source": [
    "**Nested List**\n",
    "- list in a list [[]]"
   ]
  },
  {
   "cell_type": "code",
   "execution_count": 6,
   "id": "81651f37",
   "metadata": {},
   "outputs": [
    {
     "data": {
      "text/plain": [
       "list"
      ]
     },
     "execution_count": 6,
     "metadata": {},
     "output_type": "execute_result"
    }
   ],
   "source": [
    "r4=['iragam',['reddy',48,64.28,'zephy'],'siva','parasad',1,2,3,4] # ['reddy',48,64.28,'zephy'] considered as single element\n",
    "type(r4)"
   ]
  },
  {
   "cell_type": "markdown",
   "id": "89e58649",
   "metadata": {},
   "source": [
    "**len(list_var) -** gives no.of items inside the list even the nested list,tuple,dict also considred as item"
   ]
  },
  {
   "cell_type": "code",
   "execution_count": 7,
   "id": "3df7a257",
   "metadata": {},
   "outputs": [
    {
     "data": {
      "text/plain": [
       "8"
      ]
     },
     "execution_count": 7,
     "metadata": {},
     "output_type": "execute_result"
    }
   ],
   "source": [
    "len(r4) # len fun don't count from 0 like indexing"
   ]
  },
  {
   "cell_type": "code",
   "execution_count": 8,
   "id": "68d74955",
   "metadata": {},
   "outputs": [
    {
     "data": {
      "text/plain": [
       "4"
      ]
     },
     "execution_count": 8,
     "metadata": {},
     "output_type": "execute_result"
    }
   ],
   "source": [
    "len(r4[1]) # len applicable for nested list also"
   ]
  },
  {
   "cell_type": "code",
   "execution_count": 9,
   "id": "63124918",
   "metadata": {},
   "outputs": [
    {
     "data": {
      "text/plain": [
       "6"
      ]
     },
     "execution_count": 9,
     "metadata": {},
     "output_type": "execute_result"
    }
   ],
   "source": [
    "len(r4[0]) # str also has len fun"
   ]
  },
  {
   "cell_type": "code",
   "execution_count": 10,
   "id": "67db8749",
   "metadata": {},
   "outputs": [
    {
     "data": {
      "text/plain": [
       "5"
      ]
     },
     "execution_count": 10,
     "metadata": {},
     "output_type": "execute_result"
    }
   ],
   "source": [
    "len(r4[1][0]) # str also has len fun"
   ]
  },
  {
   "cell_type": "code",
   "execution_count": 11,
   "id": "37867a67",
   "metadata": {},
   "outputs": [],
   "source": [
    "# len(r4[-1]) # TypeError: object of type 'int' has no len()"
   ]
  },
  {
   "cell_type": "markdown",
   "id": "98a2f259",
   "metadata": {},
   "source": [
    "## **list indexing**"
   ]
  },
  {
   "cell_type": "code",
   "execution_count": 51,
   "id": "7da6eb0e",
   "metadata": {},
   "outputs": [
    {
     "name": "stdout",
     "output_type": "stream",
     "text": [
      "iragam\n"
     ]
    },
    {
     "data": {
      "text/plain": [
       "str"
      ]
     },
     "execution_count": 51,
     "metadata": {},
     "output_type": "execute_result"
    }
   ],
   "source": [
    "print(r4[0])\n",
    "type(r4[0])"
   ]
  },
  {
   "cell_type": "code",
   "execution_count": 13,
   "id": "862792ad",
   "metadata": {},
   "outputs": [
    {
     "name": "stdout",
     "output_type": "stream",
     "text": [
      "r\n"
     ]
    },
    {
     "data": {
      "text/plain": [
       "str"
      ]
     },
     "execution_count": 13,
     "metadata": {},
     "output_type": "execute_result"
    }
   ],
   "source": [
    "print(r4[0][1]) # str also has indexing\n",
    "type(r4[0])"
   ]
  },
  {
   "cell_type": "code",
   "execution_count": 14,
   "id": "08395f1e",
   "metadata": {},
   "outputs": [
    {
     "name": "stdout",
     "output_type": "stream",
     "text": [
      "['reddy', 48, 64.28, 'zephy']\n"
     ]
    },
    {
     "data": {
      "text/plain": [
       "list"
      ]
     },
     "execution_count": 14,
     "metadata": {},
     "output_type": "execute_result"
    }
   ],
   "source": [
    "print(r4[1])\n",
    "type(r4[1])"
   ]
  },
  {
   "cell_type": "code",
   "execution_count": 15,
   "id": "9aedbba4",
   "metadata": {},
   "outputs": [
    {
     "name": "stdout",
     "output_type": "stream",
     "text": [
      "reddy\n"
     ]
    },
    {
     "data": {
      "text/plain": [
       "str"
      ]
     },
     "execution_count": 15,
     "metadata": {},
     "output_type": "execute_result"
    }
   ],
   "source": [
    "print(r4[1][0]) # we access the index of inside list\n",
    "type(r4[1][0])"
   ]
  },
  {
   "cell_type": "code",
   "execution_count": 16,
   "id": "970c354d",
   "metadata": {},
   "outputs": [
    {
     "name": "stdout",
     "output_type": "stream",
     "text": [
      "e\n"
     ]
    },
    {
     "data": {
      "text/plain": [
       "str"
      ]
     },
     "execution_count": 16,
     "metadata": {},
     "output_type": "execute_result"
    }
   ],
   "source": [
    "print(r4[1][0][1]) # str in nested list also has indexing \n",
    "type(r4[1][0])"
   ]
  },
  {
   "cell_type": "code",
   "execution_count": 17,
   "id": "b6e76a03",
   "metadata": {},
   "outputs": [
    {
     "name": "stdout",
     "output_type": "stream",
     "text": [
      "zephy\n"
     ]
    },
    {
     "data": {
      "text/plain": [
       "str"
      ]
     },
     "execution_count": 17,
     "metadata": {},
     "output_type": "execute_result"
    }
   ],
   "source": [
    "print(r4[1][-1]) # we access the index of inside list\n",
    "type(r4[1][-1])"
   ]
  },
  {
   "cell_type": "code",
   "execution_count": 18,
   "id": "d62b92a3",
   "metadata": {},
   "outputs": [
    {
     "name": "stdout",
     "output_type": "stream",
     "text": [
      "h\n",
      "h\n"
     ]
    }
   ],
   "source": [
    "# can you access 'h' from 'zephy'? yes, we can str() also subscriptable\n",
    "print(r4[1][-1][3])\n",
    "print(r4[1][3][-2])"
   ]
  },
  {
   "cell_type": "markdown",
   "id": "5954153c",
   "metadata": {},
   "source": [
    "## **slicing**\n",
    "- Same string rules applicable for list also\n",
    "- Make it `SSS` rule `[Start,Stop,Skip]`"
   ]
  },
  {
   "cell_type": "code",
   "execution_count": 19,
   "id": "36adc248",
   "metadata": {},
   "outputs": [],
   "source": [
    "r5=['ir',['reddy',48,64.28,'zephy'],'si','pa',1,2,3,4]"
   ]
  },
  {
   "cell_type": "code",
   "execution_count": 20,
   "id": "2d242e2c",
   "metadata": {},
   "outputs": [
    {
     "data": {
      "text/plain": [
       "['ir', ['reddy', 48, 64.28, 'zephy'], 'si', 'pa', 1]"
      ]
     },
     "execution_count": 20,
     "metadata": {},
     "output_type": "execute_result"
    }
   ],
   "source": [
    "r5[0:5] # stop index is exclusive mean it will not include the stop index element"
   ]
  },
  {
   "cell_type": "code",
   "execution_count": 21,
   "id": "c7ed02f2",
   "metadata": {},
   "outputs": [
    {
     "data": {
      "text/plain": [
       "[]"
      ]
     },
     "execution_count": 21,
     "metadata": {},
     "output_type": "execute_result"
    }
   ],
   "source": [
    "r5[5:0] # empty list, because start index is greater than stop index with default increment 1(positive)"
   ]
  },
  {
   "cell_type": "code",
   "execution_count": 22,
   "id": "e9741be1",
   "metadata": {},
   "outputs": [
    {
     "data": {
      "text/plain": [
       "[2, 1, 'pa', 'si', ['reddy', 48, 64.28, 'zephy']]"
      ]
     },
     "execution_count": 22,
     "metadata": {},
     "output_type": "execute_result"
    }
   ],
   "source": [
    "r5[5:0:-1] # step is -1(negative), so it will decrement the index, here nested list is also a normal element"
   ]
  },
  {
   "cell_type": "code",
   "execution_count": 23,
   "id": "1ac9c8f6",
   "metadata": {},
   "outputs": [
    {
     "data": {
      "text/plain": [
       "['reddy', 48, 64.28, 'zephy']"
      ]
     },
     "execution_count": 23,
     "metadata": {},
     "output_type": "execute_result"
    }
   ],
   "source": [
    "r5[1][0:4] # slicing for nested list also"
   ]
  },
  {
   "cell_type": "code",
   "execution_count": 24,
   "id": "48898d2d",
   "metadata": {},
   "outputs": [
    {
     "data": {
      "text/plain": [
       "['reddy', 64.28]"
      ]
     },
     "execution_count": 24,
     "metadata": {},
     "output_type": "execute_result"
    }
   ],
   "source": [
    "r5[1][0:4:2] # slicing for nested list also"
   ]
  },
  {
   "cell_type": "code",
   "execution_count": null,
   "id": "830e7c06",
   "metadata": {},
   "outputs": [
    {
     "data": {
      "text/plain": [
       "['zephy', 64.28, 48]"
      ]
     },
     "execution_count": 25,
     "metadata": {},
     "output_type": "execute_result"
    }
   ],
   "source": [
    "r5[1][5:0:-1] # in slicing no out of range error will come like indexing"
   ]
  },
  {
   "cell_type": "code",
   "execution_count": 52,
   "id": "2f7f0db5",
   "metadata": {},
   "outputs": [
    {
     "data": {
      "text/plain": [
       "['zephy', 64.28, 48, 'reddy']"
      ]
     },
     "execution_count": 52,
     "metadata": {},
     "output_type": "execute_result"
    }
   ],
   "source": [
    "r5[1][::-1] "
   ]
  },
  {
   "cell_type": "code",
   "execution_count": 59,
   "id": "1b3582df",
   "metadata": {},
   "outputs": [
    {
     "name": "stdout",
     "output_type": "stream",
     "text": [
      "['ir', (['reddy', 48, 64.28, 'zephy'], 'si', 'pa', 1, 2), 3, 4]\n",
      "length is 4\n",
      "type of r6[1] is <class 'tuple'>\n",
      "type of r6[1][0] is <class 'list'>\n",
      "type of r6[1][0][2] is <class 'float'>\n"
     ]
    }
   ],
   "source": [
    "# try to understand after knew the tuple concept, if you are at beginner level\n",
    "r6=['ir',(['reddy',48,64.28,'zephy'],'si','pa',1,2),3,4]\n",
    "print(r6)\n",
    "print(f\"length is {len(r6)}\")\n",
    "print(f'type of r6[1] is {type(r6[1])}')\n",
    "print(f'type of r6[1][0] is {type(r6[1][0])}')\n",
    "print(f\"type of r6[1][0][2] is {type(r6[1][0][2])}\")"
   ]
  },
  {
   "cell_type": "markdown",
   "id": "8084acca",
   "metadata": {},
   "source": [
    "## **list concatenation**\n",
    "- `list` can be only concatinate with `list`"
   ]
  },
  {
   "cell_type": "code",
   "execution_count": 73,
   "id": "d530f147",
   "metadata": {},
   "outputs": [
    {
     "name": "stdout",
     "output_type": "stream",
     "text": [
      "[1, 2, 3, 4, 'a', 'b', 'c', 'd']\n",
      "[1, 2, 3, 4, 'hi']\n",
      "2866126464128\n",
      "2866126464576\n"
     ]
    }
   ],
   "source": [
    "r7=[1,2,3,4]\n",
    "r8=['a','b','c','d']\n",
    "print(r7+r8) # here we just print dont store so it just shows output for view\n",
    "print(r7+['hi'])\n",
    "print(id(r7))\n",
    "print(id(r8))"
   ]
  },
  {
   "cell_type": "code",
   "execution_count": 74,
   "id": "da8d381b",
   "metadata": {},
   "outputs": [
    {
     "name": "stdout",
     "output_type": "stream",
     "text": [
      "[1, 2, 3, 4]\n"
     ]
    },
    {
     "data": {
      "text/plain": [
       "['a', 'b', 'c', 'd']"
      ]
     },
     "execution_count": 74,
     "metadata": {},
     "output_type": "execute_result"
    }
   ],
   "source": [
    "# using print is only for visual output, it dont perform any do's action.\n",
    "print(r7)\n",
    "r8"
   ]
  },
  {
   "cell_type": "code",
   "execution_count": 68,
   "id": "0c5d2a02",
   "metadata": {},
   "outputs": [
    {
     "name": "stdout",
     "output_type": "stream",
     "text": [
      "2866126397696\n",
      "[1, 2, 3, 4, 'a', 'b', 'c', 'd', 'a', 'b', 'c', 'd', 'a', 'b', 'c', 'd', 'a', 'b', 'c', 'd', 'a', 'b', 'c', 'd', 'a', 'b', 'c', 'd', 'a', 'b', 'c', 'd']\n"
     ]
    },
    {
     "data": {
      "text/plain": [
       "2866126414272"
      ]
     },
     "execution_count": 68,
     "metadata": {},
     "output_type": "execute_result"
    }
   ],
   "source": [
    "print(id(r7))\n",
    "r7=r7+r8 #? here we add two different objects into existed object so id will be changed also can't reuse frequently it adds duplicate data again & again. only methods don't changes object.\n",
    "print(r7)\n",
    "id(r7)"
   ]
  },
  {
   "cell_type": "code",
   "execution_count": 75,
   "id": "48f50ba9",
   "metadata": {},
   "outputs": [
    {
     "data": {
      "text/plain": [
       "[1, 2, 3, 4]"
      ]
     },
     "execution_count": 75,
     "metadata": {},
     "output_type": "execute_result"
    }
   ],
   "source": [
    "r7"
   ]
  },
  {
   "cell_type": "code",
   "execution_count": null,
   "id": "a59ee04a",
   "metadata": {},
   "outputs": [],
   "source": [
    "l1=[1,2]\n",
    "l2=['f', 'g']"
   ]
  },
  {
   "cell_type": "code",
   "execution_count": 100,
   "id": "9b00a24a",
   "metadata": {},
   "outputs": [
    {
     "name": "stdout",
     "output_type": "stream",
     "text": [
      "[1, 2, 'f', 'g', 'f', 'g', 'f', 'g', 'f', 'g', 'f', 'g', 'f', 'g']\n"
     ]
    }
   ],
   "source": [
    "l1=l1+l2\n",
    "print(l1)"
   ]
  },
  {
   "cell_type": "markdown",
   "id": "d1102636",
   "metadata": {},
   "source": [
    "## **List methods**\n",
    "- syntax - `list_var.method()`"
   ]
  },
  {
   "cell_type": "code",
   "execution_count": 30,
   "id": "c20338d3",
   "metadata": {},
   "outputs": [
    {
     "data": {
      "text/plain": [
       "2866111178496"
      ]
     },
     "execution_count": 30,
     "metadata": {},
     "output_type": "execute_result"
    }
   ],
   "source": [
    "r9=[10,20,30,40]\n",
    "id(r9)"
   ]
  },
  {
   "cell_type": "markdown",
   "id": "63a743e3",
   "metadata": {},
   "source": [
    "#### **list.append() -** append is used to add single element in the list at the end "
   ]
  },
  {
   "cell_type": "code",
   "execution_count": 31,
   "id": "8c0feb45",
   "metadata": {},
   "outputs": [
    {
     "name": "stdout",
     "output_type": "stream",
     "text": [
      "2866111178496\n",
      "[10, 20, 30, 40]\n",
      "[10, 20, 30, 40, 50]\n"
     ]
    },
    {
     "data": {
      "text/plain": [
       "2866111178496"
      ]
     },
     "execution_count": 31,
     "metadata": {},
     "output_type": "execute_result"
    }
   ],
   "source": [
    "print(id(r9))\n",
    "print(r9)\n",
    "r9.append(50) # append is a method, so it will not change the object, it will add the element to existed object\n",
    "print(r9)\n",
    "id(r9)"
   ]
  },
  {
   "cell_type": "code",
   "execution_count": 32,
   "id": "34ad6f1d",
   "metadata": {},
   "outputs": [
    {
     "name": "stdout",
     "output_type": "stream",
     "text": [
      "[10, 20, 30, 40, 50, [60, 70]]\n"
     ]
    },
    {
     "data": {
      "text/plain": [
       "2866111178496"
      ]
     },
     "execution_count": 32,
     "metadata": {},
     "output_type": "execute_result"
    }
   ],
   "source": [
    "r9.append([60,70]) # list in list\n",
    "print(r9)\n",
    "id(r9)"
   ]
  },
  {
   "cell_type": "code",
   "execution_count": 33,
   "id": "89af0907",
   "metadata": {},
   "outputs": [
    {
     "name": "stdout",
     "output_type": "stream",
     "text": [
      "[10, 20, 30, 40, 50, [60, 70], (80, 90)]\n"
     ]
    },
    {
     "data": {
      "text/plain": [
       "2866111178496"
      ]
     },
     "execution_count": 33,
     "metadata": {},
     "output_type": "execute_result"
    }
   ],
   "source": [
    "r9.append((80,90)) # tuple in list\n",
    "print(r9)\n",
    "id(r9)"
   ]
  },
  {
   "cell_type": "code",
   "execution_count": 34,
   "id": "80cd0813",
   "metadata": {},
   "outputs": [
    {
     "name": "stdout",
     "output_type": "stream",
     "text": [
      "[10, 20, 30, 40, 50, [60, 70], (80, 90), {'finale': 100}]\n"
     ]
    },
    {
     "data": {
      "text/plain": [
       "2866111178496"
      ]
     },
     "execution_count": 34,
     "metadata": {},
     "output_type": "execute_result"
    }
   ],
   "source": [
    "# after knew the dictionary you'll understand\n",
    "r9.append({'finale':100}) # dict in list\n",
    "print(r9)\n",
    "id(r9)"
   ]
  },
  {
   "cell_type": "markdown",
   "id": "a03f7266",
   "metadata": {},
   "source": [
    "#### **list.extend()**\n",
    "- is a method that adds multiple elements from an iterable (like a `list, tuple, or string`) to the end of the list as elements.\n",
    "\n",
    "- if you want to add single element each time then `list.append`, for multiple items `list.extend`"
   ]
  },
  {
   "cell_type": "code",
   "execution_count": 15,
   "id": "bc734e98",
   "metadata": {},
   "outputs": [
    {
     "name": "stdout",
     "output_type": "stream",
     "text": [
      "[10, 20, 30, 40, 50]\n"
     ]
    },
    {
     "data": {
      "text/plain": [
       "2052451598144"
      ]
     },
     "execution_count": 15,
     "metadata": {},
     "output_type": "execute_result"
    }
   ],
   "source": [
    "r10=[10, 20, 30, 40, 50]\n",
    "print(r10)\n",
    "id(r10)"
   ]
  },
  {
   "cell_type": "code",
   "execution_count": 16,
   "id": "fd4ac0d4",
   "metadata": {},
   "outputs": [
    {
     "name": "stdout",
     "output_type": "stream",
     "text": [
      "[10, 20, 30, 40, 50, 60, 70]\n"
     ]
    },
    {
     "data": {
      "text/plain": [
       "2052451598144"
      ]
     },
     "execution_count": 16,
     "metadata": {},
     "output_type": "execute_result"
    }
   ],
   "source": [
    "r10.extend([60,70])\n",
    "print(r10)\n",
    "id(r10)"
   ]
  },
  {
   "cell_type": "code",
   "execution_count": 17,
   "id": "62bbe232",
   "metadata": {},
   "outputs": [
    {
     "name": "stdout",
     "output_type": "stream",
     "text": [
      "[10, 20, 30, 40, 50, 60, 70, 80, 90]\n"
     ]
    },
    {
     "data": {
      "text/plain": [
       "2052451598144"
      ]
     },
     "execution_count": 17,
     "metadata": {},
     "output_type": "execute_result"
    }
   ],
   "source": [
    "r10.extend((80,90))\n",
    "print(r10)\n",
    "id(r10)"
   ]
  },
  {
   "cell_type": "code",
   "execution_count": 38,
   "id": "1481a728",
   "metadata": {},
   "outputs": [
    {
     "name": "stdout",
     "output_type": "stream",
     "text": [
      "[10, 20, 30, 40, 50, 60, 70, 80, 90, 'finale']\n"
     ]
    },
    {
     "data": {
      "text/plain": [
       "2866111175360"
      ]
     },
     "execution_count": 38,
     "metadata": {},
     "output_type": "execute_result"
    }
   ],
   "source": [
    "r10.extend({'finale':100}) # only keys will be added to the list\n",
    "print(r10)\n",
    "id(r10)"
   ]
  },
  {
   "cell_type": "markdown",
   "id": "294aa85a",
   "metadata": {},
   "source": [
    "#### **list.insert() -** \n",
    "\n",
    "- insert a spcific order and list.insert(x,y) will add element 'y' at location 'x'(must be integer)\n",
    "\n",
    "- it just add the specific data at certain provided index, don't remove existing element"
   ]
  },
  {
   "cell_type": "code",
   "execution_count": 39,
   "id": "eec4763f",
   "metadata": {},
   "outputs": [
    {
     "name": "stdout",
     "output_type": "stream",
     "text": [
      "['a', 'b', 'c', 'd']\n"
     ]
    },
    {
     "data": {
      "text/plain": [
       "2866110616256"
      ]
     },
     "execution_count": 39,
     "metadata": {},
     "output_type": "execute_result"
    }
   ],
   "source": [
    "r11=['a','b','c','d']\n",
    "print(r11)\n",
    "id(r11)"
   ]
  },
  {
   "cell_type": "code",
   "execution_count": 40,
   "id": "be0db31b",
   "metadata": {},
   "outputs": [
    {
     "name": "stdout",
     "output_type": "stream",
     "text": [
      "['z', 'a', 'b', 'c', 'd']\n"
     ]
    },
    {
     "data": {
      "text/plain": [
       "2866110616256"
      ]
     },
     "execution_count": 40,
     "metadata": {},
     "output_type": "execute_result"
    }
   ],
   "source": [
    "r11.insert(0,'z') # it always push the element to the right side of the index\n",
    "print(r11)\n",
    "id(r11)"
   ]
  },
  {
   "cell_type": "code",
   "execution_count": 41,
   "id": "3a2710bb",
   "metadata": {},
   "outputs": [
    {
     "name": "stdout",
     "output_type": "stream",
     "text": [
      "['z', 'a', 'b', 'c', ['e', 'f'], 'd']\n"
     ]
    },
    {
     "data": {
      "text/plain": [
       "2866110616256"
      ]
     },
     "execution_count": 41,
     "metadata": {},
     "output_type": "execute_result"
    }
   ],
   "source": [
    "r11.insert(-1,['e','f']) # it always push the element to the right side of the index \n",
    "print(r11)\n",
    "id(r11)"
   ]
  },
  {
   "cell_type": "code",
   "execution_count": 42,
   "id": "db0c89bc",
   "metadata": {},
   "outputs": [
    {
     "name": "stdout",
     "output_type": "stream",
     "text": [
      "['z', 'a', 'b', 'c', ['e', 'f'], ('g', 'h'), 'd']\n"
     ]
    },
    {
     "data": {
      "text/plain": [
       "2866110616256"
      ]
     },
     "execution_count": 42,
     "metadata": {},
     "output_type": "execute_result"
    }
   ],
   "source": [
    "r11.insert(-1,('g','h'))\n",
    "print(r11)\n",
    "id(r11)"
   ]
  },
  {
   "cell_type": "markdown",
   "id": "a5278fe2",
   "metadata": {},
   "source": [
    "#### **list.remove()**\n",
    "\n",
    "- The **remove()** method removes the first occurrence of the `specified element` from the list."
   ]
  },
  {
   "cell_type": "code",
   "execution_count": 43,
   "id": "ce41fdc0",
   "metadata": {},
   "outputs": [
    {
     "name": "stdout",
     "output_type": "stream",
     "text": [
      "[10, 20, 30, 40, 50, 'a', 'b']\n"
     ]
    },
    {
     "data": {
      "text/plain": [
       "2866110771712"
      ]
     },
     "execution_count": 43,
     "metadata": {},
     "output_type": "execute_result"
    }
   ],
   "source": [
    "r12=[10, 20, 30, 40, 50,'a','b']\n",
    "print(r12)\n",
    "id(r12)"
   ]
  },
  {
   "cell_type": "code",
   "execution_count": 44,
   "id": "d7295434",
   "metadata": {},
   "outputs": [
    {
     "name": "stdout",
     "output_type": "stream",
     "text": [
      "[20, 30, 40, 50, 'a', 'b']\n"
     ]
    },
    {
     "data": {
      "text/plain": [
       "2866110771712"
      ]
     },
     "execution_count": 44,
     "metadata": {},
     "output_type": "execute_result"
    }
   ],
   "source": [
    "r12.remove(10)\n",
    "print(r12)\n",
    "id(r12)"
   ]
  },
  {
   "cell_type": "code",
   "execution_count": 45,
   "id": "13e62110",
   "metadata": {},
   "outputs": [
    {
     "name": "stdout",
     "output_type": "stream",
     "text": [
      "[20, 30, 40, 50, 'b']\n"
     ]
    }
   ],
   "source": [
    "r12.remove('a')\n",
    "print(r12)"
   ]
  },
  {
   "cell_type": "code",
   "execution_count": 18,
   "id": "4d11bae3",
   "metadata": {},
   "outputs": [],
   "source": [
    " #! r12.remove([30,40]) # only one element will be accepted in remove method, we can't remove multiple elements\n",
    " #! print(r12)\n",
    " #! id(r12)"
   ]
  },
  {
   "cell_type": "markdown",
   "id": "f29ab4d1",
   "metadata": {},
   "source": [
    "#### **list.pop() -** \n",
    "- to remove an item based on index number and by default it removes last item if we dont give any"
   ]
  },
  {
   "cell_type": "code",
   "execution_count": 19,
   "id": "702ea7fb",
   "metadata": {},
   "outputs": [
    {
     "name": "stdout",
     "output_type": "stream",
     "text": [
      "[10, 20, 30, 40, 60, 80, 70, 50]\n"
     ]
    },
    {
     "data": {
      "text/plain": [
       "2052452087360"
      ]
     },
     "execution_count": 19,
     "metadata": {},
     "output_type": "execute_result"
    }
   ],
   "source": [
    "r13=[10, 20, 30, 40, 60, 80, 70, 50]\n",
    "print(r13)\n",
    "id(r13)"
   ]
  },
  {
   "cell_type": "code",
   "execution_count": 20,
   "id": "3451fba9",
   "metadata": {},
   "outputs": [
    {
     "name": "stdout",
     "output_type": "stream",
     "text": [
      "[10, 20, 30, 40, 60, 80, 70]\n"
     ]
    },
    {
     "data": {
      "text/plain": [
       "2052452087360"
      ]
     },
     "execution_count": 20,
     "metadata": {},
     "output_type": "execute_result"
    }
   ],
   "source": [
    "r13.pop()\n",
    "print(r13)\n",
    "id(r13)"
   ]
  },
  {
   "cell_type": "code",
   "execution_count": 21,
   "id": "0f628239",
   "metadata": {},
   "outputs": [
    {
     "name": "stdout",
     "output_type": "stream",
     "text": [
      "[20, 30, 40, 60, 80, 70]\n"
     ]
    },
    {
     "data": {
      "text/plain": [
       "2052452087360"
      ]
     },
     "execution_count": 21,
     "metadata": {},
     "output_type": "execute_result"
    }
   ],
   "source": [
    "r13.pop(0)\n",
    "print(r13)\n",
    "id(r13)"
   ]
  },
  {
   "cell_type": "code",
   "execution_count": 22,
   "id": "2fcb17c1",
   "metadata": {},
   "outputs": [
    {
     "name": "stdout",
     "output_type": "stream",
     "text": [
      "[20, 40, 60, 80, 70]\n"
     ]
    },
    {
     "data": {
      "text/plain": [
       "2052452087360"
      ]
     },
     "execution_count": 22,
     "metadata": {},
     "output_type": "execute_result"
    }
   ],
   "source": [
    "r13.pop(1)\n",
    "print(r13)\n",
    "id(r13)"
   ]
  },
  {
   "cell_type": "code",
   "execution_count": 23,
   "id": "c46d44e6",
   "metadata": {},
   "outputs": [],
   "source": [
    "# r13.pop([1,4]) # only one element will be mentioned in pop method, we can't remove multiple elements\n",
    "# print(r13)\n",
    "# id(r13)"
   ]
  },
  {
   "cell_type": "code",
   "execution_count": 24,
   "id": "669cf215",
   "metadata": {},
   "outputs": [
    {
     "name": "stdout",
     "output_type": "stream",
     "text": [
      "[20, 40, 70]\n"
     ]
    },
    {
     "data": {
      "text/plain": [
       "2052452087360"
      ]
     },
     "execution_count": 24,
     "metadata": {},
     "output_type": "execute_result"
    }
   ],
   "source": [
    "del r13[2:4] # delete multiple elements by slicing if you want only 2,4 only then for loop is required\n",
    "print(r13)\n",
    "id(r13)"
   ]
  },
  {
   "cell_type": "code",
   "execution_count": 26,
   "id": "f06e4ffa",
   "metadata": {},
   "outputs": [
    {
     "name": "stdout",
     "output_type": "stream",
     "text": [
      "[10, 20, 30, 40, 60, 80, 70, 50]\n"
     ]
    }
   ],
   "source": [
    "r13=[10, 20, 30, 40, 60, 80, 70, 50]\n",
    "print(r13)"
   ]
  },
  {
   "cell_type": "code",
   "execution_count": 28,
   "id": "14e24d96",
   "metadata": {},
   "outputs": [
    {
     "name": "stdout",
     "output_type": "stream",
     "text": [
      "[10, 20, 60, 70]\n"
     ]
    },
    {
     "data": {
      "text/plain": [
       "2052467103232"
      ]
     },
     "execution_count": 28,
     "metadata": {},
     "output_type": "execute_result"
    }
   ],
   "source": [
    "# if you want only 2,4 only then for loop is required\n",
    "for i in [2,4]: #? don't confuse after first loop the index pattern will be changed so it will not delete the 4th index it will deletes 5th index.\n",
    "    del r13[i]\n",
    "    # r13.pop(i)\n",
    "print(r13)\n",
    "id(r13)"
   ]
  },
  {
   "cell_type": "markdown",
   "id": "3dda43fe",
   "metadata": {},
   "source": [
    "#### **list.clear**\n",
    "- clear all elements in a list and returns empty list"
   ]
  },
  {
   "cell_type": "code",
   "execution_count": null,
   "id": "c984156d",
   "metadata": {},
   "outputs": [
    {
     "name": "stdout",
     "output_type": "stream",
     "text": [
      "['a', 'b', 'c', 'd', 1, 2, 3, 4]\n"
     ]
    },
    {
     "data": {
      "text/plain": [
       "2950837124352"
      ]
     },
     "execution_count": 108,
     "metadata": {},
     "output_type": "execute_result"
    }
   ],
   "source": [
    "r14=['a','b','c','d',1,2,3,4]\n",
    "print(r14)\n",
    "id(r14)"
   ]
  },
  {
   "cell_type": "code",
   "execution_count": null,
   "id": "937df9ed",
   "metadata": {},
   "outputs": [
    {
     "name": "stdout",
     "output_type": "stream",
     "text": [
      "[]\n"
     ]
    },
    {
     "data": {
      "text/plain": [
       "2950837124352"
      ]
     },
     "execution_count": 109,
     "metadata": {},
     "output_type": "execute_result"
    }
   ],
   "source": [
    "r14.clear()\n",
    "print(r14)\n",
    "id(r14)"
   ]
  },
  {
   "cell_type": "markdown",
   "id": "7d74993b",
   "metadata": {},
   "source": [
    "#### **list.sort()**\n",
    "- by default it will change from `ascending order to descending order`\n",
    "- for desceding to ascending order `list.sort(reverse=True)`\n",
    "- list can be only either in `numeric` or `non-numeric`\n",
    "- if list contains both `numeric` and `non-numeric` then it will throw an error"
   ]
  },
  {
   "cell_type": "code",
   "execution_count": null,
   "id": "7577489e",
   "metadata": {},
   "outputs": [
    {
     "name": "stdout",
     "output_type": "stream",
     "text": [
      "[1, 20, 4.2, 8, 5, 6]\n"
     ]
    },
    {
     "data": {
      "text/plain": [
       "2950834940096"
      ]
     },
     "execution_count": 113,
     "metadata": {},
     "output_type": "execute_result"
    }
   ],
   "source": [
    "r15=[1,20,4.2,8,5,6]\n",
    "print(r15)\n",
    "id(r15)"
   ]
  },
  {
   "cell_type": "code",
   "execution_count": null,
   "id": "052693e1",
   "metadata": {},
   "outputs": [
    {
     "name": "stdout",
     "output_type": "stream",
     "text": [
      "[1, 4.2, 5, 6, 8, 20]\n"
     ]
    },
    {
     "data": {
      "text/plain": [
       "2950834940096"
      ]
     },
     "execution_count": 114,
     "metadata": {},
     "output_type": "execute_result"
    }
   ],
   "source": [
    "r15.sort()\n",
    "print(r15)\n",
    "id(r15)"
   ]
  },
  {
   "cell_type": "code",
   "execution_count": null,
   "id": "ffd2dc9e",
   "metadata": {},
   "outputs": [
    {
     "name": "stdout",
     "output_type": "stream",
     "text": [
      "['A', 'S', 'a', 'i', 's', 'v']\n"
     ]
    }
   ],
   "source": [
    "r16=['s','S','i','v','A','a'] # it takes ASCII values for sorting A-97 to Z-122(first preference capital), a-65 to z-90(second preference small)\n",
    "r16.sort()\n",
    "print(r16)"
   ]
  },
  {
   "cell_type": "code",
   "execution_count": null,
   "id": "9f9a6da7",
   "metadata": {},
   "outputs": [
    {
     "name": "stdout",
     "output_type": "stream",
     "text": [
      "['Siva', 'Vanana', 'atom', 'ismart']\n"
     ]
    }
   ],
   "source": [
    "r17=['Siva','ismart','Vanana','atom'] # it will sort based on first letter of the each string\n",
    "r17.sort()\n",
    "print(r17)"
   ]
  },
  {
   "cell_type": "markdown",
   "id": "067e4008",
   "metadata": {},
   "source": [
    "**sorted(vars) -**  global fn"
   ]
  },
  {
   "cell_type": "code",
   "execution_count": null,
   "id": "a067f5e2",
   "metadata": {},
   "outputs": [
    {
     "name": "stdout",
     "output_type": "stream",
     "text": [
      "r18 is [2, 4, 3, 1]\n",
      "id of r18 is '2950836913280'\n",
      "[1, 2, 3, 4]\n",
      "r19 is '[1, 2, 3, 4]'\n"
     ]
    },
    {
     "data": {
      "text/plain": [
       "'id of r19 2950817896576'"
      ]
     },
     "execution_count": 131,
     "metadata": {},
     "output_type": "execute_result"
    }
   ],
   "source": [
    "# list.sort() is method of list\n",
    "# sorted() is function of python\n",
    "# list.sort() is inplace method 'inplace'=same object\n",
    "# sorted() is not inplace method\n",
    "# list.sort() is only for list\n",
    "# sorted() is for all iterable objects\n",
    "\n",
    "r18=[2,4,3,1]\n",
    "print(f\"r18 is {r18}\")\n",
    "print(f\"id of r18 is '{id(r18)}'\")\n",
    "print(sorted(r18))\n",
    "r19=sorted(r18) # we assign to another object so id will be changed\n",
    "print(f\"r19 is '{r19}'\")\n",
    "f\"id of r19 {id(r19)}\""
   ]
  },
  {
   "cell_type": "markdown",
   "id": "a2c8141c",
   "metadata": {},
   "source": [
    "#### **list.reverse()**\n",
    "- it will reverse the list by index order"
   ]
  },
  {
   "cell_type": "code",
   "execution_count": null,
   "id": "842a492c",
   "metadata": {},
   "outputs": [
    {
     "name": "stdout",
     "output_type": "stream",
     "text": [
      "[2, 4, 6, 8, ['a', 11], 'c', 'd', 'e', 'f']\n"
     ]
    },
    {
     "data": {
      "text/plain": [
       "2526830730432"
      ]
     },
     "execution_count": 13,
     "metadata": {},
     "output_type": "execute_result"
    }
   ],
   "source": [
    "r20=[2,4,6,8,['a',11],'c','d','e','f']\n",
    "print(r20)\n",
    "id(r20)"
   ]
  },
  {
   "cell_type": "code",
   "execution_count": null,
   "id": "51f1de5b",
   "metadata": {},
   "outputs": [
    {
     "name": "stdout",
     "output_type": "stream",
     "text": [
      "['f', 'e', 'd', 'c', ['a', 11], 8, 6, 4, 2]\n"
     ]
    },
    {
     "data": {
      "text/plain": [
       "2526830730432"
      ]
     },
     "execution_count": 16,
     "metadata": {},
     "output_type": "execute_result"
    }
   ],
   "source": [
    "r20.reverse()\n",
    "print(r20)\n",
    "id(r20)"
   ]
  },
  {
   "cell_type": "code",
   "execution_count": null,
   "id": "f9bd24fe",
   "metadata": {},
   "outputs": [
    {
     "data": {
      "text/plain": [
       "['f', 'e', 'd', 'c', ['a', 11], 8, 6, 4, 2]"
      ]
     },
     "execution_count": 15,
     "metadata": {},
     "output_type": "execute_result"
    }
   ],
   "source": [
    "r20[::-1] # it will not change in the object, it will just print the reverse order of the object"
   ]
  },
  {
   "cell_type": "markdown",
   "id": "3e8cbd05",
   "metadata": {},
   "source": [
    "#### **list.count() -** frequency of specified value in a list "
   ]
  },
  {
   "cell_type": "code",
   "execution_count": null,
   "id": "1d95e5fc",
   "metadata": {},
   "outputs": [
    {
     "name": "stdout",
     "output_type": "stream",
     "text": [
      "2\n"
     ]
    }
   ],
   "source": [
    "r21=[1,2,3,4,5,6,2,4,8,9,1]\n",
    "print(r21.count(4))"
   ]
  },
  {
   "cell_type": "code",
   "execution_count": null,
   "id": "1a434250",
   "metadata": {},
   "outputs": [
    {
     "name": "stdout",
     "output_type": "stream",
     "text": [
      "2\n"
     ]
    }
   ],
   "source": [
    "r22=['siva','prasad','siva','a','b','a','c',['a','b'],'w']\n",
    "print(r22.count('a'))"
   ]
  },
  {
   "cell_type": "code",
   "execution_count": null,
   "id": "01e94c16",
   "metadata": {},
   "outputs": [
    {
     "name": "stdout",
     "output_type": "stream",
     "text": [
      "4\n"
     ]
    }
   ],
   "source": [
    "# count chars in a string\n",
    "name=\"iragAmreddy siva prasad Reddy\"\n",
    "print(name.count('a'))"
   ]
  },
  {
   "cell_type": "markdown",
   "id": "da06c996",
   "metadata": {},
   "source": [
    "#### **list.copy()**     # shallow copy\n",
    "- shallow copy is like xerox copy\n",
    "- it copies the reference of the original list"
   ]
  },
  {
   "cell_type": "code",
   "execution_count": null,
   "id": "120014ab",
   "metadata": {},
   "outputs": [
    {
     "name": "stdout",
     "output_type": "stream",
     "text": [
      "[1, 2, 3, 4, 5]\n",
      "2950837212672\n"
     ]
    }
   ],
   "source": [
    "r23=[1,2,3,4,5]\n",
    "print(r23)\n",
    "print(id(r23))"
   ]
  },
  {
   "cell_type": "code",
   "execution_count": null,
   "id": "3f7ec7ee",
   "metadata": {},
   "outputs": [
    {
     "name": "stdout",
     "output_type": "stream",
     "text": [
      "[1, 2, 3, 4, 5]\n",
      "2950836873024\n"
     ]
    }
   ],
   "source": [
    "r24=r23.copy() # it creates another object and copy all the elements from existed object\n",
    "print(r24)\n",
    "print(id(r24))"
   ]
  },
  {
   "cell_type": "code",
   "execution_count": null,
   "id": "b67d3f72",
   "metadata": {},
   "outputs": [
    {
     "name": "stdout",
     "output_type": "stream",
     "text": [
      "r23 is '[1, 2, 3, 4, 5]'\n",
      "r24 is '[1, 2, 3, 4, 5, 6]'\n"
     ]
    }
   ],
   "source": [
    "r24.append(6) # everytime you execute you append item again and again\n",
    "print(f\"r23 is '{r23}'\")\n",
    "print(f\"r24 is '{r24}'\")"
   ]
  },
  {
   "cell_type": "code",
   "execution_count": null,
   "id": "03d339e9",
   "metadata": {},
   "outputs": [
    {
     "name": "stdout",
     "output_type": "stream",
     "text": [
      "[1, 2, 3, 4, 5, 6, 8]\n"
     ]
    }
   ],
   "source": [
    "r23.extend([6,8]) # everytime you execute cell everytime it extends same item\n",
    "print(r23)"
   ]
  },
  {
   "cell_type": "code",
   "execution_count": null,
   "id": "67a908a1",
   "metadata": {},
   "outputs": [],
   "source": []
  }
 ],
 "metadata": {
  "kernelspec": {
   "display_name": "base",
   "language": "python",
   "name": "python3"
  },
  "language_info": {
   "codemirror_mode": {
    "name": "ipython",
    "version": 3
   },
   "file_extension": ".py",
   "mimetype": "text/x-python",
   "name": "python",
   "nbconvert_exporter": "python",
   "pygments_lexer": "ipython3",
   "version": "3.12.3"
  }
 },
 "nbformat": 4,
 "nbformat_minor": 5
}
