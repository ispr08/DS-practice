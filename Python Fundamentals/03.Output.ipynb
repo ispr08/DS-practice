{
 "cells": [
  {
   "cell_type": "markdown",
   "id": "b69d8526-761c-4c83-9069-5d7ccef4a42a",
   "metadata": {},
   "source": [
    "# Python Output\n",
    "- In Python, we use the **print()** function to display output to the standard output (usually the console or terminal). It can be used to print text, variables, or the result of an expression."
   ]
  },
  {
   "cell_type": "code",
   "execution_count": 1,
   "id": "2dcd27d7-e7e5-4b81-b8f4-f981b5d7ff4e",
   "metadata": {},
   "outputs": [
    {
     "name": "stdout",
     "output_type": "stream",
     "text": [
      "Hello, World!\n"
     ]
    }
   ],
   "source": [
    "print(\"Hello, World!\")\n"
   ]
  },
  {
   "cell_type": "code",
   "execution_count": null,
   "id": "f087f3b3-9612-4966-b791-e1395d0b0984",
   "metadata": {},
   "outputs": [
    {
     "name": "stdout",
     "output_type": "stream",
     "text": [
      "Hello @ World\n",
      "Hello World@"
     ]
    }
   ],
   "source": [
    "print(\"Hello\", \"World\", sep=\" @ \") #? sep is a keyword argument that specifies the separator between the strings. The default separator is a space character.\n",
    "print(\"Hello\", \"World\", end=\"@\") #? end is a keyword argument that specifies the string that should be printed at the end of the output. The default value of the end argument is a newline character.\n"
   ]
  },
  {
   "cell_type": "code",
   "execution_count": 3,
   "id": "997fa6d6-f0c2-40f5-b40a-b8f6f79ad53c",
   "metadata": {},
   "outputs": [
    {
     "name": "stdout",
     "output_type": "stream",
     "text": [
      "Hello!World\n"
     ]
    }
   ],
   "source": [
    "print(\"Hello\", end=\"!\")\n",
    "print(\"World\")\n"
   ]
  },
  {
   "cell_type": "code",
   "execution_count": 4,
   "id": "0c134467-ff1a-4dbc-a280-3b30a446a100",
   "metadata": {},
   "outputs": [
    {
     "name": "stdout",
     "output_type": "stream",
     "text": [
      "Name: Siva Age: 20\n"
     ]
    }
   ],
   "source": [
    "name = \"Siva\"\n",
    "age = 20\n",
    "print(\"Name:\", name, \"Age:\", age)\n"
   ]
  },
  {
   "cell_type": "code",
   "execution_count": 13,
   "id": "e0d7e95a-9ffa-46cc-9c7e-1bfba8c5ed69",
   "metadata": {},
   "outputs": [
    {
     "name": "stdout",
     "output_type": "stream",
     "text": [
      "My name is Siva and I am 20 years old\n"
     ]
    }
   ],
   "source": [
    "# preferrable one\n",
    "\n",
    "name = \"Siva\"\n",
    "age = 20\n",
    "print (f\"My name is {name} and I am {age} years old\")\n"
   ]
  },
  {
   "cell_type": "code",
   "execution_count": 6,
   "id": "cfb38dfb-b581-4b7f-b44d-d4e84c2d3d0b",
   "metadata": {},
   "outputs": [
    {
     "name": "stdout",
     "output_type": "stream",
     "text": [
      "my id is: 48 and my name is: siva\n"
     ]
    }
   ],
   "source": [
    "id=48\n",
    "name='siva'\n",
    "\n",
    "print(\"my id is: {} and my name is: {}\".format(id,name))  "
   ]
  },
  {
   "cell_type": "markdown",
   "id": "80a4114c-bb57-4a8b-833b-5b9e513d69f4",
   "metadata": {},
   "source": [
    "# Errors"
   ]
  },
  {
   "cell_type": "code",
   "execution_count": 9,
   "id": "832d5519-e19d-4f43-8b72-c73cbe7d8182",
   "metadata": {},
   "outputs": [
    {
     "ename": "NameError",
     "evalue": "name 'rama' is not defined",
     "output_type": "error",
     "traceback": [
      "\u001b[1;31m---------------------------------------------------------------------------\u001b[0m",
      "\u001b[1;31mNameError\u001b[0m                                 Traceback (most recent call last)",
      "Cell \u001b[1;32mIn[9], line 1\u001b[0m\n\u001b[1;32m----> 1\u001b[0m \u001b[38;5;28mprint\u001b[39m(rama)\n",
      "\u001b[1;31mNameError\u001b[0m: name 'rama' is not defined"
     ]
    }
   ],
   "source": [
    "print(rama)"
   ]
  },
  {
   "cell_type": "code",
   "execution_count": 10,
   "id": "61c82585-8765-4c1c-9151-32f15594d0b9",
   "metadata": {},
   "outputs": [
    {
     "ename": "SyntaxError",
     "evalue": "invalid syntax. Perhaps you forgot a comma? (621396709.py, line 1)",
     "output_type": "error",
     "traceback": [
      "\u001b[1;36m  Cell \u001b[1;32mIn[10], line 1\u001b[1;36m\u001b[0m\n\u001b[1;33m    print('navin's \"laptop\"') # print('nvins\\'s \"laptop\"')\u001b[0m\n\u001b[1;37m          ^\u001b[0m\n\u001b[1;31mSyntaxError\u001b[0m\u001b[1;31m:\u001b[0m invalid syntax. Perhaps you forgot a comma?\n"
     ]
    }
   ],
   "source": [
    "print('navin's \"laptop\"') # print('nvins\\'s \"laptop\"')"
   ]
  },
  {
   "cell_type": "code",
   "execution_count": null,
   "id": "efa4c6a8-e59d-48d4-9dac-0c100a62cac5",
   "metadata": {},
   "outputs": [],
   "source": []
  }
 ],
 "metadata": {
  "kernelspec": {
   "display_name": "base",
   "language": "python",
   "name": "python3"
  },
  "language_info": {
   "codemirror_mode": {
    "name": "ipython",
    "version": 3
   },
   "file_extension": ".py",
   "mimetype": "text/x-python",
   "name": "python",
   "nbconvert_exporter": "python",
   "pygments_lexer": "ipython3",
   "version": "3.12.3"
  }
 },
 "nbformat": 4,
 "nbformat_minor": 5
}
