{
 "cells": [
  {
   "cell_type": "markdown",
   "metadata": {},
   "source": [
    "# **Operators**\n",
    "- These are some special characters or reserved keywords used to perform various operations on values.\n",
    "- Note: Only arithemetic operators, returns with value.\n",
    "        Remaining operators, return boolean value\n",
    "\n",
    "## **Operator Types**\n",
    "- **Arithmetic Operators**: Used for mathematical operations like addition, subtraction, multiplication, division, modulus\n",
    "- **Assignment Operators**: Used to assign a value to a variable\n",
    "- **Comparison Operators**: Used to compare values and return a *boolean result*\n",
    "- **Identity Operators**: identity operators are used to compare the memory locations of two objects, means same data or not.\n",
    "- **Membership Operators**: membership operators are used to check if a value is present in a sequence or not.\n",
    "- **String Operators**: Used to concatenate or compare strings\n",
    "- **Special Operators**: Used for various purposes like increment, decrement, etc.\n",
    "- **Logical Operators**: Used to combine multiple conditions and return a *boolean result*\n",
    "- **Bitwise Operators**: Used to perform operations on binary numbers\n",
    "\n",
    "\n",
    "\n",
    "### **Bitwise Operators**\n",
    "- **Bitwise AND**: `a & b`\n",
    "- **Bitwise OR**: `a | b`\n",
    "- **Bitwise XOR**: `a ^ b`\n",
    "- **Bitwise NOT**: `~a`\n",
    "### **String Operators**\n",
    "- **Concatenate**: `a + b`\n",
    "- **Compare**: `a == b`\n",
    "### **Special Operators**\n",
    "- **Increment**: `a++`\n",
    "- **Decrement**: `a--`"
   ]
  },
  {
   "cell_type": "markdown",
   "metadata": {},
   "source": [
    "### **Arithmetic Operators**\n",
    "- **Addition**: `a + b`\n",
    "- **Subtraction**: `a - b`\n",
    "- **Multiplication**: `a * b`\n",
    "- **Exponential**: `a**b`\n",
    "- **Division**: `a / b`\n",
    "- **Floor Division**: `a//b`\n",
    "- **Modulus**: `a % b`"
   ]
  },
  {
   "cell_type": "code",
   "execution_count": 2,
   "metadata": {},
   "outputs": [
    {
     "name": "stdout",
     "output_type": "stream",
     "text": [
      "16\n"
     ]
    }
   ],
   "source": [
    "# a + b\n",
    "a=4\n",
    "b=12\n",
    "c=a+b\n",
    "print(c)"
   ]
  },
  {
   "cell_type": "code",
   "execution_count": 1,
   "metadata": {},
   "outputs": [
    {
     "ename": "NameError",
     "evalue": "name 'c' is not defined",
     "output_type": "error",
     "traceback": [
      "\u001b[1;31m---------------------------------------------------------------------------\u001b[0m",
      "\u001b[1;31mNameError\u001b[0m                                 Traceback (most recent call last)",
      "Cell \u001b[1;32mIn[1], line 5\u001b[0m\n\u001b[0;32m      3\u001b[0m b1\u001b[38;5;241m=\u001b[39m\u001b[38;5;241m8\u001b[39m\n\u001b[0;32m      4\u001b[0m c1\u001b[38;5;241m=\u001b[39ma1\u001b[38;5;241m-\u001b[39mb1\n\u001b[1;32m----> 5\u001b[0m \u001b[38;5;28mprint\u001b[39m(c)\n",
      "\u001b[1;31mNameError\u001b[0m: name 'c' is not defined"
     ]
    }
   ],
   "source": [
    "# a-b\n",
    "a1=16\n",
    "b1=8\n",
    "c1=a1-b1\n",
    "print(c)"
   ]
  },
  {
   "cell_type": "code",
   "execution_count": null,
   "metadata": {},
   "outputs": [
    {
     "name": "stdout",
     "output_type": "stream",
     "text": [
      "20\n"
     ]
    }
   ],
   "source": [
    "# a*b or axb\n",
    "a2=4\n",
    "b2=5\n",
    "print(a2*b2)"
   ]
  },
  {
   "cell_type": "code",
   "execution_count": null,
   "metadata": {},
   "outputs": [
    {
     "name": "stdout",
     "output_type": "stream",
     "text": [
      "16\n"
     ]
    }
   ],
   "source": [
    "# a**b -->> exponential (power of)\n",
    "a3=4\n",
    "b3=2\n",
    "print(a3**b3)"
   ]
  },
  {
   "cell_type": "code",
   "execution_count": null,
   "metadata": {},
   "outputs": [
    {
     "name": "stdout",
     "output_type": "stream",
     "text": [
      "22.5\n"
     ]
    }
   ],
   "source": [
    "# a/b -->> quotient gives o/p in float()\n",
    "\n",
    "'''   2)45(22.5  # 22.5 is the quotient #(22.5) >> division(/) #(22) >> floor division(//)\n",
    "        44\n",
    "        ---\n",
    "         10  #  In programming it takes 'remainder' as '1' >> ( % )\n",
    "         10\n",
    "         ---\n",
    "         (0)   # 0 is the extended remainder\n",
    "'''\n",
    "\n",
    "\n",
    "\n",
    "\n",
    "a4=45\n",
    "b4=2\n",
    "print(a4/b4)"
   ]
  },
  {
   "cell_type": "code",
   "execution_count": null,
   "metadata": {},
   "outputs": [
    {
     "name": "stdout",
     "output_type": "stream",
     "text": [
      "22\n"
     ]
    }
   ],
   "source": [
    "# a//b -->> 'quotient' gives in int(a4/b4) also known as int division\n",
    "a4=45\n",
    "b4=2\n",
    "print(a4//b4)"
   ]
  },
  {
   "cell_type": "code",
   "execution_count": null,
   "metadata": {},
   "outputs": [
    {
     "name": "stdout",
     "output_type": "stream",
     "text": [
      "1\n"
     ]
    }
   ],
   "source": [
    "# a%b -->> gives remainder\n",
    "a5=45\n",
    "b5=2\n",
    "print(a5%b5)"
   ]
  },
  {
   "cell_type": "markdown",
   "metadata": {},
   "source": [
    "### **Assignment Operators**\n",
    "- **Assign**: `a = b`\n",
    "- **Add and Assign**: `a += b`\n",
    "- **Subtract and Assign**: `a -= b`\n",
    "- **Multiply and Assign**: `a *= b`\n",
    "- **Exponential and Assign**: `a **= b`\n",
    "- **Divide and Assign**: `a /= b`\n",
    "- **Floor Divide and Assign**: `a //= b`\n",
    "- **Modulus and Assign**: `a %= b`"
   ]
  },
  {
   "cell_type": "code",
   "execution_count": null,
   "metadata": {},
   "outputs": [
    {
     "name": "stdout",
     "output_type": "stream",
     "text": [
      "2\n"
     ]
    }
   ],
   "source": [
    "# a=b \n",
    "a6=46\n",
    "b6=2\n",
    "a6=b6 # it executes right side first, so it takes right side value(b6) and assign to 'a6'.\n",
    "print(a6)"
   ]
  },
  {
   "cell_type": "code",
   "execution_count": null,
   "metadata": {},
   "outputs": [
    {
     "name": "stdout",
     "output_type": "stream",
     "text": [
      "50\n",
      "2\n"
     ]
    }
   ],
   "source": [
    "# a+=b -->> a=a+b\n",
    "a7=48\n",
    "b7=2\n",
    "a7+=b7 # a7=a7+b7\n",
    "print(a7)\n",
    "print(b7)"
   ]
  },
  {
   "cell_type": "code",
   "execution_count": null,
   "metadata": {},
   "outputs": [
    {
     "name": "stdout",
     "output_type": "stream",
     "text": [
      "42\n"
     ]
    }
   ],
   "source": [
    "# a-=b -->> a=a-b\n",
    "a8=44\n",
    "b8=2\n",
    "a8-=b8 # a8=a8-b8\n",
    "print(a8)"
   ]
  },
  {
   "cell_type": "code",
   "execution_count": null,
   "metadata": {},
   "outputs": [
    {
     "name": "stdout",
     "output_type": "stream",
     "text": [
      "20\n"
     ]
    }
   ],
   "source": [
    "# a*=b -->> a=a*b\n",
    "a9=4\n",
    "b9=5\n",
    "a9*=b9 # a9=a9*b9\n",
    "print(a9)"
   ]
  },
  {
   "cell_type": "code",
   "execution_count": null,
   "metadata": {},
   "outputs": [
    {
     "name": "stdout",
     "output_type": "stream",
     "text": [
      "16\n",
      "2\n"
     ]
    }
   ],
   "source": [
    "# a**=b -->> a=a**b\n",
    "a10=4\n",
    "b10=2\n",
    "a10**=b10 # a10=a10**b10\n",
    "print(a10)\n",
    "print(b10)"
   ]
  },
  {
   "cell_type": "code",
   "execution_count": null,
   "metadata": {},
   "outputs": [
    {
     "name": "stdout",
     "output_type": "stream",
     "text": [
      "22.5\n"
     ]
    }
   ],
   "source": [
    "# a/=b -->> a=a/b\n",
    "a11=45\n",
    "b11=2\n",
    "a11/=b11 # a11=a11/b11\n",
    "print(a11)\n"
   ]
  },
  {
   "cell_type": "code",
   "execution_count": null,
   "metadata": {},
   "outputs": [
    {
     "name": "stdout",
     "output_type": "stream",
     "text": [
      "22\n"
     ]
    }
   ],
   "source": [
    "# a//=b -->> a=a//b\n",
    "a12=45\n",
    "b12=2\n",
    "a12//=b12 # a12=a12//b12\n",
    "print(a12)"
   ]
  },
  {
   "cell_type": "code",
   "execution_count": null,
   "metadata": {},
   "outputs": [
    {
     "name": "stdout",
     "output_type": "stream",
     "text": [
      "1\n"
     ]
    }
   ],
   "source": [
    "# a%=b -->> a=a%b\n",
    "a13=45\n",
    "b13=2\n",
    "a13%=b13 # a13=a13%b13\n",
    "print(a13)"
   ]
  },
  {
   "cell_type": "markdown",
   "metadata": {},
   "source": [
    "### **Comparison Operators**\n",
    "- **Equal**: `a == b`\n",
    "- **Not Equal**: `a != b`\n",
    "- **Greater Than**: `a > b`\n",
    "- **Less Than**: `a < b`\n",
    "- **Greater Than or Equal**: `a >= b`\n",
    "- **Less Than or Equal**: `a <= b`"
   ]
  },
  {
   "cell_type": "code",
   "execution_count": null,
   "metadata": {},
   "outputs": [
    {
     "name": "stdout",
     "output_type": "stream",
     "text": [
      "True\n"
     ]
    }
   ],
   "source": [
    "# a==b\n",
    "a14=45\n",
    "b14=45\n",
    "print(a14==b14)"
   ]
  },
  {
   "cell_type": "code",
   "execution_count": null,
   "metadata": {},
   "outputs": [
    {
     "name": "stdout",
     "output_type": "stream",
     "text": [
      "False\n"
     ]
    }
   ],
   "source": [
    "# a!=b\n",
    "a15=45\n",
    "b15=45\n",
    "print(a15!=b15)"
   ]
  },
  {
   "cell_type": "code",
   "execution_count": null,
   "metadata": {},
   "outputs": [
    {
     "name": "stdout",
     "output_type": "stream",
     "text": [
      "True\n"
     ]
    }
   ],
   "source": [
    "# a>b\n",
    "a16=80\n",
    "b16=40\n",
    "print(a16>b16)"
   ]
  },
  {
   "cell_type": "code",
   "execution_count": null,
   "metadata": {},
   "outputs": [
    {
     "name": "stdout",
     "output_type": "stream",
     "text": [
      "True\n"
     ]
    }
   ],
   "source": [
    "# a>=b\n",
    "a17=88\n",
    "b17=88\n",
    "print(a17>=b17)"
   ]
  },
  {
   "cell_type": "code",
   "execution_count": null,
   "metadata": {},
   "outputs": [
    {
     "name": "stdout",
     "output_type": "stream",
     "text": [
      "False\n"
     ]
    }
   ],
   "source": [
    "# a<b\n",
    "a18=80\n",
    "b18=40\n",
    "print(a18<b18)"
   ]
  },
  {
   "cell_type": "code",
   "execution_count": null,
   "metadata": {},
   "outputs": [
    {
     "name": "stdout",
     "output_type": "stream",
     "text": [
      "True\n"
     ]
    }
   ],
   "source": [
    "# a<=b\n",
    "a19=80\n",
    "b19=88\n",
    "print(a19<=b19)"
   ]
  },
  {
   "cell_type": "markdown",
   "metadata": {},
   "source": [
    "### **Identity Operators**\n",
    "Identity operators are used to check if two values are the same or not. They are used with the,\n",
    "\n",
    "-  **is**: returns True if both variables are in the same object.\n",
    "- **is not**: returns True if both variables(any) are not the same object."
   ]
  },
  {
   "cell_type": "code",
   "execution_count": null,
   "metadata": {},
   "outputs": [
    {
     "name": "stdout",
     "output_type": "stream",
     "text": [
      "2543931777296\n",
      "2543931639984\n",
      "False\n",
      "True\n"
     ]
    }
   ],
   "source": [
    "# Example: tuple\n",
    "a=(1,2,3,4)\n",
    "b=(1,2,3,4)\n",
    "print(id(a))\n",
    "print(id(b))\n",
    "print(a is b) # false bcz in tuple both are different objects in memory\n",
    "print(a is not b)"
   ]
  },
  {
   "cell_type": "code",
   "execution_count": null,
   "metadata": {},
   "outputs": [
    {
     "name": "stdout",
     "output_type": "stream",
     "text": [
      "2543923043648\n",
      "2543923043648\n",
      "True\n",
      "False\n"
     ]
    }
   ],
   "source": [
    "# Example: string\n",
    "a='hello'\n",
    "b='hello'\n",
    "print(id(a))\n",
    "print(id(b))\n",
    "print(a is b)\n",
    "print(a is not b)"
   ]
  },
  {
   "cell_type": "code",
   "execution_count": null,
   "metadata": {},
   "outputs": [
    {
     "name": "stdout",
     "output_type": "stream",
     "text": [
      "2074346800640\n",
      "2074347041536\n",
      "False\n",
      "True\n",
      "True\n"
     ]
    }
   ],
   "source": [
    "# Example: list\n",
    "a = [1, 2, 3, 4]\n",
    "b = [1, 2, 3, 4]\n",
    "print(id(a))  # Memory address of list `a`\n",
    "print(id(b))  # Memory address of list `b`\n",
    "print(a is b)  # False, because `a` and `b` are different objects\n",
    "print(a is not b)  # True, because `a` and `b` are different objects\n",
    "print(a == b)  # True, because the values of `a` and `b` are the same\n"
   ]
  },
  {
   "cell_type": "code",
   "execution_count": null,
   "metadata": {},
   "outputs": [
    {
     "name": "stdout",
     "output_type": "stream",
     "text": [
      "140718626134584\n",
      "140718626134584\n",
      "True\n",
      "False\n"
     ]
    }
   ],
   "source": [
    "# Example: int\n",
    "a=5\n",
    "b=5\n",
    "print(id(a))\n",
    "print(id(b))\n",
    "print(a is b)\n",
    "print(a is not b)"
   ]
  },
  {
   "cell_type": "code",
   "execution_count": null,
   "metadata": {},
   "outputs": [
    {
     "name": "stdout",
     "output_type": "stream",
     "text": [
      "2543932382720\n",
      "2543932383488\n",
      "False\n",
      "True\n"
     ]
    }
   ],
   "source": [
    "# Example: dict\n",
    "a = {'x': 1, 'y': 2}\n",
    "b = {'x': 1, 'y': 2}\n",
    "print(id(a))\n",
    "print(id(b))\n",
    "print(a is b)\n",
    "print(a is not b)"
   ]
  },
  {
   "cell_type": "code",
   "execution_count": null,
   "metadata": {},
   "outputs": [
    {
     "name": "stdout",
     "output_type": "stream",
     "text": [
      "2074346803840\n",
      "2074346800128\n",
      "False\n",
      "True\n"
     ]
    }
   ],
   "source": [
    "# Example: copy module #shallow copy\n",
    "import copy\n",
    "a = [1, 2, 3, 4]\n",
    "b=a.copy()\n",
    "print(id(a))\n",
    "print(id(b))\n",
    "print(a is b)\n",
    "print(a is not b)"
   ]
  },
  {
   "cell_type": "code",
   "execution_count": null,
   "metadata": {},
   "outputs": [
    {
     "name": "stdout",
     "output_type": "stream",
     "text": [
      "2074346800960\n",
      "2074346800960\n",
      "True\n",
      "False\n"
     ]
    }
   ],
   "source": [
    "a = [1, 2, 3, 4]\n",
    "b=a # deep copy\n",
    "print(id(a))\n",
    "print(id(b))\n",
    "print(a is b)\n",
    "print(a is not b)"
   ]
  },
  {
   "cell_type": "markdown",
   "metadata": {},
   "source": [
    "### **Membership Operators**\n",
    "Membership operators are used to check if a value is present in a sequence (like a list, tupleor string) or not.\n",
    "- **in**: returns True if a value is present in a sequence.\n",
    "- **not in**: returns True if a value is not present in a sequence."
   ]
  },
  {
   "cell_type": "code",
   "execution_count": null,
   "metadata": {},
   "outputs": [
    {
     "name": "stdout",
     "output_type": "stream",
     "text": [
      "True\n",
      "False\n",
      "True\n",
      "False\n"
     ]
    }
   ],
   "source": [
    "n=[1,2,3,4,5]\n",
    "print(2 in n)\n",
    "print(6 in n)\n",
    "print(6 not in n)\n",
    "print(2 not in n)"
   ]
  },
  {
   "cell_type": "code",
   "execution_count": null,
   "metadata": {},
   "outputs": [
    {
     "name": "stdout",
     "output_type": "stream",
     "text": [
      "True\n",
      "False\n",
      "False\n",
      "True\n"
     ]
    }
   ],
   "source": [
    "d={'key1':1,'key2':2,'key3':3,'key4':4} # only keys\n",
    "print('key2' in d)\n",
    "print(6 in d)\n",
    "print('key4' not in d)\n",
    "print(2 not in d)"
   ]
  },
  {
   "cell_type": "code",
   "execution_count": null,
   "metadata": {},
   "outputs": [
    {
     "name": "stdout",
     "output_type": "stream",
     "text": [
      "True\n",
      "False\n"
     ]
    }
   ],
   "source": [
    "b=\"string\"\n",
    "print('i' in b)\n",
    "print('z' in b)"
   ]
  },
  {
   "cell_type": "code",
   "execution_count": null,
   "metadata": {},
   "outputs": [
    {
     "name": "stdout",
     "output_type": "stream",
     "text": [
      "True\n",
      "True\n"
     ]
    }
   ],
   "source": [
    "c={'a','b',4,8,2,1,6,5}\n",
    "print('b' in c)\n",
    "print(8 in c)"
   ]
  },
  {
   "cell_type": "markdown",
   "metadata": {},
   "source": [
    "### **Logical Operators**\n",
    "- **And**: `a and b`\n",
    "- **Or** : `a or b`\n",
    "- **Not**: `a not b`\n",
    "\n",
    "#### Logical Operators precedence\n",
    "- NOT\n",
    "- AND\n",
    "- OR"
   ]
  },
  {
   "cell_type": "code",
   "execution_count": null,
   "metadata": {},
   "outputs": [
    {
     "name": "stdout",
     "output_type": "stream",
     "text": [
      "1\n",
      "You can drive\n",
      "Login successful\n"
     ]
    }
   ],
   "source": [
    "#Try to learn after loops statements\n",
    "\n",
    "#                                          ---- AND Operator ----\n",
    "\n",
    "''' AND >> This operator returns \"true only if both conditions are true\".\n",
    "\n",
    "\n",
    "a(input) b(input) x(output) \n",
    "0 0 0\n",
    "0 1 0\n",
    "1 0 0\n",
    "1 1 1  ( 0 means false && 1 means true )\n",
    "\n",
    "'''\n",
    "#logical\n",
    "a=int(input(\"enter the a value(0 or 1): \"))\n",
    "b=int(input(\"enter the b value(0 or 1): \"))\n",
    "x=a and b\n",
    "print(x)\n",
    "\n",
    "\"\"\"\n",
    "Example:\n",
    "\n",
    "Condition 1: You are over 18 years old.\n",
    "and\n",
    "Condition 2: You need a driver's license.\n",
    "Both conditions need to be true(yes) for you to be allowed to drive.\n",
    "\n",
    "\"\"\"\n",
    "age = eval(input(\"Enter your age: \"))\n",
    "has_license = input(\"Do you have License?? (yes or no): \").lower()\n",
    "\n",
    "#In Python, calling    bool(input(\"true or false: \"))    on a non-empty string always returns True, \n",
    "#so even if the user inputs \"False\", it will still be interpreted as True.\n",
    "\n",
    "if age > 18 and has_license==\"yes\":\n",
    "    print(\"You can drive\")\n",
    "else:\n",
    "    print(\"You cannot drive\")\n",
    "\n",
    "\n",
    "\n",
    "# Basic User and Password evaluation\n",
    "user='siva'\n",
    "passwd=\"Siva@4558\"\n",
    "\n",
    "user_name=input(\"enter your username: \")\n",
    "password=input(\"enter your password: \")\n",
    "if user_name==user and password==passwd:\n",
    "    print(\"Login successful\")\n",
    "else:\n",
    "    print(\"Login failed\")"
   ]
  },
  {
   "cell_type": "code",
   "execution_count": null,
   "metadata": {},
   "outputs": [
    {
     "name": "stdout",
     "output_type": "stream",
     "text": [
      "True\n"
     ]
    }
   ],
   "source": [
    "t10=bool(input(\"true or false: \"))\n",
    "print(t10)"
   ]
  },
  {
   "cell_type": "code",
   "execution_count": null,
   "metadata": {},
   "outputs": [
    {
     "name": "stdout",
     "output_type": "stream",
     "text": [
      "1\n",
      "You get a discount\n"
     ]
    }
   ],
   "source": [
    "#                                          ---- OR Operator ----\n",
    "\n",
    "\n",
    "''' OR >> This operator returns \"'True' if either of the conditions is true\".\n",
    "\n",
    "a(input) b(input) x(output)\n",
    "0 0 0\n",
    "0 1 1\n",
    "1 0 1\n",
    "1 1 1  ( 0 means false && 1 means true )\n",
    "\n",
    "'''\n",
    "\n",
    "a=int(input(\"enter the a value(0 or 1): \"))\n",
    "b=int(input(\"enter the b value(0 or 1): \"))\n",
    "x=a or b\n",
    "print(x)\n",
    "\n",
    "\"\"\"\n",
    "Example:\n",
    "Condition 1: You need a student ID. \n",
    "or\n",
    "Condition 2: You need a membership card.\n",
    "If either condition is true(yes), you can get a discount.\n",
    "\n",
    "\"\"\"\n",
    "\n",
    "student_ID = input(\"Do you have student? Say yes or no: \").lower()=='yes'\n",
    "membership = input(\"Do you have membership? Say yes or no: \").lower()=='yes'\n",
    "\n",
    "if student_ID or membership:\n",
    "    print(\"You get a discount\")\n",
    "else:\n",
    "    print(\"No discount for you\")"
   ]
  },
  {
   "cell_type": "code",
   "execution_count": null,
   "metadata": {},
   "outputs": [
    {
     "name": "stdout",
     "output_type": "stream",
     "text": [
      "True\n",
      "You can enter into the mall\n"
     ]
    }
   ],
   "source": [
    "#                                          ---- NOT Operator ----\n",
    "\n",
    "''' NOT >> This operator returns \"'True' if the condition is false\".\n",
    "a(input) x(output)\n",
    "0 1\n",
    "1 0\n",
    "'''\n",
    "#logical\n",
    "a=int(input(\"enter the a value(0 or 1): \"))\n",
    "x= not a\n",
    "print(x)\n",
    "\n",
    "\n",
    "\"\"\"\n",
    "Example: During covid time\n",
    "Condition: You have cold and fever.\n",
    "If the condition is false(no) (you have cold and fever), you can enter into the mall.\n",
    "\"\"\"\n",
    "\n",
    "cold_fever = input(\"Do you have cold and fever? Say yes or no: \").lower()=='no'\n",
    "if not cold_fever:\n",
    "    print(\"You can't enter into the mall\")\n",
    "else:\n",
    "    print(\"You can enter into the mall\")\n",
    "\n"
   ]
  },
  {
   "cell_type": "code",
   "execution_count": 7,
   "metadata": {},
   "outputs": [
    {
     "name": "stdout",
     "output_type": "stream",
     "text": [
      "   age gender\n",
      "0   22      F\n",
      "1   21      F\n",
      "2   24      M\n",
      "3   22      F\n",
      "4   23      M\n",
      "5   24      F\n",
      "6   25      M\n",
      "7   26      F\n",
      "8   22      M\n"
     ]
    },
    {
     "data": {
      "text/plain": [
       "0     True\n",
       "1    False\n",
       "2    False\n",
       "3     True\n",
       "4    False\n",
       "5    False\n",
       "6    False\n",
       "7    False\n",
       "8    False\n",
       "dtype: bool"
      ]
     },
     "execution_count": 7,
     "metadata": {},
     "output_type": "execute_result"
    }
   ],
   "source": [
    "# real life use case in data science\n",
    "import pandas as pd\n",
    "df=pd.DataFrame({'age':[22,21,24,22,23,24,25,26,22],'gender':['F','F','M','F','M','F','M','F','M']})\n",
    "print(df)\n",
    "(df['age']==22) & (df['gender']=='F') # AND operator >> &"
   ]
  },
  {
   "cell_type": "markdown",
   "metadata": {},
   "source": [
    "## **Operator Precedence**\n",
    "---\n",
    "### **Overview**\n",
    "Operator precedence is a set of rules that determines the order in which operators are evaluated when there are multiple operators in an expression. This is important because some operators have higher precedence than others which means they are evaluated first. For example, in the expression `2 + 3 * 4`, the\n",
    "\n",
    "- Arithemetic\n",
    "- Comparison\n",
    "- Membership\n",
    "- Identity\n",
    "- Logical\n",
    "- Assignment\n",
    "- Bitwise\n",
    "\n",
    "\n",
    "### **Operator Precedence Table**\n",
    "| Operator | Precedence | Associativity |\n",
    "| --- | --- | --- |\n",
    "| `()` | 1 | Left |\n",
    "| `[]` | 1 | Left |\n",
    "| `.` | 1 | Left |\n",
    "| `->` | 1 | Left |\n",
    "| `++` | 2 | Right |\n",
    "| `--` | 2 | Right |\n",
    "| `*` | 3 | Left |\n",
    "| `/` | 3 | Left |\n",
    "| `%` | 3 | Left |\n",
    "| `+` | 4 | Left |\n",
    "| `-` | 4 | Left |\n",
    "| `<<` | 5 | Left |\n",
    "| `>>` | 5 | Left |\n",
    "| `&` | 6 | Left |\n",
    "| `^` | 7 | Left |\n",
    "| `pipe` | 8 | Left |\n",
    "| `==` | 9 | Left |\n",
    "| `!=` | 9 | Left |\n",
    "| `===` | 9 | Left |\n",
    "| `!==` | 9 | Left |\n",
    "| `>` | 10 | Left |\n",
    "| `<` | 10 | Left |\n",
    "| `>=` | 10 | Left |\n",
    "| `<=` | 10 | Left |\n",
    "| `&&` | 11 | Left |\n",
    "| `d.pipe` | 12 | Left |\n",
    "| `in` | 13 | Left |\n",
    "| `instanceof` | 13 | Left |\n"
   ]
  },
  {
   "cell_type": "code",
   "execution_count": null,
   "metadata": {},
   "outputs": [
    {
     "name": "stdout",
     "output_type": "stream",
     "text": [
      "False\n"
     ]
    }
   ],
   "source": [
    "n=(1>2) or (4>=4) and (5<4) # perform from right to left <<--\n",
    "print(n)"
   ]
  },
  {
   "cell_type": "code",
   "execution_count": null,
   "metadata": {},
   "outputs": [
    {
     "data": {
      "text/plain": [
       "False"
      ]
     },
     "execution_count": 16,
     "metadata": {},
     "output_type": "execute_result"
    }
   ],
   "source": [
    "(5>=5) is False # we forcefully make it wrong"
   ]
  },
  {
   "cell_type": "code",
   "execution_count": null,
   "metadata": {},
   "outputs": [
    {
     "data": {
      "text/plain": [
       "False"
      ]
     },
     "execution_count": 17,
     "metadata": {},
     "output_type": "execute_result"
    }
   ],
   "source": [
    "(5>=5) == False"
   ]
  },
  {
   "cell_type": "code",
   "execution_count": null,
   "metadata": {},
   "outputs": [],
   "source": []
  },
  {
   "cell_type": "code",
   "execution_count": null,
   "metadata": {},
   "outputs": [],
   "source": []
  },
  {
   "cell_type": "markdown",
   "metadata": {},
   "source": [
    "Certainly! Let's break down the concept of **copies** in Python, focusing on **reference assignment**, **shallow copy**, and **deep copy**, with detailed explanations and examples.\n",
    "\n",
    "---\n",
    "\n",
    "### 1. **Reference Assignment**\n",
    "When you assign one variable to another (e.g., `b = a`), no new object is created. Instead, both variables point to the same object in memory.\n",
    "\n",
    "#### Example:\n"
   ]
  },
  {
   "cell_type": "code",
   "execution_count": null,
   "metadata": {},
   "outputs": [],
   "source": [
    "a = [1, 2, 3, 4]\n",
    "b = a  # Reference assignment\n",
    "print(id(a))  # Memory address of `a`\n",
    "print(id(b))  # Same memory address as `a`\n",
    "print(a is b)  # True, because `a` and `b` point to the same object"
   ]
  },
  {
   "cell_type": "markdown",
   "metadata": {},
   "source": [
    "\n",
    "\n",
    "#### Key Points:\n",
    "- Both `a` and `b` refer to the same object.\n",
    "- Any modification to the object through `a` will also be reflected in `b`, and vice versa.\n",
    "- This is **not a copy** at all—it's just creating another reference to the same object.\n",
    "\n",
    "---\n",
    "\n",
    "### 2. **Shallow Copy**\n",
    "A **shallow copy** creates a new object, but it does not recursively copy the objects inside it. Instead, it copies references to the original objects.\n",
    "\n",
    "#### How to Create a Shallow Copy:\n",
    "- Using the `.copy()` method (for lists and dictionaries).\n",
    "- Using `copy.copy()` from the `copy` module.\n",
    "\n",
    "#### Example:\n"
   ]
  },
  {
   "cell_type": "code",
   "execution_count": null,
   "metadata": {},
   "outputs": [],
   "source": [
    "import copy\n",
    "\n",
    "a = [1, 2, [3, 4]]\n",
    "b = a.copy()  # Shallow copy\n",
    "print(id(a))  # Memory address of `a`\n",
    "print(id(b))  # Different memory address (new object)\n",
    "print(a is b)  # False, because `a` and `b` are different objects\n",
    "print(a[2] is b[2])  # True, because the inner list is not copied, only its reference is\n",
    "\n",
    "# Modifying the inner list\n",
    "a[2][0] = 99\n",
    "print(a)  # [1, 2, [99, 4]]\n",
    "print(b)  # [1, 2, [99, 4]] (inner list is shared, so the change is reflected)"
   ]
  },
  {
   "cell_type": "markdown",
   "metadata": {},
   "source": [
    "\n",
    "\n",
    "#### Key Points:\n",
    "- A new object is created for the top-level structure.\n",
    "- Nested objects (e.g., lists inside lists) are **not copied**, only their references are.\n",
    "- Changes to mutable nested objects will affect both the original and the shallow copy.\n",
    "\n",
    "---\n",
    "\n",
    "### 3. **Deep Copy**\n",
    "A **deep copy** creates a completely independent copy of the original object, including all nested objects. This means that changes to the original object or its nested objects will not affect the deep copy, and vice versa.\n",
    "\n",
    "#### How to Create a Deep Copy:\n",
    "- Using `copy.deepcopy()` from the `copy` module.\n",
    "\n",
    "#### Example:\n"
   ]
  },
  {
   "cell_type": "code",
   "execution_count": null,
   "metadata": {},
   "outputs": [],
   "source": [
    "import copy\n",
    "\n",
    "a = [1, 2, [3, 4]]\n",
    "b = copy.deepcopy(a)  # Deep copy\n",
    "print(id(a))  # Memory address of `a`\n",
    "print(id(b))  # Different memory address (new object)\n",
    "print(a is b)  # False, because `a` and `b` are different objects\n",
    "print(a[2] is b[2])  # False, because the inner list is also copied\n",
    "\n",
    "# Modifying the inner list\n",
    "a[2][0] = 99\n",
    "print(a)  # [1, 2, [99, 4]]\n",
    "print(b)  # [1, 2, [3, 4]] (deep copy is unaffected)"
   ]
  },
  {
   "cell_type": "markdown",
   "metadata": {},
   "source": [
    "\n",
    "\n",
    "#### Key Points:\n",
    "- A new object is created for both the top-level structure and all nested objects.\n",
    "- Changes to the original object or its nested objects do not affect the deep copy.\n",
    "- This is the safest way to copy complex, nested objects if you want complete independence.\n",
    "\n",
    "---\n",
    "\n",
    "### Summary of Differences:\n",
    "\n",
    "| **Type**            | **New Object Created?** | **Nested Objects Copied?** | **Independent?** |\n",
    "|----------------------|--------------------------|-----------------------------|-------------------|\n",
    "| **Reference Assignment (`b = a`)** | No                       | No                          | No                |\n",
    "| **Shallow Copy (`b = a.copy()` or `copy.copy(a)`)** | Yes                      | No (references copied)      | Partially         |\n",
    "| **Deep Copy (`copy.deepcopy(a)`)** | Yes                      | Yes                         | Yes               |\n",
    "\n",
    "---\n",
    "\n",
    "### When to Use Each:\n",
    "1. **Reference Assignment (`b = a`)**:\n",
    "   - Use when you want both variables to refer to the same object (e.g., for memory efficiency or when you intentionally want shared changes).\n",
    "\n",
    "2. **Shallow Copy (`b = a.copy()` or `copy.copy(a)`)**:\n",
    "   - Use when you need a new object but don't care about nested objects being shared.\n",
    "   - Suitable for flat structures (e.g., lists of integers or strings).\n",
    "\n",
    "3. **Deep Copy (`copy.deepcopy(a)`)**:\n",
    "   - Use when you need a completely independent copy of an object, including all nested objects.\n",
    "   - Suitable for complex, nested structures (e.g., lists of lists, dictionaries with nested data).\n",
    "\n",
    "---\n",
    "\n",
    "### Example to Compare All Three:\n"
   ]
  },
  {
   "cell_type": "code",
   "execution_count": null,
   "metadata": {},
   "outputs": [],
   "source": [
    "import copy\n",
    "\n",
    "a = [1, 2, [3, 4]]\n",
    "\n",
    "# Reference assignment\n",
    "b = a\n",
    "# Shallow copy\n",
    "c = a.copy()\n",
    "# Deep copy\n",
    "d = copy.deepcopy(a)\n",
    "\n",
    "# Modify the inner list\n",
    "a[2][0] = 99\n",
    "\n",
    "print(\"Original:\", a)  # [1, 2, [99, 4]]\n",
    "print(\"Reference Assignment:\", b)  # [1, 2, [99, 4]] (same object as `a`)\n",
    "print(\"Shallow Copy:\", c)  # [1, 2, [99, 4]] (inner list is shared)\n",
    "print(\"Deep Copy:\", d)  # [1, 2, [3, 4]] (completely independent)"
   ]
  },
  {
   "cell_type": "code",
   "execution_count": null,
   "metadata": {},
   "outputs": [],
   "source": []
  }
 ],
 "metadata": {
  "kernelspec": {
   "display_name": "base",
   "language": "python",
   "name": "python3"
  },
  "language_info": {
   "codemirror_mode": {
    "name": "ipython",
    "version": 3
   },
   "file_extension": ".py",
   "mimetype": "text/x-python",
   "name": "python",
   "nbconvert_exporter": "python",
   "pygments_lexer": "ipython3",
   "version": "3.12.3"
  }
 },
 "nbformat": 4,
 "nbformat_minor": 4
}
