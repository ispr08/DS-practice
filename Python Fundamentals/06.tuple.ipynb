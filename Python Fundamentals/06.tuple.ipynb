{
 "cells": [
  {
   "cell_type": "markdown",
   "id": "0294a596-77e2-4181-be83-3b825a66ca81",
   "metadata": {},
   "source": [
    "# Tuples\n",
    "- Once object will be created, then we `can't change the data` like list.\n",
    "- Tuple is `immutable`\n",
    "\n",
    "## Use Cases\n",
    "- **Returning multiple values**: Functions can return multiple values using tuples.\n",
    "- **Unpacking**: Tuples can be unpacked into variables.\n",
    "- **Dictionary keys**: Tuples can be used as keys in dictionaries because they are immutable.\n",
    "- **Immutable data**: Tuples are immutable, which makes them useful for storing data that should not be changed.\n",
    "- **Efficient memory usage**: Tuples use less memory than lists because they are immutable.\n",
    "- **Hashable**: Tuples are hashable, which means they can be used as keys in dictionaries.\n",
    "- **Faster execution**: Tuples are faster than lists because they are immutable."
   ]
  },
  {
   "cell_type": "markdown",
   "id": "a30213ed-0932-47d9-8f58-3fdab31a6410",
   "metadata": {},
   "source": [
    "**Empty Tuple**"
   ]
  },
  {
   "cell_type": "code",
   "execution_count": 45,
   "id": "2f730cfb",
   "metadata": {},
   "outputs": [
    {
     "name": "stdout",
     "output_type": "stream",
     "text": [
      "()\n",
      "<class 'tuple'>\n"
     ]
    },
    {
     "data": {
      "text/plain": [
       "140727743968952"
      ]
     },
     "execution_count": 45,
     "metadata": {},
     "output_type": "execute_result"
    }
   ],
   "source": [
    "t=()\n",
    "print(t)\n",
    "print(type(t))\n",
    "id(t)"
   ]
  },
  {
   "cell_type": "code",
   "execution_count": 46,
   "id": "3cd0096a",
   "metadata": {},
   "outputs": [
    {
     "name": "stdout",
     "output_type": "stream",
     "text": [
      "<class 'str'>\n",
      "<class 'int'>\n",
      "<class 'float'>\n",
      "<class 'bool'>\n",
      "<class 'list'>\n",
      "<class 'set'>\n",
      "<class 'dict'>\n",
      "<class 'int'>\n"
     ]
    }
   ],
   "source": [
    "# if in tuple only a single value present then it considers the value as fundamental dtype\n",
    "z=('string')\n",
    "print(type(z))\n",
    "z=(1)\n",
    "print(type(z))\n",
    "z=(2.6)\n",
    "print(type(z))\n",
    "z=(True)\n",
    "print(type(z))\n",
    "z=([1])\n",
    "print(type(z))\n",
    "z=({1})\n",
    "print(type(z))\n",
    "z=({'a':1})\n",
    "print(type(z))\n",
    "z=((2))\n",
    "print(type(z))"
   ]
  },
  {
   "cell_type": "markdown",
   "id": "94b9f499",
   "metadata": {},
   "source": [
    "- **Tuple is heterogenous(store any type of data)**"
   ]
  },
  {
   "cell_type": "code",
   "execution_count": 47,
   "id": "10c1e27f",
   "metadata": {},
   "outputs": [
    {
     "data": {
      "text/plain": [
       "(2, 4, 'siva', [6, 8], 'python', 11, 22)"
      ]
     },
     "execution_count": 47,
     "metadata": {},
     "output_type": "execute_result"
    }
   ],
   "source": [
    "t1=(2,4,'siva',[6,8],'python',11,22)\n",
    "t1"
   ]
  },
  {
   "cell_type": "markdown",
   "id": "6b6fc34e",
   "metadata": {},
   "source": [
    "**Nested Tuple -** tuple in tuple"
   ]
  },
  {
   "cell_type": "code",
   "execution_count": 48,
   "id": "9cb358f7",
   "metadata": {},
   "outputs": [
    {
     "data": {
      "text/plain": [
       "(2, 4, 'siva', [6, 8], 'python', (42, 86, 'hi', 'boys'), 11, 22)"
      ]
     },
     "execution_count": 48,
     "metadata": {},
     "output_type": "execute_result"
    }
   ],
   "source": [
    "t2=(2,4,'siva',[6,8],'python',(42,86,'hi','boys'),11,22)\n",
    "t2"
   ]
  },
  {
   "cell_type": "markdown",
   "id": "e85c6a75",
   "metadata": {},
   "source": [
    "#### **tuple indexing**"
   ]
  },
  {
   "cell_type": "code",
   "execution_count": 49,
   "id": "08118003",
   "metadata": {},
   "outputs": [
    {
     "data": {
      "text/plain": [
       "'siva'"
      ]
     },
     "execution_count": 49,
     "metadata": {},
     "output_type": "execute_result"
    }
   ],
   "source": [
    "t2[2]"
   ]
  },
  {
   "cell_type": "code",
   "execution_count": 50,
   "id": "4ff0baf6",
   "metadata": {},
   "outputs": [
    {
     "data": {
      "text/plain": [
       "'h'"
      ]
     },
     "execution_count": 50,
     "metadata": {},
     "output_type": "execute_result"
    }
   ],
   "source": [
    "t2[5][2][0] # str is subscriptable"
   ]
  },
  {
   "cell_type": "markdown",
   "id": "2a93c9f3",
   "metadata": {},
   "source": [
    "#### **tuple slicing**"
   ]
  },
  {
   "cell_type": "code",
   "execution_count": 51,
   "id": "33e48849",
   "metadata": {},
   "outputs": [
    {
     "data": {
      "text/plain": [
       "(2, 4, 'siva', [6, 8])"
      ]
     },
     "execution_count": 51,
     "metadata": {},
     "output_type": "execute_result"
    }
   ],
   "source": [
    "t2[0:4]"
   ]
  },
  {
   "cell_type": "code",
   "execution_count": 52,
   "id": "bcb5dfe2",
   "metadata": {},
   "outputs": [
    {
     "data": {
      "text/plain": [
       "('boys', 'hi', 86, 42)"
      ]
     },
     "execution_count": 52,
     "metadata": {},
     "output_type": "execute_result"
    }
   ],
   "source": [
    "t2[5][::-1]"
   ]
  },
  {
   "cell_type": "markdown",
   "id": "bb59cb7b",
   "metadata": {},
   "source": [
    "#### **tuple is immutable**"
   ]
  },
  {
   "cell_type": "code",
   "execution_count": 53,
   "id": "20bb7afe",
   "metadata": {},
   "outputs": [
    {
     "data": {
      "text/plain": [
       "('boys', 86, 42, 'hi', 2008, 1988)"
      ]
     },
     "execution_count": 53,
     "metadata": {},
     "output_type": "execute_result"
    }
   ],
   "source": [
    "t3=('boys', 86, 42, 'hi', 2008, 1988)\n",
    "t3"
   ]
  },
  {
   "cell_type": "code",
   "execution_count": 54,
   "id": "f7d70d81",
   "metadata": {},
   "outputs": [
    {
     "data": {
      "text/plain": [
       "'boys'"
      ]
     },
     "execution_count": 54,
     "metadata": {},
     "output_type": "execute_result"
    }
   ],
   "source": [
    "t3[0]"
   ]
  },
  {
   "cell_type": "code",
   "execution_count": 55,
   "id": "c14d3382",
   "metadata": {},
   "outputs": [],
   "source": [
    " #! del t3[0] # tuple dont allow to modify or delete/remove any data inside object"
   ]
  },
  {
   "cell_type": "code",
   "execution_count": 56,
   "id": "b3f318a9",
   "metadata": {},
   "outputs": [],
   "source": [
    "del t3 # this deletes whole tuple"
   ]
  },
  {
   "cell_type": "markdown",
   "id": "729ff8e3",
   "metadata": {},
   "source": [
    "## **Tuple Methods**\n",
    "- tuples are immutable so very less methods\n",
    "\n",
    "**Note:** we can convert tuple to list and then perform needed tasks"
   ]
  },
  {
   "cell_type": "markdown",
   "id": "6bbe3b7b",
   "metadata": {},
   "source": [
    "##### **tuple.count(`specified item`) -** no.of items occured in the tuple"
   ]
  },
  {
   "cell_type": "code",
   "execution_count": 57,
   "id": "2ac271b2",
   "metadata": {},
   "outputs": [
    {
     "data": {
      "text/plain": [
       "(2, 4, 'siva', [6, 8], 'python', (42, 86, 'siva', 'prasad'), 2, 4)"
      ]
     },
     "execution_count": 57,
     "metadata": {},
     "output_type": "execute_result"
    }
   ],
   "source": [
    "t4=(2,4,'siva',[6,8],'python',(42,86,'siva','prasad'),2,4)\n",
    "t4 # tuple is immutable but the list inside tuple is mutable"
   ]
  },
  {
   "cell_type": "code",
   "execution_count": 58,
   "id": "8ced0fd8",
   "metadata": {},
   "outputs": [
    {
     "data": {
      "text/plain": [
       "2"
      ]
     },
     "execution_count": 58,
     "metadata": {},
     "output_type": "execute_result"
    }
   ],
   "source": [
    "t4.count(4)"
   ]
  },
  {
   "cell_type": "code",
   "execution_count": 59,
   "id": "4e403bfd",
   "metadata": {},
   "outputs": [
    {
     "data": {
      "text/plain": [
       "1"
      ]
     },
     "execution_count": 59,
     "metadata": {},
     "output_type": "execute_result"
    }
   ],
   "source": [
    "t4.count('siva') # EX: how many having same name in a class register"
   ]
  },
  {
   "cell_type": "code",
   "execution_count": 60,
   "id": "809fc0ef",
   "metadata": {},
   "outputs": [
    {
     "data": {
      "text/plain": [
       "1"
      ]
     },
     "execution_count": 60,
     "metadata": {},
     "output_type": "execute_result"
    }
   ],
   "source": [
    "t4.count((42,86,'siva','prasad'))"
   ]
  },
  {
   "cell_type": "markdown",
   "id": "0ffbff13",
   "metadata": {},
   "source": [
    "#### **tuple.index(`specified item`) -** it will gives the index position of specified character"
   ]
  },
  {
   "cell_type": "code",
   "execution_count": 61,
   "id": "18b8249c",
   "metadata": {},
   "outputs": [
    {
     "data": {
      "text/plain": [
       "4"
      ]
     },
     "execution_count": 61,
     "metadata": {},
     "output_type": "execute_result"
    }
   ],
   "source": [
    "t4.index('python')"
   ]
  },
  {
   "cell_type": "code",
   "execution_count": 62,
   "id": "3135a3d5",
   "metadata": {},
   "outputs": [],
   "source": [
    "t5=(8,6,2,9,5,1,7,4,3) # tuple dont have t.sort() method/attribute as it is immutable\n",
    "#! t5.sort()"
   ]
  },
  {
   "cell_type": "code",
   "execution_count": 63,
   "id": "c7cb8c9d",
   "metadata": {},
   "outputs": [
    {
     "name": "stdout",
     "output_type": "stream",
     "text": [
      "[1, 2, 3, 4, 5, 6, 7, 8, 9]\n",
      "t6 is [1, 2, 3, 4, 5, 6, 7, 8, 9]\n",
      "t7 is [1, 2, 3, 4, 5, 6, 7, 8, 9]\n",
      "id of `t5` is 2018766936000\n",
      "id of `t6` is 2018751080832\n",
      "id of `t7` is 2018766633280\n"
     ]
    }
   ],
   "source": [
    "# so we need to use sorted() fn and assign to new variable. so the object id will be change\n",
    "print(sorted(t5)) # just printing purpose\n",
    "t6=sorted(t5)\n",
    "t7=list(t6)\n",
    "\n",
    "print(f\"t6 is {t6}\")\n",
    "print(f\"t7 is {t7}\")\n",
    "print(f\"id of `t5` is {id(t5)}\")\n",
    "print(f\"id of `t6` is {id(t6)}\")\n",
    "print(f\"id of `t7` is {id(t7)}\")"
   ]
  },
  {
   "cell_type": "markdown",
   "id": "4ce1db77",
   "metadata": {},
   "source": [
    "## Interview Question\n",
    "\n",
    "t8=(1,2,3,4,[5,6],7,8)\n",
    "\n",
    "can we add data in the list present inside tuple? if yes write code?\n"
   ]
  },
  {
   "cell_type": "code",
   "execution_count": 64,
   "id": "1c70cf51",
   "metadata": {},
   "outputs": [
    {
     "data": {
      "text/plain": [
       "(1, 2, 3, 4, [5, 6, 10, 11], 7, 8)"
      ]
     },
     "execution_count": 64,
     "metadata": {},
     "output_type": "execute_result"
    }
   ],
   "source": [
    "t8=(1,2,3,4,[5,6],7,8) # here we can use .extend() method to add elements to list inside tuple\n",
    "t8[4].extend([10,11])\n",
    "t8"
   ]
  },
  {
   "cell_type": "code",
   "execution_count": 65,
   "id": "6d083aa1",
   "metadata": {},
   "outputs": [
    {
     "data": {
      "text/plain": [
       "(1, 2, 3, 4, [5, 6, 10, 11, 12], 7, 8)"
      ]
     },
     "execution_count": 65,
     "metadata": {},
     "output_type": "execute_result"
    }
   ],
   "source": [
    "t8[4].append(12)\n",
    "t8"
   ]
  },
  {
   "cell_type": "markdown",
   "id": "da0b0c48",
   "metadata": {},
   "source": [
    "- can you modify the value '10' to '100'?"
   ]
  },
  {
   "cell_type": "code",
   "execution_count": 66,
   "id": "9cbfc664",
   "metadata": {},
   "outputs": [
    {
     "data": {
      "text/plain": [
       "(1, 2, 3, 4, [5, 6, 100, 11, 12], 7, 8)"
      ]
     },
     "execution_count": 66,
     "metadata": {},
     "output_type": "execute_result"
    }
   ],
   "source": [
    "t8[4][2]=100\n",
    "t8"
   ]
  },
  {
   "cell_type": "markdown",
   "id": "98a0b731",
   "metadata": {},
   "source": [
    "- can you clear the list present inside the tuple? "
   ]
  },
  {
   "cell_type": "code",
   "execution_count": 67,
   "id": "f55364d5",
   "metadata": {},
   "outputs": [
    {
     "data": {
      "text/plain": [
       "(1, 2, 3, 4, [], 7, 8)"
      ]
     },
     "execution_count": 67,
     "metadata": {},
     "output_type": "execute_result"
    }
   ],
   "source": [
    "t8[4].clear()\n",
    "t8"
   ]
  },
  {
   "cell_type": "markdown",
   "id": "b332b7a4",
   "metadata": {},
   "source": [
    "- can you delete the whole list item??\n",
    "\n",
    "Ans: It's not possible, the tuple don't allow to delete items."
   ]
  },
  {
   "cell_type": "code",
   "execution_count": 68,
   "id": "f7e6d4e9",
   "metadata": {},
   "outputs": [],
   "source": [
    " #! del t8[4]"
   ]
  },
  {
   "cell_type": "code",
   "execution_count": null,
   "id": "210b2afe",
   "metadata": {},
   "outputs": [],
   "source": []
  }
 ],
 "metadata": {
  "kernelspec": {
   "display_name": "base",
   "language": "python",
   "name": "python3"
  },
  "language_info": {
   "codemirror_mode": {
    "name": "ipython",
    "version": 3
   },
   "file_extension": ".py",
   "mimetype": "text/x-python",
   "name": "python",
   "nbconvert_exporter": "python",
   "pygments_lexer": "ipython3",
   "version": "3.12.3"
  }
 },
 "nbformat": 4,
 "nbformat_minor": 5
}
