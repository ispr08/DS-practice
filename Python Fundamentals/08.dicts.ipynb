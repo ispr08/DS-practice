{
 "cells": [
  {
   "cell_type": "markdown",
   "metadata": {},
   "source": [
    "# Python Dictionaries\n",
    "\n",
    "A dictionary in Python is a unordered collection of key-value (**key:value**) pairs. Each key is unique and is used to access the corresponding value. We can say it is a special type of data type.\n",
    "- values can be in any of data types and duplicates, but keys must be unique.\n",
    "- **keys can be of fundamental data types** - int or str or alphanumeric\n",
    "\n",
    "## Dict Methods\n",
    "        \n",
    "- `dict()` - creates a new dictionary\n",
    "- `dict.keys()` - returns a view object that displays a list of all keys available in the dictionary\n",
    "- `dict.values()` - returns a view object that displays a list of all values available in the dictionary\n",
    "- `dict.items()` - returns a view object that displays a list of a dictionary’s key-value\n",
    "- `dict.copy()` - returns a copy of the dictionary\n",
    "- `dict.clear()` - removes all items from the dictionary\n",
    "- `dict.update()` - updates the dictionary with the items from another dictionary or from an iterable of key-value pairs\n",
    "- `dict.pop()` - removes the item with the specified key and returns the corresponding value\n",
    "- `dict.popitem()` - removes and returns an arbitrary element from the dictionary\n",
    "- `dict.setdefault()` - returns the value of a key if it exists in the dictionary. If not, it inserts the key with the specified value.\n",
    "- `dict.get()` - returns the value of a key if it exists in the dictionary. If not, it returns a default value that you specify.\n",
    "- `dict.fromkeys()` - returns a new dictionary with keys from iterable and values set to value"
   ]
  },
  {
   "cell_type": "code",
   "execution_count": 200,
   "metadata": {},
   "outputs": [
    {
     "name": "stdout",
     "output_type": "stream",
     "text": [
      "<class 'dict'>\n",
      "{}\n"
     ]
    }
   ],
   "source": [
    "# Empty dict\n",
    "d = {} # sets dont have any brackets for empty, only having set()\n",
    "print(type(d))\n",
    "print(d)"
   ]
  },
  {
   "cell_type": "code",
   "execution_count": 201,
   "metadata": {},
   "outputs": [
    {
     "name": "stdout",
     "output_type": "stream",
     "text": [
      "<class 'dict'>\n"
     ]
    }
   ],
   "source": [
    "e=dict()\n",
    "print(type(e))"
   ]
  },
  {
   "cell_type": "code",
   "execution_count": 202,
   "metadata": {},
   "outputs": [
    {
     "data": {
      "text/plain": [
       "{'name': 'Alice', 'age': 25, 'city': 'New York'}"
      ]
     },
     "execution_count": 202,
     "metadata": {},
     "output_type": "execute_result"
    }
   ],
   "source": [
    "# Creating a dictionary\n",
    "my_dict = {\n",
    "    'name': 'Alice',\n",
    "    'age': 25,\n",
    "    'city': 'New York'\n",
    "}\n",
    "my_dict"
   ]
  },
  {
   "cell_type": "markdown",
   "metadata": {},
   "source": [
    "## Accessing Values\n",
    "\n",
    "You can access the value associated with a `key` using the square bracket notation.\n",
    "\n",
    "- `index` not working  becoz dict is unordered collection\n",
    "- **keys** are case sensitive"
   ]
  },
  {
   "cell_type": "code",
   "execution_count": 203,
   "metadata": {},
   "outputs": [
    {
     "data": {
      "text/plain": [
       "'Alice'"
      ]
     },
     "execution_count": 203,
     "metadata": {},
     "output_type": "execute_result"
    }
   ],
   "source": [
    "# Accessing a value\n",
    "name = my_dict['name']\n",
    "name"
   ]
  },
  {
   "cell_type": "code",
   "execution_count": 204,
   "metadata": {},
   "outputs": [
    {
     "data": {
      "text/plain": [
       "{1: 48,\n",
       " 'key2': {'item1', 'item2'},\n",
       " 10.4: [1, 2, 3, 4],\n",
       " 'key1': ('hi', 'hello')}"
      ]
     },
     "execution_count": 204,
     "metadata": {},
     "output_type": "execute_result"
    }
   ],
   "source": [
    "# if 2 keys are same with different values, then it'll overwrite latest value\n",
    "d1={1:48,'key2':'item1',10.4:[1,2,3,4],'key1':('hi','hello'),'key2':{'item1','item2'}}\n",
    "d1"
   ]
  },
  {
   "cell_type": "code",
   "execution_count": 205,
   "metadata": {},
   "outputs": [
    {
     "data": {
      "text/plain": [
       "{1: 48, 'key1': 'item4884', 10.4: [1, 2, 3, 4], 'key2': {'item1', 'item2'}}"
      ]
     },
     "execution_count": 205,
     "metadata": {},
     "output_type": "execute_result"
    }
   ],
   "source": [
    "d1={1:48,'key1':'item1',10.4:[1,2,3,4],'key1':('hi','hello'),'key2':{'item1','item2'},'key1':'item4884'}\n",
    "d1"
   ]
  },
  {
   "cell_type": "code",
   "execution_count": 206,
   "metadata": {},
   "outputs": [
    {
     "data": {
      "text/plain": [
       "4"
      ]
     },
     "execution_count": 206,
     "metadata": {},
     "output_type": "execute_result"
    }
   ],
   "source": [
    " # ? element means the entire key-value pair \n",
    "# Ex: \n",
    "# 1st element ----> 1:48 \n",
    "# 2nd element ----> 'key2':{'item1','item2'}\n",
    "# 3rd element ----> 10.4:[1,2,3,4]\n",
    "# 4th element ----> 'key1':('hi','hello')\n",
    "len(d1)"
   ]
  },
  {
   "cell_type": "code",
   "execution_count": 207,
   "metadata": {},
   "outputs": [
    {
     "name": "stdout",
     "output_type": "stream",
     "text": [
      "dict_items([(1, 48), ('key1', 'item4884'), (10.4, [1, 2, 3, 4]), ('key2', {'item2', 'item1'})])\n"
     ]
    },
    {
     "data": {
      "text/plain": [
       "4"
      ]
     },
     "execution_count": 207,
     "metadata": {},
     "output_type": "execute_result"
    }
   ],
   "source": [
    "# we can see how the data assigned\n",
    "# * `items` means every individual key-value pair that separated with comma\n",
    "print(d1.items())\n",
    "len(d1.items())"
   ]
  },
  {
   "cell_type": "code",
   "execution_count": 208,
   "metadata": {},
   "outputs": [
    {
     "data": {
      "text/plain": [
       "dict_keys([1, 'key1', 10.4, 'key2'])"
      ]
     },
     "execution_count": 208,
     "metadata": {},
     "output_type": "execute_result"
    }
   ],
   "source": [
    "d1.keys() # only keys"
   ]
  },
  {
   "cell_type": "code",
   "execution_count": 209,
   "metadata": {},
   "outputs": [
    {
     "data": {
      "text/plain": [
       "dict_values([48, 'item4884', [1, 2, 3, 4], {'item2', 'item1'}])"
      ]
     },
     "execution_count": 209,
     "metadata": {},
     "output_type": "execute_result"
    }
   ],
   "source": [
    "d1.values() # only values "
   ]
  },
  {
   "cell_type": "code",
   "execution_count": 210,
   "metadata": {},
   "outputs": [
    {
     "data": {
      "text/plain": [
       "dict"
      ]
     },
     "execution_count": 210,
     "metadata": {},
     "output_type": "execute_result"
    }
   ],
   "source": [
    "# list of tuples\n",
    "jss_d=dict([(1, 48), ('key2', {'item1', 'item2'}), (10.4, [1, 2, 3, 4]), ('key1', ('hi', 'hello'))])\n",
    "type(jss_d)"
   ]
  },
  {
   "cell_type": "code",
   "execution_count": 211,
   "metadata": {},
   "outputs": [
    {
     "data": {
      "text/plain": [
       "tuple"
      ]
     },
     "execution_count": 211,
     "metadata": {},
     "output_type": "execute_result"
    }
   ],
   "source": [
    "# we can use any applicable tuple methods for d1['key1']\n",
    "type(jss_d['key1'])"
   ]
  },
  {
   "cell_type": "code",
   "execution_count": 212,
   "metadata": {},
   "outputs": [
    {
     "data": {
      "text/plain": [
       "list"
      ]
     },
     "execution_count": 212,
     "metadata": {},
     "output_type": "execute_result"
    }
   ],
   "source": [
    "# we can use any applicable list methods for d1[10.4]\n",
    "type(jss_d[10.4])"
   ]
  },
  {
   "cell_type": "code",
   "execution_count": 213,
   "metadata": {},
   "outputs": [
    {
     "data": {
      "text/plain": [
       "set"
      ]
     },
     "execution_count": 213,
     "metadata": {},
     "output_type": "execute_result"
    }
   ],
   "source": [
    "type(jss_d['key2']) # we can perform set operations"
   ]
  },
  {
   "cell_type": "markdown",
   "metadata": {},
   "source": [
    "**Nested Dictionary**"
   ]
  },
  {
   "cell_type": "code",
   "execution_count": 214,
   "metadata": {},
   "outputs": [
    {
     "data": {
      "text/plain": [
       "{'key1': 84, 'key2': {'ikey1': 1, 'ikey2': 2, 'key1': 'hai', 'key2': 'hello'}}"
      ]
     },
     "execution_count": 214,
     "metadata": {},
     "output_type": "execute_result"
    }
   ],
   "source": [
    "d2={'key1':84,'key2':{'ikey1':1,'ikey2':2,'key1':'hai','key2':'hello'}}\n",
    "d2"
   ]
  },
  {
   "cell_type": "code",
   "execution_count": 215,
   "metadata": {},
   "outputs": [
    {
     "data": {
      "text/plain": [
       "dict_keys(['key1', 'key2'])"
      ]
     },
     "execution_count": 215,
     "metadata": {},
     "output_type": "execute_result"
    }
   ],
   "source": [
    "d2.keys()"
   ]
  },
  {
   "cell_type": "code",
   "execution_count": 216,
   "metadata": {},
   "outputs": [
    {
     "data": {
      "text/plain": [
       "dict_values([84, {'ikey1': 1, 'ikey2': 2, 'key1': 'hai', 'key2': 'hello'}])"
      ]
     },
     "execution_count": 216,
     "metadata": {},
     "output_type": "execute_result"
    }
   ],
   "source": [
    "d2.values()"
   ]
  },
  {
   "cell_type": "code",
   "execution_count": 217,
   "metadata": {},
   "outputs": [
    {
     "name": "stdout",
     "output_type": "stream",
     "text": [
      "{'person1': {'name': 'John', 'age': 30, 'address': {'street': '123 Main St', 'city': 'New York', 'zipcode': '10001'}}, 'person2': {'name': 'Jane', 'age': 25, 'address': {'street': '456 Maple Ave', 'city': 'Los Angeles', 'zipcode': '90001'}}}\n"
     ]
    }
   ],
   "source": [
    "nested_dict = {\n",
    "    'person1': {\n",
    "        'name': 'John',\n",
    "        'age': 30,\n",
    "        'address': {\n",
    "            'street': '123 Main St',\n",
    "            'city': 'New York',\n",
    "            'zipcode': '10001'\n",
    "        }\n",
    "    },\n",
    "    'person2': {\n",
    "        'name': 'Jane',\n",
    "        'age': 25,\n",
    "        'address': {\n",
    "            'street': '456 Maple Ave',\n",
    "            'city': 'Los Angeles',\n",
    "            'zipcode': '90001'\n",
    "        }\n",
    "    }\n",
    "}\n",
    "print(nested_dict)"
   ]
  },
  {
   "cell_type": "code",
   "execution_count": 218,
   "metadata": {},
   "outputs": [
    {
     "data": {
      "text/plain": [
       "dict_keys(['person1', 'person2'])"
      ]
     },
     "execution_count": 218,
     "metadata": {},
     "output_type": "execute_result"
    }
   ],
   "source": [
    "nested_dict.keys()"
   ]
  },
  {
   "cell_type": "code",
   "execution_count": 219,
   "metadata": {},
   "outputs": [
    {
     "data": {
      "text/plain": [
       "dict_values([{'name': 'John', 'age': 30, 'address': {'street': '123 Main St', 'city': 'New York', 'zipcode': '10001'}}, {'name': 'Jane', 'age': 25, 'address': {'street': '456 Maple Ave', 'city': 'Los Angeles', 'zipcode': '90001'}}])"
      ]
     },
     "execution_count": 219,
     "metadata": {},
     "output_type": "execute_result"
    }
   ],
   "source": [
    "nested_dict.values()"
   ]
  },
  {
   "cell_type": "markdown",
   "metadata": {},
   "source": [
    "## Adding and Modifying Entries\n",
    "\n",
    "You can add a new key-value pair or modify an existing one using the assignment operator."
   ]
  },
  {
   "cell_type": "code",
   "execution_count": 220,
   "metadata": {},
   "outputs": [
    {
     "data": {
      "text/plain": [
       "{'name': 'Alice', 'age': 25, 'city': 'New York'}"
      ]
     },
     "execution_count": 220,
     "metadata": {},
     "output_type": "execute_result"
    }
   ],
   "source": [
    "my_dict"
   ]
  },
  {
   "cell_type": "code",
   "execution_count": 221,
   "metadata": {},
   "outputs": [
    {
     "data": {
      "text/plain": [
       "{'name': 'Alice', 'age': 25, 'city': 'New York', 'email': 'alice@example.com'}"
      ]
     },
     "execution_count": 221,
     "metadata": {},
     "output_type": "execute_result"
    }
   ],
   "source": [
    "# Adding a new key-value pair # only one value we can add\n",
    "my_dict['email'] = 'alice@example.com' # so dict is mutable\n",
    "my_dict"
   ]
  },
  {
   "cell_type": "code",
   "execution_count": 222,
   "metadata": {},
   "outputs": [
    {
     "data": {
      "text/plain": [
       "{'eng': 95, 'math': 88, 'phy': 99, 'che': 96, 'tel': 99}"
      ]
     },
     "execution_count": 222,
     "metadata": {},
     "output_type": "execute_result"
    }
   ],
   "source": [
    "# adding multiple values using update()\n",
    "marks={'eng':95}\n",
    "marks.update({'math':88,'phy':99,'che':96,'tel':99})\n",
    "marks"
   ]
  },
  {
   "cell_type": "code",
   "execution_count": 223,
   "metadata": {},
   "outputs": [
    {
     "data": {
      "text/plain": [
       "{'name': 'Alice', 'age': 26, 'city': 'New York', 'email': 'alice@example.com'}"
      ]
     },
     "execution_count": 223,
     "metadata": {},
     "output_type": "execute_result"
    }
   ],
   "source": [
    "# Modifying an existing key-value pair\n",
    "my_dict['age'] = 26 # replace\n",
    "my_dict\n"
   ]
  },
  {
   "cell_type": "code",
   "execution_count": 224,
   "metadata": {},
   "outputs": [
    {
     "name": "stdout",
     "output_type": "stream",
     "text": [
      "True\n"
     ]
    }
   ],
   "source": [
    "# Checking the key is in dict or not?\n",
    "# suppose i need to know ehether the city is present or not in my_dict\n",
    "print('city' in my_dict)"
   ]
  },
  {
   "cell_type": "markdown",
   "metadata": {},
   "source": [
    "## Removing Entries\n",
    "\n",
    "You can remove a key-value pair using the `del` statement or the `pop` method."
   ]
  },
  {
   "cell_type": "code",
   "execution_count": 225,
   "metadata": {},
   "outputs": [
    {
     "data": {
      "text/plain": [
       "{'name': 'Alice', 'age': 26, 'email': 'alice@example.com'}"
      ]
     },
     "execution_count": 225,
     "metadata": {},
     "output_type": "execute_result"
    }
   ],
   "source": [
    "# Removing a key-value pair using del\n",
    "del my_dict['city']\n",
    "my_dict"
   ]
  },
  {
   "cell_type": "code",
   "execution_count": 226,
   "metadata": {},
   "outputs": [
    {
     "name": "stdout",
     "output_type": "stream",
     "text": [
      "alice@example.com\n"
     ]
    },
    {
     "data": {
      "text/plain": [
       "{'name': 'Alice', 'age': 26}"
      ]
     },
     "execution_count": 226,
     "metadata": {},
     "output_type": "execute_result"
    }
   ],
   "source": [
    "# Removing a key-value pair using pop\n",
    "# my_dict.pop('email')\n",
    "email = my_dict.pop('email') # it is a best practice to assaign to a variable if we need data but not inside dict.\n",
    "print(email)\n",
    "my_dict"
   ]
  },
  {
   "cell_type": "code",
   "execution_count": 227,
   "metadata": {},
   "outputs": [],
   "source": [
    "my_dict.clear() # it will clear the elements"
   ]
  },
  {
   "cell_type": "code",
   "execution_count": 228,
   "metadata": {},
   "outputs": [],
   "source": [
    "del my_dict # it will delete entire object"
   ]
  },
  {
   "cell_type": "markdown",
   "metadata": {},
   "source": [
    "### some use cases"
   ]
  },
  {
   "cell_type": "code",
   "execution_count": 229,
   "metadata": {},
   "outputs": [
    {
     "data": {
      "text/plain": [
       "{'key1': 84, 'key2': {'ikey1': 1, 'ikey2': 2, 'key1': 'hai', 'key2': 'hello'}}"
      ]
     },
     "execution_count": 229,
     "metadata": {},
     "output_type": "execute_result"
    }
   ],
   "source": [
    "d2"
   ]
  },
  {
   "cell_type": "code",
   "execution_count": 230,
   "metadata": {},
   "outputs": [
    {
     "data": {
      "text/plain": [
       "'key2'"
      ]
     },
     "execution_count": 230,
     "metadata": {},
     "output_type": "execute_result"
    }
   ],
   "source": [
    "# we can use indexing on dicts by using type casting\n",
    "list(d2)[1]"
   ]
  },
  {
   "cell_type": "code",
   "execution_count": 231,
   "metadata": {},
   "outputs": [
    {
     "data": {
      "text/plain": [
       "'h'"
      ]
     },
     "execution_count": 231,
     "metadata": {},
     "output_type": "execute_result"
    }
   ],
   "source": [
    "# we converted to list and string is subscriptable\n",
    "# so we can use any applicable string methods here.\n",
    "list(d2['key2']['key2'])[0]"
   ]
  },
  {
   "cell_type": "code",
   "execution_count": 232,
   "metadata": {},
   "outputs": [],
   "source": [
    "# we converted to list. That's ok, but int is not subscriptable or iterable.\n",
    "# list(d2['key2']['ikey2'])[0]"
   ]
  },
  {
   "cell_type": "code",
   "execution_count": 233,
   "metadata": {},
   "outputs": [
    {
     "data": {
      "text/plain": [
       "'2'"
      ]
     },
     "execution_count": 233,
     "metadata": {},
     "output_type": "execute_result"
    }
   ],
   "source": [
    "# still we have solution with type casting\n",
    "# we made 2(int) to '2'(str)\n",
    "list(str(d2['key2']['ikey2']))[0]"
   ]
  },
  {
   "cell_type": "code",
   "execution_count": 234,
   "metadata": {},
   "outputs": [
    {
     "name": "stdout",
     "output_type": "stream",
     "text": [
      "[1, 2, 3, 4]\n",
      "1\n"
     ]
    }
   ],
   "source": [
    "print(d1[10.4]) # list type\n",
    "print(d1[10.4][0])"
   ]
  },
  {
   "cell_type": "code",
   "execution_count": 235,
   "metadata": {},
   "outputs": [
    {
     "data": {
      "text/plain": [
       "[1, 2, 3, 4, 10]"
      ]
     },
     "execution_count": 235,
     "metadata": {},
     "output_type": "execute_result"
    }
   ],
   "source": [
    "# append is applicable method for list.\n",
    "d1[10.4].append(10)# if we execute cell 5 times, the the 10 is added 5 times in list.\n",
    "d1[10.4]"
   ]
  },
  {
   "cell_type": "code",
   "execution_count": 236,
   "metadata": {},
   "outputs": [
    {
     "data": {
      "text/plain": [
       "[1, 2, 3, 4, 100]"
      ]
     },
     "execution_count": 236,
     "metadata": {},
     "output_type": "execute_result"
    }
   ],
   "source": [
    "d1[10.4][-1]=100 # modified last element to 100\n",
    "d1[10.4]"
   ]
  },
  {
   "cell_type": "code",
   "execution_count": 237,
   "metadata": {},
   "outputs": [
    {
     "data": {
      "text/plain": [
       "{1, 2, 3, 4, 100}"
      ]
     },
     "execution_count": 237,
     "metadata": {},
     "output_type": "execute_result"
    }
   ],
   "source": [
    "# dropping duplicates by convert to set\n",
    "set(d1[10.4])"
   ]
  },
  {
   "cell_type": "code",
   "execution_count": 238,
   "metadata": {},
   "outputs": [
    {
     "data": {
      "text/plain": [
       "{'item1', 'item2'}"
      ]
     },
     "execution_count": 238,
     "metadata": {},
     "output_type": "execute_result"
    }
   ],
   "source": [
    "d1['key2'] # if key is not present in dict then it will through the error"
   ]
  },
  {
   "cell_type": "code",
   "execution_count": 239,
   "metadata": {},
   "outputs": [],
   "source": [
    "d1.get('key8888') # it gives nothing if key is not present in dict"
   ]
  },
  {
   "cell_type": "markdown",
   "metadata": {},
   "source": [
    "## **Deep Copy VS Shallow Copy**\n",
    "\n",
    "**Deep Copy :** `b=copy.deepcopy(a)`\n",
    "- Creates a new object and recursively copies all the elements from the original object\n",
    "\n",
    "- The new object is entirely independent of the original object, and changes made to the copied object do not affect the original object. This is usually done using the `copy` module's `deepcopy` function.\n",
    "\n",
    "- Useful when you want to modify the copied object without affecting the original object\n",
    "\n",
    "- **Shallow Copy :** `b=copy.copy(a)`\n",
    "- Creates a new object and recursively copies all the elements from the original object\n",
    "\n",
    "- A shallow copy of a collection (like a list) will create a new object, but the elements within the collection are still references to the original objects. Modifying mutable elements in the copied object will reflect in the original object, as both copies share the same references.\n",
    "\n",
    "- Useful when you want to create a new object with the same elements\n"
   ]
  },
  {
   "cell_type": "markdown",
   "metadata": {},
   "source": [
    "Here is the corrected and simplified **Markdown** document explaining **Deep Copy vs Shallow Copy**:\n",
    "\n",
    "---\n",
    "\n",
    "## **Deep Copy vs Shallow Copy**\n",
    "\n",
    "### **Deep Copy**:\n",
    "- **Syntax**: `b = copy.deepcopy(a)` (Using the `copy` module's `deepcopy` method)\n",
    "- **Explanation**:\n",
    "  - A **deep copy** creates a completely **new object** and **recursively copies** all objects and sub-objects from the original. Even nested objects are copied, meaning the new object is fully independent.\n",
    "  - **Changes made to the copied object do not affect the original object**.\n",
    "  \n",
    "  ```python\n",
    "  import copy\n",
    "  a = [[1, 2], [3, 4]]\n",
    "  b = copy.deepcopy(a)\n",
    "  b[0][0] = 99\n",
    "\n",
    "  print(a)  # Output: [[1, 2], [3, 4]] (original is unchanged)\n",
    "  print(b)  # Output: [[99, 2], [3, 4]] (copied is modified)\n",
    "  ```\n",
    "\n",
    "### **Shallow Copy**:\n",
    "- **Syntax**: `b = a.copy()` or `b = copy.copy(a)` (Using the `copy` module's `copy` method)\n",
    "- **Explanation**:\n",
    "  - A **shallow copy** creates a new object, but it **only copies references** to the elements in the original object. For **mutable objects** (like lists or dictionaries), both the original and the shallow copy will reference the same inner objects.\n",
    "  - **Changes made to the inner objects** in the shallow copy **will also affect the original**.\n",
    "\n",
    "  ```python\n",
    "  import copy\n",
    "  a = [[1, 2], [3, 4]]\n",
    "  b = copy.copy(a)\n",
    "  b[0][0] = 99\n",
    "\n",
    "  print(a)  # Output: [[99, 2], [3, 4]] (original is modified)\n",
    "  print(b)  # Output: [[99, 2], [3, 4]] (copied is modified)\n",
    "  ```\n",
    "\n",
    "### **Assignment (`a = b`)**:\n",
    "- **Syntax**: `b = a`\n",
    "- **Explanation**:\n",
    "  - **Assignment** does not perform any copy at all. It simply makes `b` and `a` **refer to the same object** in memory. Any changes made through one variable will be reflected in the other.\n",
    "\n",
    "  ```python\n",
    "  a = [[1, 2], [3, 4]]\n",
    "  b = a  # No new object, just a reference to the same data\n",
    "  ```\n",
    "\n",
    "---\n",
    "\n",
    "### Key Differences:\n",
    "| Aspect               | **Deep Copy**                                 | **Shallow Copy**                              | **Assignment**                 |\n",
    "|----------------------|-----------------------------------------------|-----------------------------------------------|--------------------------------|\n",
    "| **Object Creation**   | Creates a new, independent object             | Creates a new object, but inner objects are shared | No new object is created      |\n",
    "| **Recursion**         | Recursively copies all nested objects         | Copies references to nested objects           | Both variables point to the same object |\n",
    "| **Effect on Original**| Changes in the copy do not affect the original| Changes in mutable elements affect the original | Any change affects both       |\n",
    "\n",
    "---\n",
    "\n",
    "This is a more concise and correct version of **deep copy** vs **shallow copy** with only the necessary details."
   ]
  },
  {
   "cell_type": "code",
   "execution_count": 240,
   "metadata": {},
   "outputs": [
    {
     "name": "stdout",
     "output_type": "stream",
     "text": [
      "[[1, 2, 3], [4, 5, 6]]\n",
      "[[99, 2, 3], [4, 5, 6]]\n",
      "1979951703872\n",
      "1979951663296\n"
     ]
    }
   ],
   "source": [
    "# Deep Copy\n",
    "\n",
    "import copy\n",
    "\n",
    "original_list = [[1, 2, 3], [4, 5, 6]]\n",
    "deep_copied_list = copy.deepcopy(original_list)\n",
    "\n",
    "deep_copied_list[0][0] = 99\n",
    "\n",
    "print(original_list)      # Output: [[1, 2, 3], [4, 5, 6]] (unchanged)\n",
    "print(deep_copied_list)   # Output: [[99, 2, 3], [4, 5, 6]] (changed)\n",
    "print(id(original_list))\n",
    "print(id(deep_copied_list))"
   ]
  },
  {
   "cell_type": "code",
   "execution_count": 241,
   "metadata": {},
   "outputs": [
    {
     "name": "stdout",
     "output_type": "stream",
     "text": [
      "[[99, 2, 3], [4, 5, 6]]\n",
      "[[99, 2, 3], [4, 5, 6]]\n",
      "1979935883200\n",
      "1979951705920\n"
     ]
    }
   ],
   "source": [
    "# Shallow Copy\n",
    "\n",
    "import copy\n",
    "\n",
    "original = [[1, 2, 3], [4, 5, 6]]\n",
    "shallow_copied = copy.copy(original)\n",
    "\n",
    "shallow_copied[0][0] = 99  # Changing the shallow-copied object\n",
    "\n",
    "print(original)        # Output: [[99, 2, 3], [4, 5, 6]] (Changed!)\n",
    "print(shallow_copied)  # Output: [[99, 2, 3], [4, 5, 6]] (Changed)\n",
    "print(id(original))\n",
    "print(id(shallow_copied))"
   ]
  },
  {
   "cell_type": "code",
   "execution_count": 242,
   "metadata": {},
   "outputs": [
    {
     "name": "stdout",
     "output_type": "stream",
     "text": [
      "[[99, 2, 3], [4, 5, 6]]\n",
      "[[99, 2, 3], [4, 5, 6]]\n",
      "1979935870592\n",
      "1979935870592\n"
     ]
    }
   ],
   "source": [
    "# One Object different var names.\n",
    "original_list = [[1, 2, 3], [4, 5, 6]]\n",
    "deep_copied_list = original_list\n",
    "\n",
    "deep_copied_list[0][0] = 99\n",
    "\n",
    "print(original_list)      # Output: [[1, 2, 3], [4, 5, 6]] (unchanged)\n",
    "print(deep_copied_list)   # Output: [[99, 2, 3], [4, 5, 6]] (changed)\n",
    "print(id(original_list))\n",
    "print(id(deep_copied_list))\n"
   ]
  },
  {
   "cell_type": "markdown",
   "metadata": {},
   "source": [
    "## Iterating Through a Dictionary\n",
    "\n",
    "You can iterate through the keys, values, or key-value pairs in a dictionary."
   ]
  },
  {
   "cell_type": "code",
   "execution_count": 243,
   "metadata": {},
   "outputs": [
    {
     "name": "stdout",
     "output_type": "stream",
     "text": [
      "name\n",
      "age\n",
      "email\n"
     ]
    }
   ],
   "source": [
    "# Redefine my_dict\n",
    "my_dict = {\n",
    "    'name': 'Alice',\n",
    "    'age': 26,\n",
    "    'email': 'alice@example.com'\n",
    "}\n",
    "\n",
    "# Iterating through keys\n",
    "for key in my_dict.keys():\n",
    "    print(key)"
   ]
  },
  {
   "cell_type": "code",
   "execution_count": 244,
   "metadata": {},
   "outputs": [
    {
     "name": "stdout",
     "output_type": "stream",
     "text": [
      "Alice\n",
      "26\n",
      "alice@example.com\n"
     ]
    }
   ],
   "source": [
    "# Iterating through values\n",
    "for value in my_dict.values():\n",
    "    print(value)"
   ]
  },
  {
   "cell_type": "code",
   "execution_count": 245,
   "metadata": {},
   "outputs": [
    {
     "name": "stdout",
     "output_type": "stream",
     "text": [
      "name: Alice\n",
      "age: 26\n",
      "email: alice@example.com\n"
     ]
    }
   ],
   "source": [
    "# Iterating through key-value pairs\n",
    "for key, value in my_dict.items():\n",
    "    print(f'{key}: {value}')"
   ]
  },
  {
   "cell_type": "code",
   "execution_count": 246,
   "metadata": {},
   "outputs": [],
   "source": [
    "# dicts are in key-value pair format"
   ]
  },
  {
   "cell_type": "code",
   "execution_count": null,
   "metadata": {},
   "outputs": [],
   "source": []
  }
 ],
 "metadata": {
  "kernelspec": {
   "display_name": "base",
   "language": "python",
   "name": "python3"
  },
  "language_info": {
   "codemirror_mode": {
    "name": "ipython",
    "version": 3
   },
   "file_extension": ".py",
   "mimetype": "text/x-python",
   "name": "python",
   "nbconvert_exporter": "python",
   "pygments_lexer": "ipython3",
   "version": "3.12.3"
  }
 },
 "nbformat": 4,
 "nbformat_minor": 4
}
