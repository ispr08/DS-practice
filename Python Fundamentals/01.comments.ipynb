{
 "cells": [
  {
   "cell_type": "markdown",
   "id": "743d23f2-1af9-4740-955b-199c9589dc42",
   "metadata": {},
   "source": [
    "# Comments\n",
    "    - comments in programming languages are used for documentation purpose "
   ]
  },
  {
   "cell_type": "markdown",
   "id": "9a42ecf7-1e1e-4944-98f6-b1fdd0a27b78",
   "metadata": {},
   "source": [
    "## Single  line comments"
   ]
  },
  {
   "cell_type": "code",
   "execution_count": 5,
   "id": "74242eb0-6186-46b1-ba54-4b3246627b0e",
   "metadata": {
    "notebookRunGroups": {
     "groupValue": "1"
    }
   },
   "outputs": [
    {
     "name": "stdout",
     "output_type": "stream",
     "text": [
      "Hello World\n"
     ]
    }
   ],
   "source": [
    "# this is single line comment ignores by interepreter. \n",
    "print('Hello World')"
   ]
  },
  {
   "cell_type": "markdown",
   "id": "6beb74d3-ea90-44cb-9837-730156eeda61",
   "metadata": {},
   "source": [
    "## Multi-Line Comments\n",
    "- Multi-line comments are used for paragraphs and large comments more than one line"
   ]
  },
  {
   "cell_type": "code",
   "execution_count": 6,
   "id": "21328db0-b34b-4333-bc35-ea73bcd0b55a",
   "metadata": {
    "notebookRunGroups": {
     "groupValue": "1"
    }
   },
   "outputs": [
    {
     "name": "stdout",
     "output_type": "stream",
     "text": [
      "Hello World\n"
     ]
    }
   ],
   "source": [
    "'''\n",
    "this is \n",
    "multiline comments.\n",
    "so you can write no.of lines\n",
    "for commenting and documentation purpose'''\n",
    "print('Hello World')"
   ]
  },
  {
   "cell_type": "code",
   "execution_count": 7,
   "id": "9db5c688-96b1-4b7f-8aeb-8d8fd0b29540",
   "metadata": {},
   "outputs": [],
   "source": [
    "# or you can also use below double quotes three times"
   ]
  },
  {
   "cell_type": "code",
   "execution_count": 8,
   "id": "5dd55448-de3d-47a5-84a6-b710c00e958c",
   "metadata": {},
   "outputs": [
    {
     "name": "stdout",
     "output_type": "stream",
     "text": [
      "Hello World\n"
     ]
    }
   ],
   "source": [
    "\"\"\"\n",
    "this is \n",
    "multiline comments.\n",
    "so you can write no.of lines\n",
    "for commenting and documentation purpose\"\"\"\n",
    "print(\"Hello World\")"
   ]
  },
  {
   "cell_type": "code",
   "execution_count": null,
   "id": "94965478-7a6c-45f3-a6a9-ac703a0fd660",
   "metadata": {},
   "outputs": [],
   "source": []
  }
 ],
 "metadata": {
  "kernelspec": {
   "display_name": "base",
   "language": "python",
   "name": "python3"
  },
  "language_info": {
   "codemirror_mode": {
    "name": "ipython",
    "version": 3
   },
   "file_extension": ".py",
   "mimetype": "text/x-python",
   "name": "python",
   "nbconvert_exporter": "python",
   "pygments_lexer": "ipython3",
   "version": "3.12.3"
  }
 },
 "nbformat": 4,
 "nbformat_minor": 5
}
