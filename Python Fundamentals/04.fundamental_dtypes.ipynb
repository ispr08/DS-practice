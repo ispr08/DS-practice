{
 "cells": [
  {
   "cell_type": "markdown",
   "id": "96a06a2a-58ce-4791-85a7-11dc545c61ec",
   "metadata": {},
   "source": [
    "# Data Types\n",
    "- Specifies the type of values assigned to variables\n",
    "## 1. Fundamental Data Types \n",
    "- Can store only `one-value` inside the `object`.(`x=4`,`a=2.8`,`s=\"iragamreddy\"`,`k=True`)\n",
    "\n",
    "**int()**    -  `48`\n",
    "\n",
    "**float()**  -  `42.68`\n",
    "\n",
    "**bool()**   -  `True` (or) `False`\n",
    "\n",
    "**complex()**-  `a+bj`\n",
    "\n",
    "**str()**    -  `\"siva\"`\n",
    "\n",
    "## 2. Advanced Data Structures or Containers\n",
    "- Can store `multiple values` inside the `object`.\n",
    "\n",
    "**list()** - `[8,'a',4.6,False]`\n",
    "\n",
    "**tuple()** - `(8,'a',4.6,False)`\n",
    "\n",
    "**set()** - `{8,'a',4.6,False}`\n",
    "\n",
    "**dict()** - `{'car1':'TATA','car2':'Ferrari'}`"
   ]
  },
  {
   "cell_type": "markdown",
   "id": "2dd64fe7-475a-4fb1-a229-a2d9aadb31d9",
   "metadata": {},
   "source": [
    "# int() - Numeric Value without decimal\n",
    "- can be either negative or positive integer"
   ]
  },
  {
   "cell_type": "code",
   "execution_count": 235,
   "id": "ac42cfba-3baa-4b50-b6bd-34536186bc3a",
   "metadata": {},
   "outputs": [
    {
     "name": "stdout",
     "output_type": "stream",
     "text": [
      "8\n"
     ]
    }
   ],
   "source": [
    "a=8\n",
    "print(a)\n"
   ]
  },
  {
   "cell_type": "code",
   "execution_count": 236,
   "id": "34459263-bdf8-4d85-996c-760658c62f83",
   "metadata": {},
   "outputs": [
    {
     "name": "stdout",
     "output_type": "stream",
     "text": [
      "<class 'int'>\n",
      "140736064674456\n"
     ]
    }
   ],
   "source": [
    "print(type(a)) # type of value\n",
    "print(id(a))  # address"
   ]
  },
  {
   "cell_type": "code",
   "execution_count": 237,
   "id": "e8eca547",
   "metadata": {},
   "outputs": [
    {
     "name": "stdout",
     "output_type": "stream",
     "text": [
      "10\n",
      "10\n",
      "10\n",
      "11\n",
      "64206\n"
     ]
    }
   ],
   "source": [
    "# there are four types of integral types\n",
    "#? Decimal\n",
    "#? Binary\n",
    "#? Octal\n",
    "#? Hexadecimal\n",
    "\n",
    "# Decimal 0-9 and base is 10\n",
    "a=10\n",
    "print(a)\n",
    "\n",
    "# Binary 0&1 and base is 2\n",
    "b=0b1010 # 1*2^3 + 0*2^2 + 1*2^1 + 0*2^0 = 8+0+2+0 = 10\n",
    "print(b)\n",
    "\n",
    "# Octal 0-7 and base is 8\n",
    "c=0o12 # 1*8^1 + 2*8^0 = 8+2 = 10\n",
    "print(c)\n",
    "\n",
    "# Hexadecimal 0-9 and A-F (10-15) and base is 16\n",
    "d=0xB # 11\n",
    "print(d)\n",
    "\n",
    "e=0xface # 15*16^3 + 10*16^2 + 12*16^1 + 14*16^0 = 61440+2560+192+14 = 64206\n",
    "print(e)"
   ]
  },
  {
   "cell_type": "markdown",
   "id": "99119f89-1587-4a6c-a651-f2b0fbb9063c",
   "metadata": {},
   "source": [
    "# float() - Numeric value with decimal\n",
    "- can be either negative or positive decimal"
   ]
  },
  {
   "cell_type": "code",
   "execution_count": 238,
   "id": "ce4afce0-399f-472c-97da-291ba9440402",
   "metadata": {},
   "outputs": [
    {
     "name": "stdout",
     "output_type": "stream",
     "text": [
      "-8.4\n"
     ]
    }
   ],
   "source": [
    "b=-8.4\n",
    "print(b)"
   ]
  },
  {
   "cell_type": "code",
   "execution_count": 239,
   "id": "af446557-afb4-49df-9efa-a5a12d85e289",
   "metadata": {},
   "outputs": [
    {
     "name": "stdout",
     "output_type": "stream",
     "text": [
      "<class 'float'>\n"
     ]
    }
   ],
   "source": [
    "print(type(b))"
   ]
  },
  {
   "cell_type": "markdown",
   "id": "de9d3566-404b-4ac8-819e-b67e56c111ed",
   "metadata": {},
   "source": [
    "# Type Casting / Type Conversion\n",
    "\n",
    "`int()` -----can be converted to-----> `str()`,`bool()`,`float()`\n",
    "\n",
    "`float()` -----can be converted to-----> `str()`,`bool()`,`int()`\n",
    "\n",
    "`bool()` -----can be converted to-----> `str()`,`int()`,`float()`\n",
    "\n",
    "`str()` ------can be converted to-----> `int()` if it having only numerical data. `float()` if it having only decimal value\n",
    "## Implicit Type Conversion (Automatic Conversion)\n",
    "- Python automatically converts one data type to another based on the operation or task being performed. The conversion is done by the interpreter without the need for the user to explicitly specify it.\n",
    "\n",
    "- No data loss occurs during this process.\n",
    "- It usually happens when mixing types like `integers` and `floats`, where the integer is automatically converted to a float.\n",
    "\n",
    "## Explicit Type Conversion (Manual Conversion)\n",
    "- In explicit type conversion, also known as type casting, we manually convert one data type to another. This is useful when you want to control the data type for a specific operation or task.\n",
    "\n",
    "- Data loss can occur during this conversion, especially when converting from a more complex type (e.g., `float`) to a simpler one (e.g., `integer`).\n",
    "- You need to use Python's built-in functions like `int()`, `float()`, `str()`, etc., to perform explicit type conversion."
   ]
  },
  {
   "cell_type": "markdown",
   "id": "4d0030c0-258c-40c0-8e51-06e586bc6ad4",
   "metadata": {},
   "source": [
    "**`str()`,`bool()`,`float()` -----can be converted to-----> `int()`**"
   ]
  },
  {
   "cell_type": "code",
   "execution_count": 240,
   "id": "1bda470f-5f12-4648-a25d-2cddf20c7441",
   "metadata": {},
   "outputs": [
    {
     "data": {
      "text/plain": [
       "1"
      ]
     },
     "execution_count": 240,
     "metadata": {},
     "output_type": "execute_result"
    }
   ],
   "source": [
    "int(True) # bool to int"
   ]
  },
  {
   "cell_type": "code",
   "execution_count": 241,
   "id": "1e80a8d1-7466-49c7-8f35-fa21b1cd380e",
   "metadata": {},
   "outputs": [
    {
     "data": {
      "text/plain": [
       "0"
      ]
     },
     "execution_count": 241,
     "metadata": {},
     "output_type": "execute_result"
    }
   ],
   "source": [
    "int(False) # bool to int"
   ]
  },
  {
   "cell_type": "code",
   "execution_count": 242,
   "id": "2eccaf68-576e-44d7-b0dd-8e510c5990d5",
   "metadata": {},
   "outputs": [
    {
     "data": {
      "text/plain": [
       "42"
      ]
     },
     "execution_count": 242,
     "metadata": {},
     "output_type": "execute_result"
    }
   ],
   "source": [
    "int(42.12) # float to int"
   ]
  },
  {
   "cell_type": "code",
   "execution_count": 243,
   "id": "f95a6762-b781-449c-80ca-d777429b9e49",
   "metadata": {},
   "outputs": [
    {
     "data": {
      "text/plain": [
       "1234"
      ]
     },
     "execution_count": 243,
     "metadata": {},
     "output_type": "execute_result"
    }
   ],
   "source": [
    "int(\"1234\")  # str to int when only having pure numeric data"
   ]
  },
  {
   "cell_type": "code",
   "execution_count": 244,
   "id": "0370783c-725d-477e-9ec6-c8b1e8e3cf5b",
   "metadata": {},
   "outputs": [],
   "source": [
    " #! int(\"24.86\") # '.' considered as character so can't convert"
   ]
  },
  {
   "cell_type": "markdown",
   "id": "e9c31e13-e1fc-459d-b5dc-8acd71627b3a",
   "metadata": {},
   "source": [
    "**`str()`,`bool()`,`int()` -----can be converted to-----> `float()`**"
   ]
  },
  {
   "cell_type": "code",
   "execution_count": 245,
   "id": "b13138e5-6b1c-493a-83e1-3948da35ec77",
   "metadata": {},
   "outputs": [
    {
     "data": {
      "text/plain": [
       "48.0"
      ]
     },
     "execution_count": 245,
     "metadata": {},
     "output_type": "execute_result"
    }
   ],
   "source": [
    "float(48) # int to float"
   ]
  },
  {
   "cell_type": "code",
   "execution_count": 246,
   "id": "b11347fe-ceef-4052-b131-d13bec837489",
   "metadata": {},
   "outputs": [
    {
     "data": {
      "text/plain": [
       "1.0"
      ]
     },
     "execution_count": 246,
     "metadata": {},
     "output_type": "execute_result"
    }
   ],
   "source": [
    "float(True) # bool to float"
   ]
  },
  {
   "cell_type": "code",
   "execution_count": 247,
   "id": "90f404dc-b784-4e7e-ba7b-699ae5f11822",
   "metadata": {},
   "outputs": [
    {
     "data": {
      "text/plain": [
       "0.0"
      ]
     },
     "execution_count": 247,
     "metadata": {},
     "output_type": "execute_result"
    }
   ],
   "source": [
    "float(False) # bool to float"
   ]
  },
  {
   "cell_type": "code",
   "execution_count": 248,
   "id": "13660501-10b0-463a-a532-2fb716e85b56",
   "metadata": {},
   "outputs": [
    {
     "data": {
      "text/plain": [
       "42.68"
      ]
     },
     "execution_count": 248,
     "metadata": {},
     "output_type": "execute_result"
    }
   ],
   "source": [
    "float(\"42.68\") # str to float when only having pure numeric data"
   ]
  },
  {
   "cell_type": "code",
   "execution_count": 249,
   "id": "ec078510-dd08-4923-945b-073cec69b40b",
   "metadata": {},
   "outputs": [
    {
     "data": {
      "text/plain": [
       "42.0"
      ]
     },
     "execution_count": 249,
     "metadata": {},
     "output_type": "execute_result"
    }
   ],
   "source": [
    "float(\"42\")  # str to float when only having pure numeric data"
   ]
  },
  {
   "cell_type": "markdown",
   "id": "a3bae24b-3087-4fdf-8b17-785f5b4a1631",
   "metadata": {},
   "source": [
    "**`str()`,`int()`,`float()` -----can be converted to-----> `bool()`**"
   ]
  },
  {
   "cell_type": "code",
   "execution_count": 250,
   "id": "1badf304-8cb1-46f5-8ffb-b885203ef8e6",
   "metadata": {},
   "outputs": [
    {
     "data": {
      "text/plain": [
       "True"
      ]
     },
     "execution_count": 250,
     "metadata": {},
     "output_type": "execute_result"
    }
   ],
   "source": [
    "bool(\"anything in string even '.' 'space' also gives True\") # str to bool"
   ]
  },
  {
   "cell_type": "code",
   "execution_count": 251,
   "id": "94eafff7-0447-4054-8458-712cf918cec6",
   "metadata": {},
   "outputs": [
    {
     "data": {
      "text/plain": [
       "False"
      ]
     },
     "execution_count": 251,
     "metadata": {},
     "output_type": "execute_result"
    }
   ],
   "source": [
    "# Empty str to bool\n",
    "bool(\"\")  #? only `Empty str`,`Empty sequence` >> [],(),{} << and `None` values gives false"
   ]
  },
  {
   "cell_type": "code",
   "execution_count": 252,
   "id": "cb55523c",
   "metadata": {},
   "outputs": [
    {
     "name": "stdout",
     "output_type": "stream",
     "text": [
      "False\n",
      "False\n",
      "False\n",
      "False\n"
     ]
    }
   ],
   "source": [
    "# Empty Sequences\n",
    "print(bool({}))\n",
    "print(bool(()))\n",
    "print(bool([]))\n",
    "print(bool(set()))"
   ]
  },
  {
   "cell_type": "code",
   "execution_count": 253,
   "id": "fb8b879c",
   "metadata": {},
   "outputs": [
    {
     "name": "stdout",
     "output_type": "stream",
     "text": [
      "True\n",
      "True\n",
      "True\n",
      "True\n"
     ]
    }
   ],
   "source": [
    "print(bool({1:2,2:4}))\n",
    "print(bool((1,2)))\n",
    "print(bool([1,2]))\n",
    "print(bool(set([1,2])))"
   ]
  },
  {
   "cell_type": "code",
   "execution_count": 254,
   "id": "904c2f19-b6df-4c9c-a1b3-1f8747ff1aee",
   "metadata": {},
   "outputs": [
    {
     "data": {
      "text/plain": [
       "False"
      ]
     },
     "execution_count": 254,
     "metadata": {},
     "output_type": "execute_result"
    }
   ],
   "source": [
    "# None to bool\n",
    "bool(None)"
   ]
  },
  {
   "cell_type": "code",
   "execution_count": 255,
   "id": "30a4cf68-ea90-490f-9cd5-c9233ce110a5",
   "metadata": {},
   "outputs": [
    {
     "data": {
      "text/plain": [
       "True"
      ]
     },
     "execution_count": 255,
     "metadata": {},
     "output_type": "execute_result"
    }
   ],
   "source": [
    "# int to bool\n",
    "bool(1) # except 0(zero) any number even -1 also gives as True"
   ]
  },
  {
   "cell_type": "code",
   "execution_count": 256,
   "id": "e52c9bdf-d914-4e51-b7da-dba62d341a95",
   "metadata": {},
   "outputs": [
    {
     "data": {
      "text/plain": [
       "True"
      ]
     },
     "execution_count": 256,
     "metadata": {},
     "output_type": "execute_result"
    }
   ],
   "source": [
    "bool(24567891)"
   ]
  },
  {
   "cell_type": "code",
   "execution_count": 257,
   "id": "f9425f5a-6d51-45fd-9575-d20972685266",
   "metadata": {},
   "outputs": [
    {
     "data": {
      "text/plain": [
       "False"
      ]
     },
     "execution_count": 257,
     "metadata": {},
     "output_type": "execute_result"
    }
   ],
   "source": [
    "# int to bool\n",
    "bool(0) # except 0(zero) any number even -1 also gives as True"
   ]
  },
  {
   "cell_type": "code",
   "execution_count": 258,
   "id": "2fbb8002",
   "metadata": {},
   "outputs": [
    {
     "data": {
      "text/plain": [
       "True"
      ]
     },
     "execution_count": 258,
     "metadata": {},
     "output_type": "execute_result"
    }
   ],
   "source": [
    "bool(-8)"
   ]
  },
  {
   "cell_type": "code",
   "execution_count": 259,
   "id": "a60b805c-891f-4b4c-8da4-910243698858",
   "metadata": {},
   "outputs": [
    {
     "data": {
      "text/plain": [
       "True"
      ]
     },
     "execution_count": 259,
     "metadata": {},
     "output_type": "execute_result"
    }
   ],
   "source": [
    "# float to bool\n",
    "bool(22.48) # except 0.0(zero) any decimal even -2.0 also gives as True"
   ]
  },
  {
   "cell_type": "code",
   "execution_count": 260,
   "id": "e6b1fd7f-155d-4234-8bbd-c334474012a2",
   "metadata": {},
   "outputs": [
    {
     "data": {
      "text/plain": [
       "False"
      ]
     },
     "execution_count": 260,
     "metadata": {},
     "output_type": "execute_result"
    }
   ],
   "source": [
    "# float to bool\n",
    "bool(0.0)"
   ]
  },
  {
   "cell_type": "markdown",
   "id": "41dc5ebd-21bd-4eac-896e-9fe39896e938",
   "metadata": {},
   "source": [
    "**`str()` ------can be converted to-----> `int()` if it having only numerical data. `float()` if it having only decimal value**"
   ]
  },
  {
   "cell_type": "code",
   "execution_count": 261,
   "id": "805d74c3-c13c-46a1-8410-2c819847d755",
   "metadata": {},
   "outputs": [
    {
     "data": {
      "text/plain": [
       "'1234'"
      ]
     },
     "execution_count": 261,
     "metadata": {},
     "output_type": "execute_result"
    }
   ],
   "source": [
    "# int to str\n",
    "str(1234)"
   ]
  },
  {
   "cell_type": "code",
   "execution_count": 262,
   "id": "ecce1e62",
   "metadata": {},
   "outputs": [],
   "source": [
    " #! print(str(12ab)) # can you say `12ab` is what type of data? Then how can you convert it to str"
   ]
  },
  {
   "cell_type": "code",
   "execution_count": 263,
   "id": "e7bbea7e-bdd9-43fe-a095-f6e0c6945fc2",
   "metadata": {},
   "outputs": [
    {
     "data": {
      "text/plain": [
       "'24.8'"
      ]
     },
     "execution_count": 263,
     "metadata": {},
     "output_type": "execute_result"
    }
   ],
   "source": [
    "# float to str\n",
    "str(24.80)"
   ]
  },
  {
   "cell_type": "code",
   "execution_count": 264,
   "id": "b4c3ca4b-76d7-4c0d-8088-24b587aa29a5",
   "metadata": {},
   "outputs": [
    {
     "data": {
      "text/plain": [
       "'True'"
      ]
     },
     "execution_count": 264,
     "metadata": {},
     "output_type": "execute_result"
    }
   ],
   "source": [
    "# bool to str\n",
    "str(True)"
   ]
  },
  {
   "cell_type": "code",
   "execution_count": 265,
   "id": "bc53dab1-2a34-4f26-bcb8-6b38f06f5e37",
   "metadata": {},
   "outputs": [
    {
     "data": {
      "text/plain": [
       "'False'"
      ]
     },
     "execution_count": 265,
     "metadata": {},
     "output_type": "execute_result"
    }
   ],
   "source": [
    "# bool to str\n",
    "str(False)"
   ]
  },
  {
   "cell_type": "markdown",
   "id": "b2cf4645-da46-4610-89ce-6a48c54d2d0a",
   "metadata": {},
   "source": [
    "#### **There is another functions like round()**\n",
    "- gives round value from `float` to `int`\n",
    "- it takes ***`nearest even number`*** when exactly half the way of value matched.\n",
    "- suppose:\n",
    "    - if a=1.50 then\n",
    "    - round(a) is 2 (even) "
   ]
  },
  {
   "cell_type": "code",
   "execution_count": 266,
   "id": "bda242ad-7c62-4465-a520-ffcc573b5f91",
   "metadata": {},
   "outputs": [
    {
     "name": "stdout",
     "output_type": "stream",
     "text": [
      "1\n",
      "2\n",
      "5\n",
      "4\n"
     ]
    }
   ],
   "source": [
    "p=1.49 \n",
    "q=1.50\n",
    "r=4.51\n",
    "s=4.50\n",
    "print(round(p)) # nearest value is 1\n",
    "print(round(q)) # nearest even number is 2\n",
    "print(round(r)) # nearest value is 5\n",
    "print(round(s)) # nearest even number is 4"
   ]
  },
  {
   "cell_type": "markdown",
   "id": "c2b0a05e-a860-47f3-b566-075018218d7d",
   "metadata": {},
   "source": [
    "# bool() - `True`/`False`\n",
    "\n",
    "- The bool() function in Python is used to convert a value to either `True` or `False` based on its truthiness.\n",
    "\n",
    "**Truthiness in Python:**\n",
    "In Python, values are considered truthy (evaluates to `True`) or falsy (evaluates to `False`) based on their content.\n",
    "\n",
    "## True Values:\n",
    "\n",
    "Non-zero numbers (e.g., `1`, `3.5`,`-4.5`) are considered truthy\n",
    "\n",
    "Non-empty sequences (e.g., `\"hello\"`, `[1, 2, 3]`)\n",
    "\n",
    "Objects that represent meaningful data\n",
    "\n",
    "## False Values:\n",
    "\n",
    "`None`\n",
    "\n",
    "`0` (zero)\n",
    "\n",
    "`False`\n",
    "\n",
    "Empty sequences or collections (e.g., `\"\"`, `[]`, `{}`, `()`)"
   ]
  },
  {
   "cell_type": "code",
   "execution_count": 267,
   "id": "376944a1-6ef5-4de7-bbc8-62dd70ff02f9",
   "metadata": {},
   "outputs": [
    {
     "name": "stdout",
     "output_type": "stream",
     "text": [
      "True\n",
      "True\n",
      "True\n"
     ]
    }
   ],
   "source": [
    "# True values\n",
    "print(bool(1))        # True\n",
    "print(bool(\"hello\"))  # True\n",
    "print(bool([1, 2]))   # True\n"
   ]
  },
  {
   "cell_type": "code",
   "execution_count": 268,
   "id": "fa73d496-8ab9-4b4d-a6b3-ac50f68b057d",
   "metadata": {},
   "outputs": [
    {
     "name": "stdout",
     "output_type": "stream",
     "text": [
      "False\n",
      "False\n",
      "False\n",
      "False\n",
      "False\n",
      "False\n",
      "False\n"
     ]
    }
   ],
   "source": [
    "# False values\n",
    "print(bool(0))        # False\n",
    "print(bool(\"\"))       # False\n",
    "print(bool(None))     # False\n",
    "print(bool(()))       # False\n",
    "print(bool([]))       # False\n",
    "print(bool({}))       # False\n",
    "print(bool(set()))    # False\n"
   ]
  },
  {
   "cell_type": "code",
   "execution_count": 269,
   "id": "796dfbc1-76f3-4fac-86f9-21a8198febbf",
   "metadata": {},
   "outputs": [
    {
     "name": "stdout",
     "output_type": "stream",
     "text": [
      "True\n",
      "<class 'bool'>\n"
     ]
    }
   ],
   "source": [
    "a1=True\n",
    "print(a1)\n",
    "print(type(a1))"
   ]
  },
  {
   "cell_type": "code",
   "execution_count": 270,
   "id": "a036bc4b-0931-4c24-a60f-317262337e10",
   "metadata": {},
   "outputs": [
    {
     "data": {
      "text/plain": [
       "1"
      ]
     },
     "execution_count": 270,
     "metadata": {},
     "output_type": "execute_result"
    }
   ],
   "source": [
    "int(True)"
   ]
  },
  {
   "cell_type": "code",
   "execution_count": 271,
   "id": "c69b4044-a9ae-4f49-95ae-09eed6d02e07",
   "metadata": {},
   "outputs": [
    {
     "name": "stdout",
     "output_type": "stream",
     "text": [
      "False\n",
      "<class 'bool'>\n"
     ]
    }
   ],
   "source": [
    "b1=False\n",
    "print(b1)\n",
    "print(type(b1))"
   ]
  },
  {
   "cell_type": "code",
   "execution_count": 272,
   "id": "4fe478f3-ebd8-4a29-9a3d-be9d0e5db5da",
   "metadata": {},
   "outputs": [
    {
     "data": {
      "text/plain": [
       "0"
      ]
     },
     "execution_count": 272,
     "metadata": {},
     "output_type": "execute_result"
    }
   ],
   "source": [
    "int(False)"
   ]
  },
  {
   "cell_type": "markdown",
   "id": "ff43e6d8-e212-44a2-aba3-4813191b0191",
   "metadata": {},
   "source": [
    "# Complex\n",
    "- Complex literals can be created by using the notation `x+yj` where `x` is the real component and `y` is the imaginary component."
   ]
  },
  {
   "cell_type": "code",
   "execution_count": 273,
   "id": "372c26ba-5707-4e1d-b5dd-b230a8a8a53e",
   "metadata": {},
   "outputs": [],
   "source": [
    "z=10+20.6j"
   ]
  },
  {
   "cell_type": "code",
   "execution_count": 274,
   "id": "f2fa07e3-6d75-4195-b18c-175b6bf1e221",
   "metadata": {},
   "outputs": [
    {
     "data": {
      "text/plain": [
       "complex"
      ]
     },
     "execution_count": 274,
     "metadata": {},
     "output_type": "execute_result"
    }
   ],
   "source": [
    "type(z)\n"
   ]
  },
  {
   "cell_type": "code",
   "execution_count": 275,
   "id": "ea1d51fe-9a17-4256-bd84-e38f8c13dfac",
   "metadata": {},
   "outputs": [
    {
     "data": {
      "text/plain": [
       "10.0"
      ]
     },
     "execution_count": 275,
     "metadata": {},
     "output_type": "execute_result"
    }
   ],
   "source": [
    "z.real"
   ]
  },
  {
   "cell_type": "code",
   "execution_count": 276,
   "id": "7342689c-3281-43f2-8184-6adccdd598f9",
   "metadata": {},
   "outputs": [
    {
     "data": {
      "text/plain": [
       "20.6"
      ]
     },
     "execution_count": 276,
     "metadata": {},
     "output_type": "execute_result"
    }
   ],
   "source": [
    "z.imag"
   ]
  },
  {
   "cell_type": "code",
   "execution_count": 277,
   "id": "4717acd7-119c-4ead-8624-11f2dcc557b1",
   "metadata": {},
   "outputs": [],
   "source": [
    " #! int(10+5j)"
   ]
  },
  {
   "cell_type": "code",
   "execution_count": 278,
   "id": "709f4824-5823-4d36-b141-2aa0f0cf2b68",
   "metadata": {},
   "outputs": [
    {
     "data": {
      "text/plain": [
       "(4.2+0j)"
      ]
     },
     "execution_count": 278,
     "metadata": {},
     "output_type": "execute_result"
    }
   ],
   "source": [
    "complex(4.2) # float to complex"
   ]
  },
  {
   "cell_type": "code",
   "execution_count": 279,
   "id": "3f7e38fb",
   "metadata": {},
   "outputs": [
    {
     "data": {
      "text/plain": [
       "(2+0j)"
      ]
     },
     "execution_count": 279,
     "metadata": {},
     "output_type": "execute_result"
    }
   ],
   "source": [
    "complex(2) # int to complex"
   ]
  },
  {
   "cell_type": "code",
   "execution_count": 280,
   "id": "13824e1c",
   "metadata": {},
   "outputs": [
    {
     "data": {
      "text/plain": [
       "(1+0j)"
      ]
     },
     "execution_count": 280,
     "metadata": {},
     "output_type": "execute_result"
    }
   ],
   "source": [
    "complex(True) # bool to complex"
   ]
  },
  {
   "cell_type": "code",
   "execution_count": 281,
   "id": "2b31f6e8",
   "metadata": {},
   "outputs": [
    {
     "data": {
      "text/plain": [
       "(4.8+0j)"
      ]
     },
     "execution_count": 281,
     "metadata": {},
     "output_type": "execute_result"
    }
   ],
   "source": [
    "complex('4.8') # str to complex"
   ]
  },
  {
   "cell_type": "markdown",
   "id": "80276350-654c-4372-b2e3-4eaafe5372db",
   "metadata": {},
   "source": [
    "## Mutable:\n",
    "- *we can modify(`add`,`replace`,`remove`) the value within same object (id constant)*\n",
    "    - list()\n",
    "    - set()\n",
    "    - dict()\n",
    "\n",
    "\n",
    "## Immutable:\n",
    "- *we can't modify(`add`,`replace`,`remove`) the value within same object (id will be changed)*\n",
    "\n",
    "    - int()\n",
    "    - float()\n",
    "    - bool()\n",
    "    - complex()\n",
    "    - str()\n",
    "    - tuple()"
   ]
  },
  {
   "cell_type": "markdown",
   "id": "72a7c803-9ad8-473d-8676-10cafc9e2fb0",
   "metadata": {},
   "source": [
    "# str() - Only Text based non-numeric format\n",
    "- a combinaion or sequence of characters represents in quotes ' ',\" \"(alphabets, numbers, special character)"
   ]
  },
  {
   "cell_type": "code",
   "execution_count": 282,
   "id": "893b8d24-5fc0-4be7-a612-770577268214",
   "metadata": {},
   "outputs": [
    {
     "data": {
      "text/plain": [
       "'siva prasad'"
      ]
     },
     "execution_count": 282,
     "metadata": {},
     "output_type": "execute_result"
    }
   ],
   "source": [
    "i=\"siva prasad\"\n",
    "i"
   ]
  },
  {
   "cell_type": "code",
   "execution_count": 283,
   "id": "42c40428-cbfd-482d-be64-0ec8554e91d2",
   "metadata": {},
   "outputs": [
    {
     "data": {
      "text/plain": [
       "str"
      ]
     },
     "execution_count": 283,
     "metadata": {},
     "output_type": "execute_result"
    }
   ],
   "source": [
    "type(i)"
   ]
  },
  {
   "cell_type": "code",
   "execution_count": 284,
   "id": "b68d7d91-52c7-4052-91ea-4917909a752b",
   "metadata": {},
   "outputs": [
    {
     "data": {
      "text/plain": [
       "str"
      ]
     },
     "execution_count": 284,
     "metadata": {},
     "output_type": "execute_result"
    }
   ],
   "source": [
    "a=\"iragamreddy\"\n",
    "b=\"siva48\"\n",
    "c=\"ABCD@xyz1221\"\n",
    "d=\"4884\"\n",
    "type(d)"
   ]
  },
  {
   "cell_type": "markdown",
   "id": "1dc66894-b493-4859-a357-a337d8e86a46",
   "metadata": {},
   "source": [
    "## indexing( access chars in a str() )\n",
    "- strings can be indexed - often synonymously `subscriptable`(index & slicing) as well.\n",
    "- The first character of a string has the index 0(zero)."
   ]
  },
  {
   "cell_type": "code",
   "execution_count": 285,
   "id": "6c9ced01-d628-46cb-810b-ca6f5ae94460",
   "metadata": {},
   "outputs": [
    {
     "data": {
      "text/plain": [
       "\"\\n   (+)    (-)\\ns= 0 (or) -11 \\ni= 1 (or) -10\\nv= 2 (or) -9\\na= 3 (or) -8 \\n'space'= 4 (or) -7 # space is also considered as character\\np= 5 (or) -6 \\nr= 6 (or) -5\\na= 7 (or) -4 \\ns= 8 (or) -3 \\na= 9 (or) -2\\nd= 10 (or) -1\\n\""
      ]
     },
     "execution_count": 285,
     "metadata": {},
     "output_type": "execute_result"
    }
   ],
   "source": [
    "var=\"siva prasad\"\n",
    "\n",
    "'''\n",
    "   (+)    (-)\n",
    "s= 0 (or) -11 \n",
    "i= 1 (or) -10\n",
    "v= 2 (or) -9\n",
    "a= 3 (or) -8 \n",
    "'space'= 4 (or) -7 # space is also considered as character\n",
    "p= 5 (or) -6 \n",
    "r= 6 (or) -5\n",
    "a= 7 (or) -4 \n",
    "s= 8 (or) -3 \n",
    "a= 9 (or) -2\n",
    "d= 10 (or) -1\n",
    "'''"
   ]
  },
  {
   "cell_type": "code",
   "execution_count": 286,
   "id": "76abd328-6d89-4fe6-8fa5-46b0dae258f9",
   "metadata": {},
   "outputs": [
    {
     "data": {
      "text/plain": [
       "'s'"
      ]
     },
     "execution_count": 286,
     "metadata": {},
     "output_type": "execute_result"
    }
   ],
   "source": [
    "var[0]"
   ]
  },
  {
   "cell_type": "code",
   "execution_count": 287,
   "id": "a252b9fe-ead5-4c85-a2b9-e6abd250261e",
   "metadata": {},
   "outputs": [
    {
     "data": {
      "text/plain": [
       "'s'"
      ]
     },
     "execution_count": 287,
     "metadata": {},
     "output_type": "execute_result"
    }
   ],
   "source": [
    "var[-11]"
   ]
  },
  {
   "cell_type": "code",
   "execution_count": 288,
   "id": "b439d46f-56de-4741-ba4c-bdfcb3f083eb",
   "metadata": {},
   "outputs": [
    {
     "data": {
      "text/plain": [
       "'d'"
      ]
     },
     "execution_count": 288,
     "metadata": {},
     "output_type": "execute_result"
    }
   ],
   "source": [
    "var[10]"
   ]
  },
  {
   "cell_type": "code",
   "execution_count": 289,
   "id": "30241b5e-01ad-4396-8038-f3a80830167f",
   "metadata": {},
   "outputs": [
    {
     "data": {
      "text/plain": [
       "'d'"
      ]
     },
     "execution_count": 289,
     "metadata": {},
     "output_type": "execute_result"
    }
   ],
   "source": [
    "var[-1]"
   ]
  },
  {
   "cell_type": "code",
   "execution_count": 290,
   "id": "84b835f5-eaa1-44d6-9038-3fa63364b144",
   "metadata": {},
   "outputs": [
    {
     "data": {
      "text/plain": [
       "' '"
      ]
     },
     "execution_count": 290,
     "metadata": {},
     "output_type": "execute_result"
    }
   ],
   "source": [
    "var[4] #space gap"
   ]
  },
  {
   "cell_type": "code",
   "execution_count": 291,
   "id": "51b8a533-e688-4460-8c8f-dbe0ecccdd1f",
   "metadata": {},
   "outputs": [],
   "source": [
    " #! var[11] #str out of range"
   ]
  },
  {
   "cell_type": "markdown",
   "id": "24fc045f-8bf0-48e1-a1d7-b06d7a979c86",
   "metadata": {},
   "source": [
    "## Slicing\n",
    "### [ start:stop:skip ]\n",
    "    \n",
    "      start - from where to start \n",
    "      stop - where we need to stop(n-1)\n",
    "      skip - how many chars you need to skip(n-1)\n",
    "- default increment is +1\n",
    "- and remember if stop=n then it takes n-1\n",
    "    - ex; stop=9 actually index[9] is 'a'\n",
    "    - but, it gives only index[n-1]=8 so it stops at 's'\n",
    "\n",
    "\n",
    "<pre>\n",
    " + --> 0  1  2  3  4  5  6  7  8  9  10    \n",
    "<strong>var =  s  i  v  a     p  r  a  s  a  d</strong>\n",
    "      -11 -10 -9 -8 -7 -6 -5 -4 -3 -2 -1    ← negative index(-)\n",
    "</pre>\n",
    "\n",
    "\n",
    "- direction is always from `left -->right` for `start and stop`   **ex: [`1:5`]**\n",
    "- if from `right to left`(`<--`), then it returns empty str `''`  **ex: [`-1:-5`]**\n",
    "- but there is another solution, that is decrement in skip  **ex: [`-1:-5:-1`]**\n",
    "\n",
    "- for increment the direction always from `left to right`\n",
    "- for decrement the direction always from `right to left`"
   ]
  },
  {
   "cell_type": "code",
   "execution_count": 292,
   "id": "d3ae41ce-a830-4c3c-bae0-c1058621eea6",
   "metadata": {},
   "outputs": [
    {
     "data": {
      "text/plain": [
       "'siva'"
      ]
     },
     "execution_count": 292,
     "metadata": {},
     "output_type": "execute_result"
    }
   ],
   "source": [
    "var[0:4] #[start:stop]"
   ]
  },
  {
   "cell_type": "code",
   "execution_count": 293,
   "id": "c84c8367-386c-4a09-bd64-391e1c0de051",
   "metadata": {},
   "outputs": [
    {
     "data": {
      "text/plain": [
       "'siva '"
      ]
     },
     "execution_count": 293,
     "metadata": {},
     "output_type": "execute_result"
    }
   ],
   "source": [
    "var[0:5] #space also a special char"
   ]
  },
  {
   "cell_type": "code",
   "execution_count": 294,
   "id": "dec6e90d-d416-47b1-a614-6317169a6b82",
   "metadata": {},
   "outputs": [
    {
     "data": {
      "text/plain": [
       "'siva prasa'"
      ]
     },
     "execution_count": 294,
     "metadata": {},
     "output_type": "execute_result"
    }
   ],
   "source": [
    "var[0:10] #stop---->> (n-1)"
   ]
  },
  {
   "cell_type": "code",
   "execution_count": 295,
   "id": "1b6d531d-455a-41c7-8df2-7aee3d8eb6f4",
   "metadata": {},
   "outputs": [
    {
     "data": {
      "text/plain": [
       "'siva prasad'"
      ]
     },
     "execution_count": 295,
     "metadata": {},
     "output_type": "execute_result"
    }
   ],
   "source": [
    "var[0:11] # in indexing var[11] is out of range in previous indexing but here we are using slicing so it will not give error"
   ]
  },
  {
   "cell_type": "code",
   "execution_count": 296,
   "id": "14aacb03-2541-4cb3-a013-03ba3d01510e",
   "metadata": {},
   "outputs": [
    {
     "data": {
      "text/plain": [
       "'siva prasad'"
      ]
     },
     "execution_count": 296,
     "metadata": {},
     "output_type": "execute_result"
    }
   ],
   "source": [
    "var[0:14] # here you can give any stop index, but it will print only 0 to 10 chars"
   ]
  },
  {
   "cell_type": "code",
   "execution_count": 297,
   "id": "3ef8a62c-c240-443f-80c6-ad8cc3acf096",
   "metadata": {},
   "outputs": [
    {
     "data": {
      "text/plain": [
       "'siva prasa'"
      ]
     },
     "execution_count": 297,
     "metadata": {},
     "output_type": "execute_result"
    }
   ],
   "source": [
    "var[0:-1] # 0 to -1 >> siva prasa "
   ]
  },
  {
   "cell_type": "code",
   "execution_count": 298,
   "id": "b781704d-52f7-4470-8b00-82407948e039",
   "metadata": {},
   "outputs": [
    {
     "data": {
      "text/plain": [
       "'d'"
      ]
     },
     "execution_count": 298,
     "metadata": {},
     "output_type": "execute_result"
    }
   ],
   "source": [
    "var[-1] # from reverse"
   ]
  },
  {
   "cell_type": "code",
   "execution_count": 299,
   "id": "61e7448c-fcde-4de1-9d00-0c43a3e3ca05",
   "metadata": {},
   "outputs": [
    {
     "data": {
      "text/plain": [
       "'siva p'"
      ]
     },
     "execution_count": 299,
     "metadata": {},
     "output_type": "execute_result"
    }
   ],
   "source": [
    "var[0:-5]"
   ]
  },
  {
   "cell_type": "code",
   "execution_count": 300,
   "id": "df0bce5b-074a-4e80-9704-7299b206a6af",
   "metadata": {},
   "outputs": [
    {
     "data": {
      "text/plain": [
       "'sv rs'"
      ]
     },
     "execution_count": 300,
     "metadata": {},
     "output_type": "execute_result"
    }
   ],
   "source": [
    "var[0:-1:2] # it skip char one by one (2-1=1)"
   ]
  },
  {
   "cell_type": "code",
   "execution_count": 301,
   "id": "f2fdc31f-ea8f-42d0-89f6-3896316294fb",
   "metadata": {},
   "outputs": [
    {
     "data": {
      "text/plain": [
       "'sv rsd'"
      ]
     },
     "execution_count": 301,
     "metadata": {},
     "output_type": "execute_result"
    }
   ],
   "source": [
    "var[0:11:2] # above -1 not included but here we included 10 or -1 also thats why 'd' willl be printed"
   ]
  },
  {
   "cell_type": "code",
   "execution_count": 302,
   "id": "b1d382ad-6b8e-4b34-ac12-0c868191c156",
   "metadata": {},
   "outputs": [
    {
     "data": {
      "text/plain": [
       "'s s'"
      ]
     },
     "execution_count": 302,
     "metadata": {},
     "output_type": "execute_result"
    }
   ],
   "source": [
    "var[0:11:4] # from start to end, it will skip 3chars and next 4th one will be printed again same logic\n",
    "\n",
    "#               var='siva prasad'\n",
    "#               var[0:11:4] \n",
    "\n",
    "# stop >> 11-1=10\n",
    "# skip >>  4-1=3\n",
    "\n",
    "# '(s)iva( )pra(s)ad'  ---->> 'space gap' also a char\n",
    "\n",
    "# 's s' is the answer\n",
    "\n"
   ]
  },
  {
   "cell_type": "code",
   "execution_count": 303,
   "id": "8d279d08-0533-4fce-97ee-aa5652b81e86",
   "metadata": {},
   "outputs": [
    {
     "data": {
      "text/plain": [
       "'siva prasad'"
      ]
     },
     "execution_count": 303,
     "metadata": {},
     "output_type": "execute_result"
    }
   ],
   "source": [
    "var[:11] # it takses intial starting index if we dont give"
   ]
  },
  {
   "cell_type": "code",
   "execution_count": 304,
   "id": "abfd7a28-fe51-43c4-a10c-97057df0a78e",
   "metadata": {},
   "outputs": [
    {
     "data": {
      "text/plain": [
       "'siva prasad'"
      ]
     },
     "execution_count": 304,
     "metadata": {},
     "output_type": "execute_result"
    }
   ],
   "source": [
    "var[0:] # same for stop also and includes last char"
   ]
  },
  {
   "cell_type": "code",
   "execution_count": 305,
   "id": "79c14375-9bfb-451e-b640-f1990b3560cb",
   "metadata": {},
   "outputs": [
    {
     "data": {
      "text/plain": [
       "'siva prasad'"
      ]
     },
     "execution_count": 305,
     "metadata": {},
     "output_type": "execute_result"
    }
   ],
   "source": [
    "var[::] # initial start, final end char and default skip"
   ]
  },
  {
   "cell_type": "code",
   "execution_count": 306,
   "id": "6e1d06b8-f1a1-44b0-98b3-f0a3653764f4",
   "metadata": {},
   "outputs": [
    {
     "data": {
      "text/plain": [
       "'dasarp avis'"
      ]
     },
     "execution_count": 306,
     "metadata": {},
     "output_type": "execute_result"
    }
   ],
   "source": [
    "var[::-1] # reverse order here direction is left to right but decrement will happens"
   ]
  },
  {
   "cell_type": "code",
   "execution_count": 307,
   "id": "f5374a69-832e-4889-8089-fd17bcfccb10",
   "metadata": {},
   "outputs": [
    {
     "data": {
      "text/plain": [
       "''"
      ]
     },
     "execution_count": 307,
     "metadata": {},
     "output_type": "execute_result"
    }
   ],
   "source": [
    "var[-1:-8] # direction is <-- right to left and default increment 1. So empty str '' "
   ]
  },
  {
   "cell_type": "code",
   "execution_count": 308,
   "id": "7ff56ab4-42b9-463d-b396-665c69d82575",
   "metadata": {},
   "outputs": [
    {
     "data": {
      "text/plain": [
       "''"
      ]
     },
     "execution_count": 308,
     "metadata": {},
     "output_type": "execute_result"
    }
   ],
   "source": [
    "var[1:1] # start stop same point gives empty str"
   ]
  },
  {
   "cell_type": "code",
   "execution_count": 309,
   "id": "2dd64f06-00a3-45fb-a977-35a49e55b39b",
   "metadata": {},
   "outputs": [
    {
     "data": {
      "text/plain": [
       "'rasa'"
      ]
     },
     "execution_count": 309,
     "metadata": {},
     "output_type": "execute_result"
    }
   ],
   "source": [
    "var[-5:-1] # we saw in above example"
   ]
  },
  {
   "cell_type": "code",
   "execution_count": 310,
   "id": "675a2b1a-a805-469c-81a6-afc72210eb82",
   "metadata": {},
   "outputs": [
    {
     "data": {
      "text/plain": [
       "''"
      ]
     },
     "execution_count": 310,
     "metadata": {},
     "output_type": "execute_result"
    }
   ],
   "source": [
    "var[-1:-5] # we saw explaination in above example & default increment is 1"
   ]
  },
  {
   "cell_type": "code",
   "execution_count": 311,
   "id": "87b10357-02c5-4880-8d69-6986caa53539",
   "metadata": {},
   "outputs": [
    {
     "data": {
      "text/plain": [
       "'dasa'"
      ]
     },
     "execution_count": 311,
     "metadata": {},
     "output_type": "execute_result"
    }
   ],
   "source": [
    "var[-1:-5:-1] # we saw in above example but here direction is left to right and decrement(-1) will happens"
   ]
  },
  {
   "cell_type": "code",
   "execution_count": 312,
   "id": "254cca8c-6bca-454a-8d5d-9d9b24c03c75",
   "metadata": {},
   "outputs": [
    {
     "data": {
      "text/plain": [
       "'siva prasad'"
      ]
     },
     "execution_count": 312,
     "metadata": {},
     "output_type": "execute_result"
    }
   ],
   "source": [
    "var[0:11:1] # default skip is 1 ----->> (n-1)"
   ]
  },
  {
   "cell_type": "code",
   "execution_count": 313,
   "id": "b37fc44f",
   "metadata": {},
   "outputs": [
    {
     "data": {
      "text/plain": [
       "''"
      ]
     },
     "execution_count": 313,
     "metadata": {},
     "output_type": "execute_result"
    }
   ],
   "source": [
    "var[0:11:-1] # direction is left to right and decrement will happens"
   ]
  },
  {
   "cell_type": "code",
   "execution_count": 314,
   "id": "02e14592-84fd-4253-bc20-7d39165894df",
   "metadata": {},
   "outputs": [
    {
     "data": {
      "text/plain": [
       "2627157796912"
      ]
     },
     "execution_count": 314,
     "metadata": {},
     "output_type": "execute_result"
    }
   ],
   "source": [
    "id(var)"
   ]
  },
  {
   "cell_type": "markdown",
   "id": "d671b2e9-109d-4193-8c55-2151a2528f5c",
   "metadata": {},
   "source": [
    "## string methods\n",
    "var.method()"
   ]
  },
  {
   "cell_type": "markdown",
   "id": "1158bfa4-3a45-4d38-8f79-f8eb48cfde65",
   "metadata": {},
   "source": [
    "**length of the string**\n",
    "- len(str_var) - gives no.of characters in string"
   ]
  },
  {
   "cell_type": "code",
   "execution_count": 315,
   "id": "a6955175-70e5-4e31-9e55-13a4801e62d9",
   "metadata": {},
   "outputs": [
    {
     "name": "stdout",
     "output_type": "stream",
     "text": [
      "siva prasad\n"
     ]
    },
    {
     "data": {
      "text/plain": [
       "11"
      ]
     },
     "execution_count": 315,
     "metadata": {},
     "output_type": "execute_result"
    }
   ],
   "source": [
    "# 'space gap' is also known as special character, so len function counts 'space gap' also \n",
    "f=\"siva prasad\"\n",
    "age=22\n",
    "print(f)\n",
    "len(f) # this is global function/method applicable sequence data types like str, list, tuple, set, dict"
   ]
  },
  {
   "cell_type": "code",
   "execution_count": 316,
   "id": "15e50cee-ff2b-4ca7-8cd2-7605158ae16c",
   "metadata": {},
   "outputs": [
    {
     "name": "stdout",
     "output_type": "stream",
     "text": [
      "\n",
      "s=1 \n",
      "i=2 \n",
      "v=3 \n",
      "a=4 \n",
      "'space'=5 \n",
      "p=6 \n",
      "r=7 \n",
      "a=8 \n",
      "s=9 \n",
      "a=10\n",
      "d=11\n",
      "\n"
     ]
    }
   ],
   "source": [
    "print(f\"\"\"\n",
    "s=1 \n",
    "i=2 \n",
    "v=3 \n",
    "a=4 \n",
    "'space'=5 \n",
    "p=6 \n",
    "r=7 \n",
    "a=8 \n",
    "s=9 \n",
    "a=10\n",
    "d=11\n",
    "\"\"\")\n"
   ]
  },
  {
   "cell_type": "markdown",
   "id": "c69047aa-4d25-479e-9e09-e9b064bc9119",
   "metadata": {},
   "source": [
    "### f string\n",
    "\n",
    "- can use in print fns to access variables and structured output"
   ]
  },
  {
   "cell_type": "code",
   "execution_count": 317,
   "id": "e61ba511-c019-441e-9c56-8e6a9319d0c5",
   "metadata": {},
   "outputs": [
    {
     "name": "stdout",
     "output_type": "stream",
     "text": [
      "\n",
      "My name is siva prasad.\n",
      "My age is 22 \n"
     ]
    }
   ],
   "source": [
    "print(f'''\n",
    "My name is {f}.\n",
    "My age is {age} ''')"
   ]
  },
  {
   "cell_type": "markdown",
   "id": "acb576a8-852c-4fa6-ad7e-fd713dd802cf",
   "metadata": {},
   "source": [
    "**String concatenation**\n",
    "- Joining of two or more strings into single string is called concatenation.\n",
    "- `Note:`when we use **+** operator both are in string format only"
   ]
  },
  {
   "cell_type": "code",
   "execution_count": 318,
   "id": "ffb4a46e-bfb4-4b36-87f1-fde816b53cb9",
   "metadata": {},
   "outputs": [],
   "source": [
    "surname=\"iragamreddy\"\n",
    "name=\"siva\""
   ]
  },
  {
   "cell_type": "code",
   "execution_count": 319,
   "id": "0e74af3e-835a-411f-ac3f-765fa7cc838a",
   "metadata": {},
   "outputs": [
    {
     "name": "stdout",
     "output_type": "stream",
     "text": [
      "sivairagamreddy\n"
     ]
    }
   ],
   "source": [
    "c_name=name + surname # it combines without gap\n",
    "print(c_name)"
   ]
  },
  {
   "cell_type": "code",
   "execution_count": 320,
   "id": "0705bcdd-e992-494a-ae1c-fead89001634",
   "metadata": {},
   "outputs": [
    {
     "name": "stdout",
     "output_type": "stream",
     "text": [
      "siva iragamreddy\n"
     ]
    }
   ],
   "source": [
    "c_name=name+\" \"+surname # I seperate with 'space gap'\n",
    "print(c_name)"
   ]
  },
  {
   "cell_type": "markdown",
   "id": "bc22441e",
   "metadata": {},
   "source": [
    "**\"symbol/char\".join([var,var])**"
   ]
  },
  {
   "cell_type": "code",
   "execution_count": 321,
   "id": "3ba031f0",
   "metadata": {},
   "outputs": [
    {
     "name": "stdout",
     "output_type": "stream",
     "text": [
      "siva@iragamreddy\n"
     ]
    },
    {
     "data": {
      "text/plain": [
       "str"
      ]
     },
     "execution_count": 321,
     "metadata": {},
     "output_type": "execute_result"
    }
   ],
   "source": [
    "c_name_with_gap = \"@\".join([name, surname]) # I join with '@' gap you can try with 'space gap' also\n",
    "print(c_name_with_gap)\n",
    "type(c_name_with_gap)"
   ]
  },
  {
   "cell_type": "code",
   "execution_count": 322,
   "id": "89ee6856",
   "metadata": {},
   "outputs": [
    {
     "name": "stdout",
     "output_type": "stream",
     "text": [
      "siva iragamreddy\n"
     ]
    }
   ],
   "source": [
    "print(f\"{name} {surname}\") # for just printing purpose"
   ]
  },
  {
   "cell_type": "code",
   "execution_count": 323,
   "id": "43e5f67a-020e-407c-97c9-48ae3ab43ba7",
   "metadata": {},
   "outputs": [
    {
     "data": {
      "text/plain": [
       "'iragamreddysiva'"
      ]
     },
     "execution_count": 323,
     "metadata": {},
     "output_type": "execute_result"
    }
   ],
   "source": [
    "'iragamreddy'+'siva'"
   ]
  },
  {
   "cell_type": "code",
   "execution_count": 324,
   "id": "87349010-b9f7-4e78-8000-476313b0427d",
   "metadata": {},
   "outputs": [
    {
     "data": {
      "text/plain": [
       "'iragamreddy siva'"
      ]
     },
     "execution_count": 324,
     "metadata": {},
     "output_type": "execute_result"
    }
   ],
   "source": [
    "'iragamreddy'+' '+'siva'"
   ]
  },
  {
   "cell_type": "code",
   "execution_count": 325,
   "id": "1b5cd762-fce2-4143-98f3-9223bce55ecf",
   "metadata": {},
   "outputs": [],
   "source": [
    " #! \"hello\"+24 # str + int gives error, only str and str"
   ]
  },
  {
   "cell_type": "code",
   "execution_count": 326,
   "id": "5b27c5a9-dc4a-4014-a1a6-f680a9ca2dfa",
   "metadata": {},
   "outputs": [
    {
     "data": {
      "text/plain": [
       "'hello24'"
      ]
     },
     "execution_count": 326,
     "metadata": {},
     "output_type": "execute_result"
    }
   ],
   "source": [
    "\"hello\"+\"24\""
   ]
  },
  {
   "cell_type": "markdown",
   "id": "a5aa8365",
   "metadata": {},
   "source": [
    "#### **' '.join() -** join a list of strings into a single string, using specified delmeter"
   ]
  },
  {
   "cell_type": "code",
   "execution_count": 327,
   "id": "c1088b1b",
   "metadata": {},
   "outputs": [
    {
     "data": {
      "text/plain": [
       "'Iragamreddy Siva Prasad Reddy'"
      ]
     },
     "execution_count": 327,
     "metadata": {},
     "output_type": "execute_result"
    }
   ],
   "source": [
    "s1,s2,s3,s4='Iragamreddy','Siva','Prasad','Reddy'\n",
    "s1+' '+s2+' '+s3+' '+s4"
   ]
  },
  {
   "cell_type": "code",
   "execution_count": 328,
   "id": "bbfd7410",
   "metadata": {},
   "outputs": [
    {
     "data": {
      "text/plain": [
       "'Iragamreddy Siva Prasad Reddy'"
      ]
     },
     "execution_count": 328,
     "metadata": {},
     "output_type": "execute_result"
    }
   ],
   "source": [
    "' '.join([s1,s2,s3,s4]) # only str data types can be joined with space, not sequence/iterable data types"
   ]
  },
  {
   "cell_type": "code",
   "execution_count": 329,
   "id": "6efb0a49",
   "metadata": {},
   "outputs": [
    {
     "data": {
      "text/plain": [
       "'Iragamreddy::Siva::Prasad::Reddy'"
      ]
     },
     "execution_count": 329,
     "metadata": {},
     "output_type": "execute_result"
    }
   ],
   "source": [
    "'::'.join([s1,s2,s3,s4]) # you can give anything as delimeter"
   ]
  },
  {
   "cell_type": "code",
   "execution_count": 330,
   "id": "4a58734b",
   "metadata": {},
   "outputs": [],
   "source": [
    " #! ' '.join(s1,s2,s3,s4) # .join only takes one argument so we need to give in iterables(list,tuple)"
   ]
  },
  {
   "cell_type": "markdown",
   "id": "4eed4809-ec20-44a1-9c48-75c140a0a311",
   "metadata": {},
   "source": [
    "#### **capitalize  -** Capitalises only first letter and remaining all to small (Sentence case in Msword)"
   ]
  },
  {
   "cell_type": "code",
   "execution_count": 331,
   "id": "87c8c7e0-a86d-4e04-addc-37c9c6077b77",
   "metadata": {},
   "outputs": [],
   "source": [
    "p=\"gooD moRNing. Hello\""
   ]
  },
  {
   "cell_type": "code",
   "execution_count": 332,
   "id": "dcddb565-380e-408f-845e-c596fc85df61",
   "metadata": {},
   "outputs": [
    {
     "data": {
      "text/plain": [
       "'Good morning. hello'"
      ]
     },
     "execution_count": 332,
     "metadata": {},
     "output_type": "execute_result"
    }
   ],
   "source": [
    "p.capitalize()"
   ]
  },
  {
   "cell_type": "markdown",
   "id": "bc372ef1-5595-481f-b409-c28d739c9cb7",
   "metadata": {},
   "source": [
    "#### **title -** Capitalize first letter of `each word` and remaining all to small"
   ]
  },
  {
   "cell_type": "code",
   "execution_count": 333,
   "id": "830d66b1-9623-49c7-af95-52b0c9b6b16e",
   "metadata": {},
   "outputs": [
    {
     "data": {
      "text/plain": [
       "'Good Morning. Hello'"
      ]
     },
     "execution_count": 333,
     "metadata": {},
     "output_type": "execute_result"
    }
   ],
   "source": [
    "p.title()"
   ]
  },
  {
   "cell_type": "markdown",
   "id": "ca7879eb-4cb0-4f3b-8e48-07d1b4a31aa7",
   "metadata": {},
   "source": [
    "#### **upper -** converts complete string to `upper case`"
   ]
  },
  {
   "cell_type": "code",
   "execution_count": 334,
   "id": "adbd61fe-4ec1-4888-9bc5-5835e467a2f2",
   "metadata": {},
   "outputs": [
    {
     "data": {
      "text/plain": [
       "'GOOD MORNING. HELLO'"
      ]
     },
     "execution_count": 334,
     "metadata": {},
     "output_type": "execute_result"
    }
   ],
   "source": [
    "p.upper()"
   ]
  },
  {
   "cell_type": "markdown",
   "id": "db86f32f-3a7c-4a62-a105-3bef9cf43bd9",
   "metadata": {},
   "source": [
    "#### **lower -** converts complete string to `lower case`"
   ]
  },
  {
   "cell_type": "code",
   "execution_count": 335,
   "id": "5aba881d-535e-4ba6-9aa2-f811554991c4",
   "metadata": {},
   "outputs": [
    {
     "data": {
      "text/plain": [
       "'good morning. hello'"
      ]
     },
     "execution_count": 335,
     "metadata": {},
     "output_type": "execute_result"
    }
   ],
   "source": [
    "p.lower()"
   ]
  },
  {
   "cell_type": "markdown",
   "id": "65ec1cc5",
   "metadata": {},
   "source": [
    "#### **swapcase -** convert lower to upper and upper to lower"
   ]
  },
  {
   "cell_type": "code",
   "execution_count": 336,
   "id": "470544c4",
   "metadata": {},
   "outputs": [
    {
     "name": "stdout",
     "output_type": "stream",
     "text": [
      "gooD moRNing. Hello\n"
     ]
    },
    {
     "data": {
      "text/plain": [
       "'GOOd MOrnING. hELLO'"
      ]
     },
     "execution_count": 336,
     "metadata": {},
     "output_type": "execute_result"
    }
   ],
   "source": [
    "print(p)\n",
    "p.swapcase()"
   ]
  },
  {
   "cell_type": "markdown",
   "id": "1cd17cbd",
   "metadata": {},
   "source": [
    "#### **str.index() -** returns index number of first occurence of the given 'string' for specified selection. also raises erros if not found"
   ]
  },
  {
   "cell_type": "code",
   "execution_count": 337,
   "id": "d90ced25",
   "metadata": {},
   "outputs": [
    {
     "name": "stdout",
     "output_type": "stream",
     "text": [
      "31\n"
     ]
    },
    {
     "data": {
      "text/plain": [
       "0"
      ]
     },
     "execution_count": 337,
     "metadata": {},
     "output_type": "execute_result"
    }
   ],
   "source": [
    "z2=\"Pytho is very very popular lang\"\n",
    "print(len(z2))\n",
    "z2.index('P') # returns index of first occurance of 'P'"
   ]
  },
  {
   "cell_type": "code",
   "execution_count": 338,
   "id": "c415f4e4",
   "metadata": {},
   "outputs": [
    {
     "data": {
      "text/plain": [
       "0"
      ]
     },
     "execution_count": 338,
     "metadata": {},
     "output_type": "execute_result"
    }
   ],
   "source": [
    "z2.index('Pyth')"
   ]
  },
  {
   "cell_type": "code",
   "execution_count": 339,
   "id": "47a83ec3",
   "metadata": {},
   "outputs": [
    {
     "data": {
      "text/plain": [
       "23"
      ]
     },
     "execution_count": 339,
     "metadata": {},
     "output_type": "execute_result"
    }
   ],
   "source": [
    "z2.index('la')"
   ]
  },
  {
   "cell_type": "code",
   "execution_count": 340,
   "id": "ee0c51b6",
   "metadata": {},
   "outputs": [
    {
     "data": {
      "text/plain": [
       "30"
      ]
     },
     "execution_count": 340,
     "metadata": {},
     "output_type": "execute_result"
    }
   ],
   "source": [
    "z2.index('g')"
   ]
  },
  {
   "cell_type": "code",
   "execution_count": 341,
   "id": "3c58bb3d",
   "metadata": {},
   "outputs": [
    {
     "data": {
      "text/plain": [
       "9"
      ]
     },
     "execution_count": 341,
     "metadata": {},
     "output_type": "execute_result"
    }
   ],
   "source": [
    "z2.index('very') # first occurence"
   ]
  },
  {
   "cell_type": "code",
   "execution_count": 342,
   "id": "c26e426c",
   "metadata": {},
   "outputs": [],
   "source": [
    " #! z2.index('java') # not found error"
   ]
  },
  {
   "cell_type": "markdown",
   "id": "6b2860cd-1ab3-45e5-8249-a6dd3ead9b4b",
   "metadata": {},
   "source": [
    "#### **find -** To find a string in the input string, but returns -1 if value is not present\n",
    "\n",
    "- so which one is better throwing error (or) returning -1 if value is not present? think about it!"
   ]
  },
  {
   "cell_type": "code",
   "execution_count": 343,
   "id": "84e80335",
   "metadata": {},
   "outputs": [
    {
     "data": {
      "text/plain": [
       "'Pytho is very very popular lang'"
      ]
     },
     "execution_count": 343,
     "metadata": {},
     "output_type": "execute_result"
    }
   ],
   "source": [
    "z2"
   ]
  },
  {
   "cell_type": "code",
   "execution_count": 344,
   "id": "47e921e8-27f4-4570-9607-0fa45b5a411a",
   "metadata": {},
   "outputs": [
    {
     "data": {
      "text/plain": [
       "0"
      ]
     },
     "execution_count": 344,
     "metadata": {},
     "output_type": "execute_result"
    }
   ],
   "source": [
    "z2.find('Pyth')"
   ]
  },
  {
   "cell_type": "code",
   "execution_count": 345,
   "id": "cecd17aa",
   "metadata": {},
   "outputs": [
    {
     "data": {
      "text/plain": [
       "'gooD moRNing. Hello'"
      ]
     },
     "execution_count": 345,
     "metadata": {},
     "output_type": "execute_result"
    }
   ],
   "source": [
    "p"
   ]
  },
  {
   "cell_type": "code",
   "execution_count": 346,
   "id": "20af830d-7f95-4213-8acd-8b2110a5436d",
   "metadata": {},
   "outputs": [
    {
     "data": {
      "text/plain": [
       "-1"
      ]
     },
     "execution_count": 346,
     "metadata": {},
     "output_type": "execute_result"
    }
   ],
   "source": [
    "# can you guess why it gves -1 as output? bcoz, unknown string value always -1.\n",
    "# 'morning' is not present in string. strings are case sensitive.\n",
    "p.find('java')"
   ]
  },
  {
   "cell_type": "code",
   "execution_count": 347,
   "id": "b572f11d-0292-4052-b7a9-d02d6a4e70d7",
   "metadata": {},
   "outputs": [
    {
     "data": {
      "text/plain": [
       "5"
      ]
     },
     "execution_count": 347,
     "metadata": {},
     "output_type": "execute_result"
    }
   ],
   "source": [
    "p.find('moRNing') # give as it is present in string, str is case sensitive"
   ]
  },
  {
   "cell_type": "code",
   "execution_count": 348,
   "id": "c31229a3",
   "metadata": {},
   "outputs": [
    {
     "data": {
      "text/plain": [
       "-1"
      ]
     },
     "execution_count": 348,
     "metadata": {},
     "output_type": "execute_result"
    }
   ],
   "source": [
    "p.find('morning') # give as it is present in string, str is case sensitive"
   ]
  },
  {
   "cell_type": "markdown",
   "id": "447d0834",
   "metadata": {},
   "source": [
    "**str.lower().find()**"
   ]
  },
  {
   "cell_type": "code",
   "execution_count": 349,
   "id": "ffd5dc41-b6cf-4dbd-9323-f1d85cc7f9ad",
   "metadata": {},
   "outputs": [
    {
     "data": {
      "text/plain": [
       "5"
      ]
     },
     "execution_count": 349,
     "metadata": {},
     "output_type": "execute_result"
    }
   ],
   "source": [
    "# otherwise use lower(), this is best practice\n",
    "p.lower().find('morning') \n",
    "# ? >> 1. holds 'morning' in hand(memory) and then\n",
    "# ? >> 2. apply lower() method on 'p' string and finally \n",
    "# ? >> 3.then find the index of 'morning' in 'p' string\n",
    "# p.find('morning').lower() # gives error bcoz, first find the index and then apply lower()"
   ]
  },
  {
   "cell_type": "markdown",
   "id": "01e1432d-14da-41dd-aa14-f50119be7ebf",
   "metadata": {},
   "source": [
    "#### **count -** To count `how many times` the string is is available in main string"
   ]
  },
  {
   "cell_type": "code",
   "execution_count": 350,
   "id": "1ea27902",
   "metadata": {},
   "outputs": [
    {
     "data": {
      "text/plain": [
       "'gooD moRNing. Hello'"
      ]
     },
     "execution_count": 350,
     "metadata": {},
     "output_type": "execute_result"
    }
   ],
   "source": [
    "p"
   ]
  },
  {
   "cell_type": "code",
   "execution_count": 351,
   "id": "eeb93035-fde7-4a64-8120-e8a27047c869",
   "metadata": {},
   "outputs": [
    {
     "data": {
      "text/plain": [
       "4"
      ]
     },
     "execution_count": 351,
     "metadata": {},
     "output_type": "execute_result"
    }
   ],
   "source": [
    "p.count('o') # 4 times 'o' repeated in string"
   ]
  },
  {
   "cell_type": "code",
   "execution_count": 352,
   "id": "239ab4e2",
   "metadata": {},
   "outputs": [
    {
     "data": {
      "text/plain": [
       "1"
      ]
     },
     "execution_count": 352,
     "metadata": {},
     "output_type": "execute_result"
    }
   ],
   "source": [
    "p.count('oo')"
   ]
  },
  {
   "cell_type": "code",
   "execution_count": 353,
   "id": "6b6a89bc",
   "metadata": {},
   "outputs": [
    {
     "data": {
      "text/plain": [
       "2"
      ]
     },
     "execution_count": 353,
     "metadata": {},
     "output_type": "execute_result"
    }
   ],
   "source": [
    "p.count('g')"
   ]
  },
  {
   "cell_type": "code",
   "execution_count": 354,
   "id": "72fec0b6",
   "metadata": {},
   "outputs": [
    {
     "data": {
      "text/plain": [
       "1"
      ]
     },
     "execution_count": 354,
     "metadata": {},
     "output_type": "execute_result"
    }
   ],
   "source": [
    "p.count('Hello')"
   ]
  },
  {
   "cell_type": "code",
   "execution_count": 381,
   "id": "dcdf1dce",
   "metadata": {},
   "outputs": [
    {
     "data": {
      "text/plain": [
       "2"
      ]
     },
     "execution_count": 381,
     "metadata": {},
     "output_type": "execute_result"
    }
   ],
   "source": [
    "name=\"siva prasad\" # simple interview question keep remember\n",
    "name.count('s')"
   ]
  },
  {
   "cell_type": "markdown",
   "id": "03d5fd57-66d9-4caf-8583-8a81ce260214",
   "metadata": {},
   "source": [
    "#### **split -** split words and returns a list of words.\n",
    "- by default split with space.\n",
    "- we can also customize according to our needs.\n",
    "\n",
    "    - syntax:\n",
    "      - `str.split(\"delimeter\")`  # symbol/char >> delimeter"
   ]
  },
  {
   "cell_type": "code",
   "execution_count": 355,
   "id": "ef1a4419",
   "metadata": {},
   "outputs": [
    {
     "data": {
      "text/plain": [
       "'gooD moRNing. Hello'"
      ]
     },
     "execution_count": 355,
     "metadata": {},
     "output_type": "execute_result"
    }
   ],
   "source": [
    "p"
   ]
  },
  {
   "cell_type": "code",
   "execution_count": 356,
   "id": "6fd1c67b-a24b-4090-a626-ed42d74a9fe3",
   "metadata": {},
   "outputs": [
    {
     "data": {
      "text/plain": [
       "['gooD', 'moRNing.', 'Hello']"
      ]
     },
     "execution_count": 356,
     "metadata": {},
     "output_type": "execute_result"
    }
   ],
   "source": [
    "p.split()"
   ]
  },
  {
   "cell_type": "code",
   "execution_count": 357,
   "id": "25516280-e574-4879-8b85-55ec08fa3eef",
   "metadata": {},
   "outputs": [
    {
     "data": {
      "text/plain": [
       "['hi,hello', 'when', 'where.siva.prasad']"
      ]
     },
     "execution_count": 357,
     "metadata": {},
     "output_type": "execute_result"
    }
   ],
   "source": [
    "q='hi,hello when where.siva.prasad' # default delimiter is 'space gap'\n",
    "q.split()"
   ]
  },
  {
   "cell_type": "code",
   "execution_count": 358,
   "id": "61e3f228-1d35-4d60-9168-96deea1b34c1",
   "metadata": {},
   "outputs": [
    {
     "data": {
      "text/plain": [
       "['hi', 'hello when where.siva.prasad']"
      ]
     },
     "execution_count": 358,
     "metadata": {},
     "output_type": "execute_result"
    }
   ],
   "source": [
    "q.split(',') # delimeter is ','"
   ]
  },
  {
   "cell_type": "code",
   "execution_count": 359,
   "id": "81896b74-0ffc-45de-a3ea-f32381372653",
   "metadata": {},
   "outputs": [
    {
     "data": {
      "text/plain": [
       "['hi,hello when where', 'siva', 'prasad']"
      ]
     },
     "execution_count": 359,
     "metadata": {},
     "output_type": "execute_result"
    }
   ],
   "source": [
    "q.split('.')"
   ]
  },
  {
   "cell_type": "code",
   "execution_count": 360,
   "id": "c3a5fd77",
   "metadata": {},
   "outputs": [
    {
     "name": "stdout",
     "output_type": "stream",
     "text": [
      "['hi,hello', 'when', 'where.siva.prasad']\n"
     ]
    },
    {
     "data": {
      "text/plain": [
       "list"
      ]
     },
     "execution_count": 360,
     "metadata": {},
     "output_type": "execute_result"
    }
   ],
   "source": [
    "# change the string to list conversion\n",
    "d=q.split()\n",
    "print(d)\n",
    "type(d)"
   ]
  },
  {
   "cell_type": "code",
   "execution_count": 361,
   "id": "1263417c",
   "metadata": {},
   "outputs": [
    {
     "data": {
      "text/plain": [
       "['hi', 'hello', '', 'when@where,siva.prasad']"
      ]
     },
     "execution_count": 361,
     "metadata": {},
     "output_type": "execute_result"
    }
   ],
   "source": [
    "p1='hi:hello::when@where,siva.prasad' # we can only split if we have delimiter in string\n",
    "p1.split(':')"
   ]
  },
  {
   "cell_type": "code",
   "execution_count": 362,
   "id": "2d49eb53",
   "metadata": {},
   "outputs": [
    {
     "data": {
      "text/plain": [
       "['hi:hello', 'when@where,siva.prasad']"
      ]
     },
     "execution_count": 362,
     "metadata": {},
     "output_type": "execute_result"
    }
   ],
   "source": [
    "p1.split('::')"
   ]
  },
  {
   "cell_type": "code",
   "execution_count": 383,
   "id": "ec7c6b66",
   "metadata": {},
   "outputs": [
    {
     "name": "stdout",
     "output_type": "stream",
     "text": [
      "['hi', 'hello', '', 'when', 'where', 'siva', 'prasad']\n"
     ]
    }
   ],
   "source": [
    "import re\n",
    "\n",
    "words = re.split(r'[:@,.]', p1)\n",
    "print(words)"
   ]
  },
  {
   "cell_type": "markdown",
   "id": "699dcb0e-7ec8-4f9c-97a9-18f03cf90b53",
   "metadata": {},
   "source": [
    "#### **join -** it will joins all list of elements into a string"
   ]
  },
  {
   "cell_type": "code",
   "execution_count": 385,
   "id": "9fc78794",
   "metadata": {},
   "outputs": [
    {
     "name": "stdout",
     "output_type": "stream",
     "text": [
      "hi,hello when where.siva.prasad\n"
     ]
    }
   ],
   "source": [
    "q1=['i','am','siva','prasad']\n",
    "print(q)"
   ]
  },
  {
   "cell_type": "code",
   "execution_count": 386,
   "id": "ed2af681-b15e-45b0-a563-e5f410ebb86c",
   "metadata": {},
   "outputs": [
    {
     "data": {
      "text/plain": [
       "'hihellowherewhen'"
      ]
     },
     "execution_count": 386,
     "metadata": {},
     "output_type": "execute_result"
    }
   ],
   "source": [
    "r=[\"hi\", \"hello\", \"where\", \"when\"] # list\n",
    "''.join(r) # joins without any gap"
   ]
  },
  {
   "cell_type": "code",
   "execution_count": 388,
   "id": "fc363b6b-5a08-4aab-9164-84c470463722",
   "metadata": {},
   "outputs": [],
   "source": [
    " #! ' '.join((r,q)) # throw error bcoz, we can't join list and list only can be joined with strings"
   ]
  },
  {
   "cell_type": "code",
   "execution_count": 389,
   "id": "fba1e077-c858-44d5-bd50-fe8e7d3abcc0",
   "metadata": {},
   "outputs": [
    {
     "data": {
      "text/plain": [
       "'hi::hello::where::when'"
      ]
     },
     "execution_count": 389,
     "metadata": {},
     "output_type": "execute_result"
    }
   ],
   "source": [
    "'::'.join(r) # we can join with whatever we want as delimiter"
   ]
  },
  {
   "cell_type": "code",
   "execution_count": null,
   "id": "e26f6376-a129-4130-8d58-1831992d06b5",
   "metadata": {},
   "outputs": [
    {
     "data": {
      "text/plain": [
       "'i*am*siva*prasad'"
      ]
     },
     "execution_count": 74,
     "metadata": {},
     "output_type": "execute_result"
    }
   ],
   "source": [
    "'*'.join(q)"
   ]
  },
  {
   "cell_type": "code",
   "execution_count": null,
   "id": "ac356bb2",
   "metadata": {},
   "outputs": [
    {
     "name": "stdout",
     "output_type": "stream",
     "text": [
      "hihellowherewhen\n"
     ]
    },
    {
     "data": {
      "text/plain": [
       "str"
      ]
     },
     "execution_count": 75,
     "metadata": {},
     "output_type": "execute_result"
    }
   ],
   "source": [
    "# list to string conversion\n",
    "r=[\"hi\", \"hello\", \"where\", \"when\"]\n",
    "a1=''.join(r) # joins without any\n",
    "print(a1)\n",
    "type(a1)"
   ]
  },
  {
   "cell_type": "markdown",
   "id": "1f2803e1",
   "metadata": {},
   "source": [
    "#### **strip -** remove leading and trailing whitespaces(starting,ending)"
   ]
  },
  {
   "cell_type": "code",
   "execution_count": null,
   "id": "0987cc27",
   "metadata": {},
   "outputs": [
    {
     "data": {
      "text/plain": [
       "'hello python'"
      ]
     },
     "execution_count": 89,
     "metadata": {},
     "output_type": "execute_result"
    }
   ],
   "source": [
    "l1=\"  hello python   \" # first and last spaces\n",
    "l1.strip()"
   ]
  },
  {
   "cell_type": "code",
   "execution_count": null,
   "id": "acc5c4a7",
   "metadata": {},
   "outputs": [
    {
     "data": {
      "text/plain": [
       "'hello python   '"
      ]
     },
     "execution_count": 90,
     "metadata": {},
     "output_type": "execute_result"
    }
   ],
   "source": [
    "l1.lstrip() # left strip - only left side spaces removed"
   ]
  },
  {
   "cell_type": "code",
   "execution_count": null,
   "id": "59d2ae91",
   "metadata": {},
   "outputs": [
    {
     "data": {
      "text/plain": [
       "'  hello python'"
      ]
     },
     "execution_count": 91,
     "metadata": {},
     "output_type": "execute_result"
    }
   ],
   "source": [
    "l1.rstrip() # only right side spaces removed"
   ]
  },
  {
   "cell_type": "markdown",
   "id": "e232cf4d-1ec2-4ecb-9de9-31e8f78f49ec",
   "metadata": {},
   "source": [
    "#### **replace -** replace old string data with new string data"
   ]
  },
  {
   "cell_type": "code",
   "execution_count": 390,
   "id": "3d7ef916-3d08-48a4-b0d4-712834c57c83",
   "metadata": {},
   "outputs": [
    {
     "name": "stdout",
     "output_type": "stream",
     "text": [
      "good morning\n"
     ]
    },
    {
     "data": {
      "text/plain": [
       "2627158061424"
      ]
     },
     "execution_count": 390,
     "metadata": {},
     "output_type": "execute_result"
    }
   ],
   "source": [
    "s=\"good morning\"\n",
    "print(s)\n",
    "id(s)"
   ]
  },
  {
   "cell_type": "code",
   "execution_count": 391,
   "id": "56cc13b7-196d-4b72-a753-96a87eb3cb2f",
   "metadata": {},
   "outputs": [
    {
     "data": {
      "text/plain": [
       "'bad morning'"
      ]
     },
     "execution_count": 391,
     "metadata": {},
     "output_type": "execute_result"
    }
   ],
   "source": [
    "s.replace(\"good\", \"bad\") # str.replace('old word', 'new word')"
   ]
  },
  {
   "cell_type": "code",
   "execution_count": 392,
   "id": "ca213019-e6c3-4e63-9d24-00f093f90a1c",
   "metadata": {},
   "outputs": [
    {
     "name": "stdout",
     "output_type": "stream",
     "text": [
      "bad morning\n"
     ]
    },
    {
     "data": {
      "text/plain": [
       "2627141450224"
      ]
     },
     "execution_count": 392,
     "metadata": {},
     "output_type": "execute_result"
    }
   ],
   "source": [
    "s=s.replace(\"good\", \"bad\") # id & object will be changed bcoz str is immutable\n",
    "print(s)\n",
    "id(s)"
   ]
  },
  {
   "cell_type": "markdown",
   "id": "d36062d9",
   "metadata": {},
   "source": [
    "#### **str.removeprefix -** first chars"
   ]
  },
  {
   "cell_type": "code",
   "execution_count": null,
   "id": "f4c93357",
   "metadata": {},
   "outputs": [
    {
     "data": {
      "text/plain": [
       "' morning'"
      ]
     },
     "execution_count": 12,
     "metadata": {},
     "output_type": "execute_result"
    }
   ],
   "source": [
    "s.removeprefix('bad')"
   ]
  },
  {
   "cell_type": "markdown",
   "id": "492e58ec",
   "metadata": {},
   "source": [
    "**str.removesuffix -** last chars"
   ]
  },
  {
   "cell_type": "code",
   "execution_count": null,
   "id": "7f1cb2b9",
   "metadata": {},
   "outputs": [
    {
     "data": {
      "text/plain": [
       "'bad morn'"
      ]
     },
     "execution_count": 82,
     "metadata": {},
     "output_type": "execute_result"
    }
   ],
   "source": [
    "s.removesuffix('ing')"
   ]
  },
  {
   "cell_type": "markdown",
   "id": "499d706d-c998-439e-9249-10ecd41b75f4",
   "metadata": {},
   "source": [
    "## bool output type"
   ]
  },
  {
   "cell_type": "code",
   "execution_count": 394,
   "id": "848b9f6e-0724-41d0-8cd2-300eb9739cfb",
   "metadata": {},
   "outputs": [],
   "source": [
    "t='Siva1234'\n",
    "u='prasad'\n",
    "w='9866'"
   ]
  },
  {
   "cell_type": "code",
   "execution_count": 395,
   "id": "7e853249-8f20-45fc-af1b-0e3af8542ba6",
   "metadata": {},
   "outputs": [
    {
     "name": "stdout",
     "output_type": "stream",
     "text": [
      "False\n",
      "False\n",
      "True\n"
     ]
    }
   ],
   "source": [
    "print(t.isdigit()) # is it int only?\n",
    "print(u.isdigit())\n",
    "print(w.isdigit())"
   ]
  },
  {
   "cell_type": "code",
   "execution_count": 396,
   "id": "c415bc0b-df65-4945-a9a1-ad2c873e5272",
   "metadata": {},
   "outputs": [
    {
     "name": "stdout",
     "output_type": "stream",
     "text": [
      "False\n",
      "True\n",
      "False\n"
     ]
    }
   ],
   "source": [
    "print(t.isalpha()) # is it only text?\n",
    "print(u.isalpha())\n",
    "print(w.isalpha())"
   ]
  },
  {
   "cell_type": "code",
   "execution_count": 397,
   "id": "f500ee3a-beca-4d2b-90fe-b6b8c95ea89f",
   "metadata": {},
   "outputs": [
    {
     "name": "stdout",
     "output_type": "stream",
     "text": [
      "True\n",
      "True\n",
      "True\n"
     ]
    }
   ],
   "source": [
    "print(t.isalnum()) # is it alphanumeric(text or numeric)\n",
    "print(u.isalnum())\n",
    "print(w.isalnum())"
   ]
  },
  {
   "cell_type": "code",
   "execution_count": 398,
   "id": "30c6ad17-6530-4ea7-b175-d8a2eff1e389",
   "metadata": {},
   "outputs": [
    {
     "name": "stdout",
     "output_type": "stream",
     "text": [
      "False\n",
      "False\n",
      "False\n"
     ]
    }
   ],
   "source": [
    "print(t.isupper()) # is it in uppercase?\n",
    "print(u.isupper())\n",
    "print(w.isupper())"
   ]
  },
  {
   "cell_type": "code",
   "execution_count": 399,
   "id": "6d8c1876-6813-4608-8a9b-32c96c9053bd",
   "metadata": {},
   "outputs": [
    {
     "name": "stdout",
     "output_type": "stream",
     "text": [
      "True\n",
      "False\n",
      "False\n"
     ]
    }
   ],
   "source": [
    "print(t.istitle())\n",
    "print(u.istitle())\n",
    "print(w.istitle())"
   ]
  },
  {
   "cell_type": "code",
   "execution_count": 400,
   "id": "fdfb29fd-59e9-406c-9195-06da0be3c652",
   "metadata": {},
   "outputs": [
    {
     "name": "stdout",
     "output_type": "stream",
     "text": [
      "False\n",
      "True\n",
      "False\n"
     ]
    }
   ],
   "source": [
    "print(t.islower())\n",
    "print(u.islower())\n",
    "print(w.islower())"
   ]
  },
  {
   "cell_type": "code",
   "execution_count": 401,
   "id": "ac2798e0-ba9d-4a4b-b889-a040cd436c41",
   "metadata": {},
   "outputs": [
    {
     "name": "stdout",
     "output_type": "stream",
     "text": [
      "False\n",
      "False\n",
      "False\n"
     ]
    }
   ],
   "source": [
    "print(t.isspace())\n",
    "print(u.isspace())\n",
    "print(w.isspace())"
   ]
  },
  {
   "cell_type": "code",
   "execution_count": 402,
   "id": "d5d62f40-557e-4f5e-b3be-9ae9b30e98e0",
   "metadata": {},
   "outputs": [
    {
     "name": "stdout",
     "output_type": "stream",
     "text": [
      "True\n",
      "True\n",
      "False\n"
     ]
    }
   ],
   "source": [
    "print(t.endswith('1234')) \n",
    "print(u.endswith('d'))\n",
    "print(w.endswith('a'))\n",
    "\n",
    "\n",
    "# # backend code\n",
    "# print(t[-4:]=='1234')\n",
    "# print(u[-1:]=='d')\n",
    "# print(w[-1:]=='a')"
   ]
  },
  {
   "cell_type": "code",
   "execution_count": 404,
   "id": "d82cac2e",
   "metadata": {},
   "outputs": [],
   "source": [
    "# # backend code for endswith\n",
    "# t='example1234'\n",
    "# u='datad'\n",
    "# w='9866'\n",
    "\n",
    "# def endswith(string, suffix):\n",
    "# \"\"\"\n",
    "# This function checks whether the given string ends with the specified suffix.\n",
    "# :param string: The string to check.\n",
    "# :param suffix: The suffix to check for.\n",
    "# :return: True if the string ends with the suffix, False otherwise.\n",
    "# \"\"\"\n",
    "#     return string[-len(suffix):] == suffix\n",
    "\n",
    "# print(endswith(t, '1234'))  # Output: True\n",
    "# print(endswith(u, 'd'))     # Output: True\n",
    "# print(endswith(w, 'a'))     # Output: False\n",
    "# print(endswith(t, '123'))   # Output: False"
   ]
  },
  {
   "cell_type": "code",
   "execution_count": null,
   "id": "c1ea3185-69ab-4980-9ec2-9f1a95a3c845",
   "metadata": {},
   "outputs": [
    {
     "name": "stdout",
     "output_type": "stream",
     "text": [
      "True\n",
      "True\n",
      "True\n"
     ]
    }
   ],
   "source": [
    "print(t.startswith('Siva'))\n",
    "print(u.startswith('pr'))\n",
    "print(w.startswith('98'))"
   ]
  },
  {
   "cell_type": "code",
   "execution_count": null,
   "id": "d1a617cd",
   "metadata": {},
   "outputs": [
    {
     "data": {
      "text/plain": [
       "60"
      ]
     },
     "execution_count": 36,
     "metadata": {},
     "output_type": "execute_result"
    }
   ],
   "source": [
    "def add(a,b):\n",
    "    c=a+b\n",
    "    return c\n",
    "\n",
    "add(40,20)"
   ]
  },
  {
   "cell_type": "code",
   "execution_count": null,
   "id": "e053832b",
   "metadata": {},
   "outputs": [
    {
     "data": {
      "text/plain": [
       "16"
      ]
     },
     "execution_count": 37,
     "metadata": {},
     "output_type": "execute_result"
    }
   ],
   "source": [
    "pow(2,4) # 2 power 4 = 16\n",
    "# backend code is \n",
    "# def pow(a,b):\n",
    "#     c=a**b\n",
    "#     return c\n",
    "# pow(2,4)"
   ]
  },
  {
   "cell_type": "code",
   "execution_count": 403,
   "id": "39192aab",
   "metadata": {},
   "outputs": [
    {
     "name": "stdout",
     "output_type": "stream",
     "text": [
      "5\n"
     ]
    }
   ],
   "source": [
    "x='Iragamreddy Siva Prasad Reddy'\n",
    "print(x.count('a'))"
   ]
  },
  {
   "cell_type": "code",
   "execution_count": null,
   "id": "5e2b07d7",
   "metadata": {},
   "outputs": [],
   "source": []
  }
 ],
 "metadata": {
  "kernelspec": {
   "display_name": "base",
   "language": "python",
   "name": "python3"
  },
  "language_info": {
   "codemirror_mode": {
    "name": "ipython",
    "version": 3
   },
   "file_extension": ".py",
   "mimetype": "text/x-python",
   "name": "python",
   "nbconvert_exporter": "python",
   "pygments_lexer": "ipython3",
   "version": "3.12.3"
  }
 },
 "nbformat": 4,
 "nbformat_minor": 5
}
