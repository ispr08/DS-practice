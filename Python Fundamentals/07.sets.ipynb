{
 "cells": [
  {
   "cell_type": "markdown",
   "metadata": {},
   "source": [
    "# **Sets in Python**\n",
    "\n",
    "- Sets can be used to perform mathematical set operations like `union, intersection, symmetric difference etc.,`\n",
    "\n",
    "- A set is an **unordered collection (don't have index)** of `unique elements`. Sets are used to store multiple items in a single variable. \n",
    "\n",
    "- Sets are one of the built-in data structures in Python used to store collections of data, the others are List, Tuple, Dictionary, etc., all with different qualities and usage.\n",
    "\n",
    "- Don't allow duplicate values, you can mention but it can't store\n",
    "\n",
    "## Creating a Set\n",
    "- You can create a set by placing all the items (elements) inside curly braces `{}`, separated by commas, or by using the built-in `set()` function.\n",
    "- In Python, even though *two sets contain the same data, they will have different ids* because they are two distinct objects in memory.\n",
    "\n",
    "**Ex:** Unique entries(id's) and can't use again & again "
   ]
  },
  {
   "cell_type": "markdown",
   "metadata": {},
   "source": [
    "**Empty Set**"
   ]
  },
  {
   "cell_type": "code",
   "execution_count": 12,
   "metadata": {},
   "outputs": [
    {
     "name": "stdout",
     "output_type": "stream",
     "text": [
      "set()\n"
     ]
    },
    {
     "data": {
      "text/plain": [
       "2164176656352"
      ]
     },
     "execution_count": 12,
     "metadata": {},
     "output_type": "execute_result"
    }
   ],
   "source": [
    "s=set() # this is the only way to create an empty set\n",
    "print(s)\n",
    "type(s)\n",
    "id(s)"
   ]
  },
  {
   "cell_type": "code",
   "execution_count": 13,
   "metadata": {},
   "outputs": [
    {
     "name": "stdout",
     "output_type": "stream",
     "text": [
      "{1, 2, 3, 4, 5}\n",
      "<class 'set'>\n",
      "2164158751328\n",
      "{1, 2, 3, 4, 5}\n",
      "<class 'set'>\n",
      "2164158750656\n"
     ]
    }
   ],
   "source": [
    "# Creating a set\n",
    "s1 = {4,5,2,1,1, 2, 3, 4, 5} # don't allow duplicates\n",
    "print(s1)\n",
    "print(type(s1))\n",
    "print(id(s1))\n",
    "\n",
    "# Creating a set using set() function\n",
    "s2 = set((1, 2, 3, 4, 5,1,4,5,2)) # you can give any brackets [], (), {}\n",
    "print(s2)\n",
    "print(type(s2))\n",
    "print(id(s2))"
   ]
  },
  {
   "cell_type": "markdown",
   "metadata": {},
   "source": [
    "## Adding and Removing Elements\n",
    "You can add elements to a set using the `add()` method, and remove elements using the `remove()` or `discard()` methods."
   ]
  },
  {
   "cell_type": "code",
   "execution_count": null,
   "metadata": {},
   "outputs": [
    {
     "name": "stdout",
     "output_type": "stream",
     "text": [
      "{1, 2, 3, 4, 5, 9}\n",
      "{1, 2, 4, 5, 9}\n",
      "{1, 4, 5, 9}\n"
     ]
    }
   ],
   "source": [
    "# Adding elements to a set\n",
    "s1.add(9)\n",
    "print(s1)\n",
    "\n",
    "# Removing elements from a set\n",
    "s1.remove(3) #! If the element is not present, it raises a KeyError.\n",
    "print(s1)\n",
    "\n",
    "# Discarding elements from a set\n",
    "s1.discard(2) #? if the element is not present, it does not raise an error.\n",
    "print(s1)"
   ]
  },
  {
   "cell_type": "markdown",
   "metadata": {},
   "source": [
    "## Set Operations\n",
    "Sets support mathematical operations like union, intersection, difference, and symmetric difference."
   ]
  },
  {
   "cell_type": "code",
   "execution_count": 20,
   "metadata": {},
   "outputs": [
    {
     "name": "stdout",
     "output_type": "stream",
     "text": [
      "{1, 2, 3, 4, 5, 6}\n",
      "{3, 4}\n",
      "{1, 2}\n",
      "{1, 2, 5, 6}\n"
     ]
    }
   ],
   "source": [
    "# Set operations\n",
    "set_a = {1, 2, 3, 4}\n",
    "set_b = {3, 4, 5, 6}\n",
    "\n",
    "# Union: all elements from both sets & no duplicates\n",
    "# print(set_a | set_b)\n",
    "print(set_a.union(set_b))\n",
    "\n",
    "# Intersection: common elements between two sets\n",
    "# print(set_a & set_b)\n",
    "print(set_a.intersection(set_b))\n",
    "\n",
    "# Difference: elements that are in set_a but not in set_b\n",
    "# print(set_a - set_b)\n",
    "print(set_a.difference(set_b))\n",
    "\n",
    "# Symmetric Difference: elements that are in set_a or set_b but not common in both\n",
    "# print(set_a ^ set_b)\n",
    "print(set_a.symmetric_difference(set_b))"
   ]
  },
  {
   "cell_type": "markdown",
   "metadata": {},
   "source": [
    "## Set Methods\n",
    "Here are some common set methods:\n",
    "- `add()`: Adds an element to the set\n",
    "- `remove()`: Removes an element from the set; raises KeyError if the element is not found\n",
    "- `discard()`: Removes an element from the set if it is a member. If the element is not a member, do nothing\n",
    "- `clear()`: Removes all elements from the set\n",
    "- `copy()`: Returns a copy of the set\n",
    "- `pop()`: Removes and returns an arbitrary element from the set; raises KeyError if the set is empty\n",
    "- `update()`: Updates the set with the union of itself and others"
   ]
  },
  {
   "cell_type": "code",
   "execution_count": 36,
   "metadata": {},
   "outputs": [
    {
     "name": "stdout",
     "output_type": "stream",
     "text": [
      "{1, 2, 3, 4}\n"
     ]
    }
   ],
   "source": [
    "# Demonstrating set methods\n",
    "set_c = {1, 2, 3}\n",
    "\n",
    "# add()\n",
    "set_c.add(4)\n",
    "print(set_c)"
   ]
  },
  {
   "cell_type": "code",
   "execution_count": 37,
   "metadata": {},
   "outputs": [
    {
     "name": "stdout",
     "output_type": "stream",
     "text": [
      "{1, 3, 4}\n"
     ]
    }
   ],
   "source": [
    "# remove() - removes through index\n",
    "set_c.remove(2)\n",
    "print(set_c)"
   ]
  },
  {
   "cell_type": "code",
   "execution_count": 38,
   "metadata": {},
   "outputs": [
    {
     "name": "stdout",
     "output_type": "stream",
     "text": [
      "{1, 4}\n"
     ]
    }
   ],
   "source": [
    "# discard()\n",
    "set_c.discard(3)\n",
    "print(set_c)"
   ]
  },
  {
   "cell_type": "code",
   "execution_count": 39,
   "metadata": {},
   "outputs": [
    {
     "name": "stdout",
     "output_type": "stream",
     "text": [
      "set()\n"
     ]
    }
   ],
   "source": [
    "# clear()\n",
    "set_c.clear()\n",
    "print(set_c)"
   ]
  },
  {
   "cell_type": "code",
   "execution_count": 67,
   "metadata": {},
   "outputs": [
    {
     "name": "stdout",
     "output_type": "stream",
     "text": [
      "{5, 6, 7}\n"
     ]
    }
   ],
   "source": [
    "# copy()-actually this is global copy\n",
    "set_d = {5, 6, 7}\n",
    "set_e = set_d.copy()\n",
    "print(set_e)"
   ]
  },
  {
   "cell_type": "code",
   "execution_count": 68,
   "metadata": {},
   "outputs": [
    {
     "name": "stdout",
     "output_type": "stream",
     "text": [
      "5\n",
      "{6, 7}\n"
     ]
    }
   ],
   "source": [
    "# pop()\n",
    "print(set_d.pop()) # here the action is done, we print the popped element\n",
    "print(set_d)"
   ]
  },
  {
   "cell_type": "code",
   "execution_count": 74,
   "metadata": {},
   "outputs": [
    {
     "name": "stdout",
     "output_type": "stream",
     "text": [
      "{'s', 6, 7, 8, 9}\n"
     ]
    }
   ],
   "source": [
    "# update()\n",
    "set_d.update({8, 9}) # only mention elements in any iterable form\n",
    "print(set_d)"
   ]
  },
  {
   "cell_type": "code",
   "execution_count": 75,
   "metadata": {},
   "outputs": [
    {
     "name": "stdout",
     "output_type": "stream",
     "text": [
      "{'s', 6, 7, 8, 9}\n"
     ]
    }
   ],
   "source": [
    "set_d.update(['s'])\n",
    "print(set_d)"
   ]
  },
  {
   "cell_type": "code",
   "execution_count": 77,
   "metadata": {},
   "outputs": [
    {
     "data": {
      "text/plain": [
       "{6, 7, 8, 9, 's'}"
      ]
     },
     "execution_count": 77,
     "metadata": {},
     "output_type": "execute_result"
    }
   ],
   "source": [
    "set_d # we need to remember that set has contain only unique elements so it will not add 's' again & again"
   ]
  },
  {
   "cell_type": "code",
   "execution_count": 85,
   "metadata": {},
   "outputs": [
    {
     "name": "stdout",
     "output_type": "stream",
     "text": [
      "False\n",
      "True\n",
      "False\n"
     ]
    }
   ],
   "source": [
    "set_f = {1, 2, 3}\n",
    "set_g = {1, 2, 3, 4, 5, 6}\n",
    "\n",
    "# isdisjoint(): returns True if two sets have a null intersection\n",
    "print(set_f.isdisjoint(set_g))\n",
    "\n",
    "# issubset(): returns True if all elements of set_f are present in set_g\n",
    "print(set_f.issubset(set_g))\n",
    "\n",
    "# issuperset(): returns True if set_f has all elements of set_g \n",
    "print(set_f.issuperset(set_g))"
   ]
  },
  {
   "cell_type": "code",
   "execution_count": 87,
   "metadata": {},
   "outputs": [
    {
     "name": "stdout",
     "output_type": "stream",
     "text": [
      "Your input values [5, 6, 7, 8]\n",
      "\n",
      "{1, 2, 3, 4, 5, 6, 7, 8}\n"
     ]
    }
   ],
   "source": [
    "set_c = {1, 2, 3, 4}\n",
    "u_input = list(eval(input(\"entere the values you want to add with ',': \")))\n",
    "for i in u_input:\n",
    "    set_c.add(i)\n",
    "print(f\"Your input values {u_input}\\n\")    \n",
    "print(set_c)"
   ]
  },
  {
   "cell_type": "code",
   "execution_count": null,
   "metadata": {},
   "outputs": [],
   "source": []
  }
 ],
 "metadata": {
  "kernelspec": {
   "display_name": "base",
   "language": "python",
   "name": "python3"
  },
  "language_info": {
   "codemirror_mode": {
    "name": "ipython",
    "version": 3
   },
   "file_extension": ".py",
   "mimetype": "text/x-python",
   "name": "python",
   "nbconvert_exporter": "python",
   "pygments_lexer": "ipython3",
   "version": "3.12.3"
  }
 },
 "nbformat": 4,
 "nbformat_minor": 4
}
