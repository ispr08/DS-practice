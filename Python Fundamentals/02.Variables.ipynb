{
 "cells": [
  {
   "cell_type": "markdown",
   "id": "d65968d3-abfb-4d5d-b38f-0f0959955062",
   "metadata": {},
   "source": [
    "# Variables\n",
    "- A named reference that stores a value in memory. It acts as a label for that value, allowing you to access and manipulate it throughout your code.\n",
    "- Variables can hold different types of data, such as numbers, strings, lists, and more.\n",
    "- In Python, variables are dynamic (we don't need to declare the datatype of the variable).\n",
    "\n",
    "## Variable Naming Rules\n",
    "\n",
    "- **Rule 1**: A variable must start with a letter.\n",
    "- **Rule 2**: A variable name can only contain alphanumeric characters (e.g., `var48`, `siva9866`).\n",
    "- **Rule 3**: A variable name can't start with a number.\n",
    "- **Rule 4**: A variable accepts only the underscore (`_`) symbol; other symbols like `@`, `$`, `%`, `^`, `*`, etc., are not accepted.\n",
    "- **Rule 5**: Variables are case-sensitive (`name`, `Name`, and `NAME` are three different variables).\n",
    "- **Rule 6**: A variable name can't be one of Python's `reserved keywords`.\n",
    "\n",
    "## List of Reserved Keywords:\n",
    "['False', 'None', 'True', 'and', 'as', 'assert', 'async', 'await', 'break', 'class', 'continue', 'def', 'del', 'elif', 'else', 'except', 'finally', 'for', 'from', 'global', 'if', 'import', 'in', 'is', 'lambda', 'nonlocal', 'not', 'or', 'pass', 'raise', 'return', 'try', 'while', 'with', 'yield']\n",
    "\n",
    "\n",
    "**Ex: a = 8**\n",
    "\n",
    "***a*** ----> Variable (name) also called 'Identifier'\n",
    "\n",
    "***8*** ----> value (stored) also called 'Literal'\n",
    "\n",
    "## Best Practices\n",
    "\n",
    "- **camelcase**\n",
    "\n",
    "- **snake_case**\n",
    "\n",
    "- **PascalCase**"
   ]
  },
  {
   "cell_type": "code",
   "execution_count": 6,
   "id": "6ceadbd7-90d7-43f6-9532-4498b1929ac1",
   "metadata": {},
   "outputs": [
    {
     "name": "stdout",
     "output_type": "stream",
     "text": [
      "['False', 'None', 'True', 'and', 'as', 'assert', 'async', 'await', 'break', 'class', 'continue', 'def', 'del', 'elif', 'else', 'except', 'finally', 'for', 'from', 'global', 'if', 'import', 'in', 'is', 'lambda', 'nonlocal', 'not', 'or', 'pass', 'raise', 'return', 'try', 'while', 'with', 'yield']\n"
     ]
    }
   ],
   "source": [
    "import keyword\n",
    "print(keyword.kwlist)"
   ]
  },
  {
   "cell_type": "markdown",
   "id": "eb4fa94f-4f29-45f6-a9ba-fb705611d6dc",
   "metadata": {},
   "source": [
    "**In Jupyter cell, always the last line will be printed or stored(assigned)**"
   ]
  },
  {
   "cell_type": "code",
   "execution_count": 7,
   "id": "350d3220-b804-4e3c-850f-8510af3eb90b",
   "metadata": {},
   "outputs": [],
   "source": [
    "# storing value in variable so i can reuse everywhere\n",
    "a=8"
   ]
  },
  {
   "cell_type": "markdown",
   "id": "f41c2486-7743-49ec-a985-fc8c18b3a4fa",
   "metadata": {},
   "source": [
    "- In python, it stores only latest value assigned to same variable"
   ]
  },
  {
   "cell_type": "code",
   "execution_count": 8,
   "id": "fab320d0-3cf7-409d-86bd-ca324300a6b0",
   "metadata": {},
   "outputs": [
    {
     "data": {
      "text/plain": [
       "24"
      ]
     },
     "execution_count": 8,
     "metadata": {},
     "output_type": "execute_result"
    }
   ],
   "source": [
    "a=24\n",
    "a"
   ]
  },
  {
   "cell_type": "code",
   "execution_count": 9,
   "id": "e4139a24-77d2-47e9-997f-416ee66899cc",
   "metadata": {},
   "outputs": [],
   "source": [
    "# we cant use 0(zero) before value\n",
    "#! a=01"
   ]
  },
  {
   "cell_type": "code",
   "execution_count": 10,
   "id": "3f8b49a6-4a89-402e-977c-bb122d93fb6c",
   "metadata": {},
   "outputs": [
    {
     "data": {
      "text/plain": [
       "4.2"
      ]
     },
     "execution_count": 10,
     "metadata": {},
     "output_type": "execute_result"
    }
   ],
   "source": [
    "A = 4.2\n",
    "A"
   ]
  },
  {
   "cell_type": "code",
   "execution_count": 11,
   "id": "f40cbbe7-5819-447c-b037-3ed7a43282eb",
   "metadata": {},
   "outputs": [],
   "source": [
    "Aa46=\"siva\""
   ]
  },
  {
   "cell_type": "code",
   "execution_count": 12,
   "id": "f14122fc-242e-42f6-893a-6821cecaad67",
   "metadata": {},
   "outputs": [
    {
     "data": {
      "text/plain": [
       "'hai'"
      ]
     },
     "execution_count": 12,
     "metadata": {},
     "output_type": "execute_result"
    }
   ],
   "source": [
    "a_1=\"hai\"\n",
    "a_1"
   ]
  },
  {
   "cell_type": "code",
   "execution_count": 13,
   "id": "530164c9-5a4f-4761-8869-78277275ffce",
   "metadata": {},
   "outputs": [
    {
     "data": {
      "text/plain": [
       "'siva'"
      ]
     },
     "execution_count": 13,
     "metadata": {},
     "output_type": "execute_result"
    }
   ],
   "source": [
    "\"siva\" #print(\"siva\")"
   ]
  },
  {
   "cell_type": "code",
   "execution_count": 14,
   "id": "d85f2a9e-9a73-4386-bbaa-ed762bf350e7",
   "metadata": {},
   "outputs": [
    {
     "data": {
      "text/plain": [
       "48"
      ]
     },
     "execution_count": 14,
     "metadata": {},
     "output_type": "execute_result"
    }
   ],
   "source": [
    "48 #print(48)"
   ]
  },
  {
   "cell_type": "code",
   "execution_count": 15,
   "id": "82026640-2d04-42f3-8bdc-ceac73659d5e",
   "metadata": {},
   "outputs": [
    {
     "name": "stdout",
     "output_type": "stream",
     "text": [
      "abcd 48 22.08 Hello True False\n"
     ]
    }
   ],
   "source": [
    "print(\"abcd\",48,22.08,\"Hello\",True,False) # by defualt it give space for comma"
   ]
  },
  {
   "cell_type": "code",
   "execution_count": 16,
   "id": "d22700b0-7b93-4bf3-a62f-8dca9e446ca6",
   "metadata": {},
   "outputs": [
    {
     "name": "stdout",
     "output_type": "stream",
     "text": [
      "4554\n",
      "x\n"
     ]
    }
   ],
   "source": [
    "x=4554\n",
    "print(x)\n",
    "print(\"x\")"
   ]
  },
  {
   "cell_type": "markdown",
   "id": "f78ba304-3e94-467a-8fb1-24cf6aaecd88",
   "metadata": {},
   "source": [
    "# Private Variables in Python\n",
    "- A private variable is a variable that is intended to be accessed only within a class or object. It is a way to `hide data` from the outside world.\n",
    "## Accessing Private Variables\n",
    "\n",
    "You can't access private variables directly from outside the class. Instead, you need to use public methods or getters/setters to access or modify them."
   ]
  },
  {
   "cell_type": "code",
   "execution_count": 17,
   "id": "8be09724-90a4-4638-a9d5-a3ae88e5f15c",
   "metadata": {},
   "outputs": [],
   "source": [
    "# private var\n",
    "_p1=\"sens\""
   ]
  },
  {
   "cell_type": "markdown",
   "id": "c20b9796-3b58-48f3-bd9f-a60551549d13",
   "metadata": {},
   "source": [
    "## Errors"
   ]
  },
  {
   "cell_type": "code",
   "execution_count": null,
   "id": "30f59e80-223e-4b9b-ae03-fc03d7a0467e",
   "metadata": {},
   "outputs": [],
   "source": [
    " #! 1a= 'siva@1234'   # error causes by don't follow the rule"
   ]
  },
  {
   "cell_type": "code",
   "execution_count": 20,
   "id": "24bbbeea-7ece-4322-a7f4-5278417fc183",
   "metadata": {},
   "outputs": [],
   "source": [
    " #! if = 'abcd'    # error causes by don't follow the rule"
   ]
  },
  {
   "cell_type": "markdown",
   "id": "709350b2-d196-4b75-b0d3-2efbb32ce487",
   "metadata": {},
   "source": [
    "## Lets assign multiple values to multiple variables"
   ]
  },
  {
   "cell_type": "code",
   "execution_count": 21,
   "id": "fb78ca90-e11e-4704-a5c9-3b58f592ba81",
   "metadata": {},
   "outputs": [],
   "source": [
    "# multiple values to multiple variables\n",
    "a,b,c,d=1,2,3,4"
   ]
  },
  {
   "cell_type": "code",
   "execution_count": 22,
   "id": "07d44b4e-4667-484b-9574-cf69c3d1e191",
   "metadata": {},
   "outputs": [],
   "source": [
    "a,b,c,d=\"iragamreddy\",\"siva\",\"prasad\",\"reddy\""
   ]
  },
  {
   "cell_type": "code",
   "execution_count": 23,
   "id": "08a42ac7-8656-4bdc-9f25-fc98063d593d",
   "metadata": {},
   "outputs": [],
   "source": [
    "# same value to multiple variables\n",
    "a=b=c=d=8"
   ]
  },
  {
   "cell_type": "code",
   "execution_count": 24,
   "id": "2a1af5c0-a1ed-4779-824c-fffaf4cbaf65",
   "metadata": {},
   "outputs": [],
   "source": [
    "a=b=c=d=\"AI & ML\""
   ]
  },
  {
   "cell_type": "code",
   "execution_count": 28,
   "id": "024e9302",
   "metadata": {},
   "outputs": [
    {
     "data": {
      "text/plain": [
       "tuple"
      ]
     },
     "execution_count": 28,
     "metadata": {},
     "output_type": "execute_result"
    }
   ],
   "source": [
    "a=1,2,3,4 # we can assign multiple values to single variable but it will store in tuple format\n",
    "type(a)"
   ]
  },
  {
   "cell_type": "markdown",
   "id": "f0084ac8-2b55-4e38-a317-e97500ee2475",
   "metadata": {},
   "source": [
    "# Storage Location\n",
    "\n",
    "In Python, small integer values (usually from -5 to 256) are ***interned*** by default. This means that if two variables hold the same small integer value, they will actually refer to the same memory location (i.e., they point to the same object). For memory optimization"
   ]
  },
  {
   "cell_type": "code",
   "execution_count": 29,
   "id": "71feee59-69dd-407f-8b4f-30dcbae59d1f",
   "metadata": {},
   "outputs": [
    {
     "data": {
      "text/plain": [
       "140736064674456"
      ]
     },
     "execution_count": 29,
     "metadata": {},
     "output_type": "execute_result"
    }
   ],
   "source": [
    "a = 8\n",
    "id(a)"
   ]
  },
  {
   "cell_type": "code",
   "execution_count": 30,
   "id": "2029ce41-a34c-44f7-a233-2e96c98c1da1",
   "metadata": {},
   "outputs": [
    {
     "data": {
      "text/plain": [
       "140736064674456"
      ]
     },
     "execution_count": 30,
     "metadata": {},
     "output_type": "execute_result"
    }
   ],
   "source": [
    "b = 8\n",
    "id(b)"
   ]
  },
  {
   "cell_type": "markdown",
   "id": "9d6b79fa-eb7f-4e5a-8782-ea114bad1b60",
   "metadata": {},
   "source": [
    "**Strings** also follow a similar ***interning mechanism*** for optimization, but with some important differences compared to integers.\n",
    "\n",
    "**String Interning in Python:**\n",
    "Short strings (especially those containing only `alphanumeric characters` and `underscores`) are interned by default, meaning multiple variables with the same short string may point to the same memory location.\n",
    "\n",
    "Longer or more complex strings (with `special characters`, `spaces`, or `non-alphanumeric content`) are typically not interned by default."
   ]
  },
  {
   "cell_type": "code",
   "execution_count": 31,
   "id": "0a77eb1d-c558-4a9c-b48b-256583055c0a",
   "metadata": {},
   "outputs": [
    {
     "name": "stdout",
     "output_type": "stream",
     "text": [
      "1783381100464\n",
      "1783381100464\n"
     ]
    }
   ],
   "source": [
    "a=\"siva_prasad\" # underscore\n",
    "b=\"siva_prasad\"\n",
    "print(id(a))\n",
    "print(id(b))"
   ]
  },
  {
   "cell_type": "code",
   "execution_count": 32,
   "id": "26b96086-a239-46cb-8cd5-ba9f293af533",
   "metadata": {},
   "outputs": [
    {
     "name": "stdout",
     "output_type": "stream",
     "text": [
      "1783380846000\n",
      "1783380850736\n"
     ]
    }
   ],
   "source": [
    "# also remember in python always the latest value will be stored for same variable name.\n",
    "a=\"siva prasad\" # space is there\n",
    "b=\"siva prasad\"\n",
    "print(id(a))\n",
    "print(id(b))\n"
   ]
  },
  {
   "cell_type": "markdown",
   "id": "f3f3cb41-dda2-40cc-933f-c9ff4e3c5b83",
   "metadata": {},
   "source": [
    "# Delete Variable\n",
    "- when we delete variable the entire object will be deletes from memory."
   ]
  },
  {
   "cell_type": "code",
   "execution_count": 38,
   "id": "5ff74c48-8322-42bc-888f-172cc41f3fc4",
   "metadata": {},
   "outputs": [
    {
     "name": "stdout",
     "output_type": "stream",
     "text": [
      "10\n"
     ]
    }
   ],
   "source": [
    "t=10\n",
    "print(t)"
   ]
  },
  {
   "cell_type": "code",
   "execution_count": 39,
   "id": "48325b85-0f3a-48c2-acfc-fbd39ddce35f",
   "metadata": {},
   "outputs": [],
   "source": [
    "del t # deleted 't' var\n",
    "#? print(t) # now interpreter dont know what is the value of 't'"
   ]
  },
  {
   "cell_type": "code",
   "execution_count": 40,
   "id": "31acb544-3014-4822-a878-9ae89a6013a6",
   "metadata": {},
   "outputs": [],
   "source": [
    "a=1\n",
    "b=2\n",
    "c=3\n",
    "d=4\n",
    "e=5\n",
    "f=6\n",
    "\n",
    "del a,b # to del multiple vars at a time"
   ]
  },
  {
   "cell_type": "code",
   "execution_count": 44,
   "id": "4cdfd54d-af1d-4aa7-ba60-db04edca01a0",
   "metadata": {},
   "outputs": [
    {
     "name": "stdout",
     "output_type": "stream",
     "text": [
      "3 4 5 6\n"
     ]
    }
   ],
   "source": [
    "print(c,d,e,f)"
   ]
  },
  {
   "cell_type": "code",
   "execution_count": 45,
   "id": "b2a9c488-dcee-4ade-afd1-a11bcba97b03",
   "metadata": {},
   "outputs": [],
   "source": [
    "# print(a,b,c,d,e,f) #? it throws error because a,b are deleted"
   ]
  },
  {
   "cell_type": "markdown",
   "id": "9c943939-686e-4059-ad64-585500ae44c4",
   "metadata": {},
   "source": [
    "\n",
    "- writing code is different\n",
    "- object creation is different (happens after only execute the code\n",
    "\n",
    "\n",
    "-------------------------------\n",
    "|       Writing Code           |\n",
    "-------------------------------\n",
    "|    Code is written but       |\n",
    "|    no objects are created    |\n",
    "|    until the code is run.    |\n",
    "-------------------------------\n",
    "\n",
    "            ↓ Execution\n",
    "\n",
    "-------------------------------\n",
    "|      Object Creation         |\n",
    "-------------------------------\n",
    "|    Happens only when the     |\n",
    "|    code is executed.         |\n",
    "|    Objects are created       |\n",
    "|    dynamically as needed.    |\n",
    "--------------------\n"
   ]
  },
  {
   "cell_type": "markdown",
   "id": "beaa9140-7c9a-4cb7-adde-73e4faa1c834",
   "metadata": {},
   "source": [
    "**Key Points:**\n",
    "\n",
    "- *Writing Code:* Simply placing code in a file doesn't create any objects yet. It’s just instructions for the interpreter to process later.\n",
    "\n",
    "- *Object Creation:* Once the code is executed (run), objects are created dynamically in memory, only when the interpreter reaches the code that requires them."
   ]
  },
  {
   "cell_type": "code",
   "execution_count": null,
   "id": "a5460a43-7b10-4bf3-a347-14c80d5c6d52",
   "metadata": {},
   "outputs": [],
   "source": [
    "# Code is written here but no object is created yet. I ddn't execute the cell.\n",
    "j = 5"
   ]
  },
  {
   "cell_type": "code",
   "execution_count": 46,
   "id": "d7882bb4-1e83-4379-a7cd-781a8ef27a36",
   "metadata": {},
   "outputs": [
    {
     "ename": "NameError",
     "evalue": "name 'j' is not defined",
     "output_type": "error",
     "traceback": [
      "\u001b[1;31m---------------------------------------------------------------------------\u001b[0m",
      "\u001b[1;31mNameError\u001b[0m                                 Traceback (most recent call last)",
      "Cell \u001b[1;32mIn[46], line 1\u001b[0m\n\u001b[1;32m----> 1\u001b[0m j\n",
      "\u001b[1;31mNameError\u001b[0m: name 'j' is not defined"
     ]
    }
   ],
   "source": [
    "j"
   ]
  },
  {
   "cell_type": "code",
   "execution_count": null,
   "id": "72d46ec9-1215-4d86-bfc1-4b3a8c9a6391",
   "metadata": {},
   "outputs": [],
   "source": []
  }
 ],
 "metadata": {
  "kernelspec": {
   "display_name": "base",
   "language": "python",
   "name": "python3"
  },
  "language_info": {
   "codemirror_mode": {
    "name": "ipython",
    "version": 3
   },
   "file_extension": ".py",
   "mimetype": "text/x-python",
   "name": "python",
   "nbconvert_exporter": "python",
   "pygments_lexer": "ipython3",
   "version": "3.12.3"
  }
 },
 "nbformat": 4,
 "nbformat_minor": 5
}
